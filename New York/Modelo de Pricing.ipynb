{
 "cells": [
  {
   "cell_type": "markdown",
   "metadata": {},
   "source": [
    "# Modelo de tarifación Airbnb en New York"
   ]
  },
  {
   "cell_type": "markdown",
   "metadata": {},
   "source": [
    "Modificado en Nov 3, 2020"
   ]
  },
  {
   "cell_type": "code",
   "execution_count": 1,
   "metadata": {},
   "outputs": [
    {
     "name": "stdout",
     "output_type": "stream",
     "text": [
      "2.1.0\n"
     ]
    }
   ],
   "source": [
    "import matplotlib.pyplot as plt\n",
    "import pandas as pd\n",
    "import seaborn as sns\n",
    "import tensorflow as tf\n",
    "from tensorflow import keras\n",
    "from tensorflow.keras import layers\n",
    "from tensorflow.keras.utils import plot_model\n",
    "from tensorflow.keras.utils import to_categorical\n",
    "from sklearn.preprocessing import StandardScaler\n",
    "from sklearn.preprocessing import MinMaxScaler\n",
    "from tensorflow.keras.optimizers import Adam\n",
    "from tensorflow.keras import models, layers, optimizers, regularizers\n",
    "from numpy.random import seed\n",
    "from sklearn.metrics import explained_variance_score, mean_squared_error, r2_score\n",
    "import time\n",
    "import math\n",
    "import numpy as np\n",
    "seed(123)\n",
    "print(tf.__version__)"
   ]
  },
  {
   "cell_type": "markdown",
   "metadata": {},
   "source": [
    "## Dataset de entrada"
   ]
  },
  {
   "cell_type": "code",
   "execution_count": 2,
   "metadata": {},
   "outputs": [
    {
     "name": "stdout",
     "output_type": "stream",
     "text": [
      "El dataset de entrada contiene 32 columnas y 35113 filas\n"
     ]
    }
   ],
   "source": [
    "dataset=pd.read_csv('C:\\\\Users\\\\Andrea\\\\Desktop\\\\Datasets\\\\Airbnb NY\\\\Listings_clean.csv')\n",
    "print('El dataset de entrada contiene', len(dataset.columns), 'columnas', 'y', len(dataset), 'filas')"
   ]
  },
  {
   "cell_type": "code",
   "execution_count": 3,
   "metadata": {},
   "outputs": [],
   "source": [
    "dataset=dataset[(dataset['price']<1000) & (dataset['price']>0)]"
   ]
  },
  {
   "cell_type": "code",
   "execution_count": 4,
   "metadata": {},
   "outputs": [
    {
     "data": {
      "text/plain": [
       "(34954, 32)"
      ]
     },
     "execution_count": 4,
     "metadata": {},
     "output_type": "execute_result"
    }
   ],
   "source": [
    "dataset.shape"
   ]
  },
  {
   "cell_type": "code",
   "execution_count": 5,
   "metadata": {},
   "outputs": [
    {
     "data": {
      "text/html": [
       "<div>\n",
       "<style scoped>\n",
       "    .dataframe tbody tr th:only-of-type {\n",
       "        vertical-align: middle;\n",
       "    }\n",
       "\n",
       "    .dataframe tbody tr th {\n",
       "        vertical-align: top;\n",
       "    }\n",
       "\n",
       "    .dataframe thead th {\n",
       "        text-align: right;\n",
       "    }\n",
       "</style>\n",
       "<table border=\"1\" class=\"dataframe\">\n",
       "  <thead>\n",
       "    <tr style=\"text-align: right;\">\n",
       "      <th></th>\n",
       "      <th>Unnamed: 0</th>\n",
       "      <th>id</th>\n",
       "      <th>host_is_superhost</th>\n",
       "      <th>host_listings_count</th>\n",
       "      <th>host_has_profile_pic</th>\n",
       "      <th>host_identity_verified</th>\n",
       "      <th>latitude</th>\n",
       "      <th>longitude</th>\n",
       "      <th>accommodates</th>\n",
       "      <th>bathrooms_text</th>\n",
       "      <th>amenities</th>\n",
       "      <th>price</th>\n",
       "      <th>minimum_nights</th>\n",
       "      <th>maximum_nights</th>\n",
       "      <th>has_availability</th>\n",
       "      <th>availability_30</th>\n",
       "      <th>availability_60</th>\n",
       "      <th>availability_90</th>\n",
       "      <th>availability_365</th>\n",
       "      <th>number_of_reviews</th>\n",
       "      <th>instant_bookable</th>\n",
       "      <th>calculated_host_listings_count</th>\n",
       "      <th>reviews_per_month</th>\n",
       "      <th>Apartment</th>\n",
       "      <th>House</th>\n",
       "      <th>Other</th>\n",
       "      <th>Room</th>\n",
       "      <th>Entire home/apt</th>\n",
       "      <th>Private room</th>\n",
       "      <th>Shared room</th>\n",
       "      <th>Private</th>\n",
       "      <th>Shared</th>\n",
       "    </tr>\n",
       "  </thead>\n",
       "  <tbody>\n",
       "    <tr>\n",
       "      <th>0</th>\n",
       "      <td>0</td>\n",
       "      <td>2595</td>\n",
       "      <td>0.0</td>\n",
       "      <td>6.0</td>\n",
       "      <td>1.0</td>\n",
       "      <td>1.0</td>\n",
       "      <td>40.75362</td>\n",
       "      <td>-73.98377</td>\n",
       "      <td>2</td>\n",
       "      <td>1 bath</td>\n",
       "      <td>[\"Iron\", \"Cleaning before checkout\", \"Extra pi...</td>\n",
       "      <td>175.0</td>\n",
       "      <td>3</td>\n",
       "      <td>1125</td>\n",
       "      <td>1</td>\n",
       "      <td>30</td>\n",
       "      <td>60</td>\n",
       "      <td>90</td>\n",
       "      <td>365</td>\n",
       "      <td>48</td>\n",
       "      <td>0</td>\n",
       "      <td>2</td>\n",
       "      <td>0.37</td>\n",
       "      <td>1</td>\n",
       "      <td>0</td>\n",
       "      <td>0</td>\n",
       "      <td>0</td>\n",
       "      <td>1</td>\n",
       "      <td>0</td>\n",
       "      <td>0</td>\n",
       "      <td>1</td>\n",
       "      <td>0</td>\n",
       "    </tr>\n",
       "    <tr>\n",
       "      <th>1</th>\n",
       "      <td>1</td>\n",
       "      <td>3831</td>\n",
       "      <td>0.0</td>\n",
       "      <td>1.0</td>\n",
       "      <td>1.0</td>\n",
       "      <td>1.0</td>\n",
       "      <td>40.68514</td>\n",
       "      <td>-73.95976</td>\n",
       "      <td>3</td>\n",
       "      <td>1 bath</td>\n",
       "      <td>[\"Iron\", \"Extra pillows and blankets\", \"Smoke ...</td>\n",
       "      <td>76.0</td>\n",
       "      <td>1</td>\n",
       "      <td>730</td>\n",
       "      <td>1</td>\n",
       "      <td>13</td>\n",
       "      <td>30</td>\n",
       "      <td>51</td>\n",
       "      <td>272</td>\n",
       "      <td>349</td>\n",
       "      <td>0</td>\n",
       "      <td>1</td>\n",
       "      <td>4.82</td>\n",
       "      <td>0</td>\n",
       "      <td>0</td>\n",
       "      <td>1</td>\n",
       "      <td>0</td>\n",
       "      <td>1</td>\n",
       "      <td>0</td>\n",
       "      <td>0</td>\n",
       "      <td>1</td>\n",
       "      <td>0</td>\n",
       "    </tr>\n",
       "    <tr>\n",
       "      <th>...</th>\n",
       "      <td>...</td>\n",
       "      <td>...</td>\n",
       "      <td>...</td>\n",
       "      <td>...</td>\n",
       "      <td>...</td>\n",
       "      <td>...</td>\n",
       "      <td>...</td>\n",
       "      <td>...</td>\n",
       "      <td>...</td>\n",
       "      <td>...</td>\n",
       "      <td>...</td>\n",
       "      <td>...</td>\n",
       "      <td>...</td>\n",
       "      <td>...</td>\n",
       "      <td>...</td>\n",
       "      <td>...</td>\n",
       "      <td>...</td>\n",
       "      <td>...</td>\n",
       "      <td>...</td>\n",
       "      <td>...</td>\n",
       "      <td>...</td>\n",
       "      <td>...</td>\n",
       "      <td>...</td>\n",
       "      <td>...</td>\n",
       "      <td>...</td>\n",
       "      <td>...</td>\n",
       "      <td>...</td>\n",
       "      <td>...</td>\n",
       "      <td>...</td>\n",
       "      <td>...</td>\n",
       "      <td>...</td>\n",
       "      <td>...</td>\n",
       "    </tr>\n",
       "    <tr>\n",
       "      <th>35111</th>\n",
       "      <td>45613</td>\n",
       "      <td>45250981</td>\n",
       "      <td>0.0</td>\n",
       "      <td>1.0</td>\n",
       "      <td>1.0</td>\n",
       "      <td>1.0</td>\n",
       "      <td>40.77081</td>\n",
       "      <td>-73.92718</td>\n",
       "      <td>2</td>\n",
       "      <td>1 bath</td>\n",
       "      <td>[\"Laptop-friendly workspace\", \"Carbon monoxide...</td>\n",
       "      <td>83.0</td>\n",
       "      <td>3</td>\n",
       "      <td>10</td>\n",
       "      <td>1</td>\n",
       "      <td>5</td>\n",
       "      <td>5</td>\n",
       "      <td>5</td>\n",
       "      <td>5</td>\n",
       "      <td>1</td>\n",
       "      <td>0</td>\n",
       "      <td>1</td>\n",
       "      <td>1.00</td>\n",
       "      <td>1</td>\n",
       "      <td>0</td>\n",
       "      <td>0</td>\n",
       "      <td>0</td>\n",
       "      <td>1</td>\n",
       "      <td>0</td>\n",
       "      <td>0</td>\n",
       "      <td>1</td>\n",
       "      <td>0</td>\n",
       "    </tr>\n",
       "    <tr>\n",
       "      <th>35112</th>\n",
       "      <td>45695</td>\n",
       "      <td>45290019</td>\n",
       "      <td>1.0</td>\n",
       "      <td>11.0</td>\n",
       "      <td>1.0</td>\n",
       "      <td>1.0</td>\n",
       "      <td>40.65846</td>\n",
       "      <td>-73.96106</td>\n",
       "      <td>3</td>\n",
       "      <td>1 bath</td>\n",
       "      <td>[\"Laptop-friendly workspace\", \"Iron\", \"Carbon ...</td>\n",
       "      <td>79.0</td>\n",
       "      <td>1</td>\n",
       "      <td>30</td>\n",
       "      <td>1</td>\n",
       "      <td>26</td>\n",
       "      <td>56</td>\n",
       "      <td>85</td>\n",
       "      <td>85</td>\n",
       "      <td>1</td>\n",
       "      <td>1</td>\n",
       "      <td>1</td>\n",
       "      <td>1.00</td>\n",
       "      <td>1</td>\n",
       "      <td>0</td>\n",
       "      <td>0</td>\n",
       "      <td>0</td>\n",
       "      <td>1</td>\n",
       "      <td>0</td>\n",
       "      <td>0</td>\n",
       "      <td>1</td>\n",
       "      <td>0</td>\n",
       "    </tr>\n",
       "  </tbody>\n",
       "</table>\n",
       "<p>34954 rows × 32 columns</p>\n",
       "</div>"
      ],
      "text/plain": [
       "       Unnamed: 0        id  host_is_superhost  host_listings_count  \\\n",
       "0               0      2595                0.0                  6.0   \n",
       "1               1      3831                0.0                  1.0   \n",
       "...           ...       ...                ...                  ...   \n",
       "35111       45613  45250981                0.0                  1.0   \n",
       "35112       45695  45290019                1.0                 11.0   \n",
       "\n",
       "       host_has_profile_pic  host_identity_verified  latitude  longitude  \\\n",
       "0                       1.0                     1.0  40.75362  -73.98377   \n",
       "1                       1.0                     1.0  40.68514  -73.95976   \n",
       "...                     ...                     ...       ...        ...   \n",
       "35111                   1.0                     1.0  40.77081  -73.92718   \n",
       "35112                   1.0                     1.0  40.65846  -73.96106   \n",
       "\n",
       "       accommodates bathrooms_text  \\\n",
       "0                 2         1 bath   \n",
       "1                 3         1 bath   \n",
       "...             ...            ...   \n",
       "35111             2         1 bath   \n",
       "35112             3         1 bath   \n",
       "\n",
       "                                               amenities  price  \\\n",
       "0      [\"Iron\", \"Cleaning before checkout\", \"Extra pi...  175.0   \n",
       "1      [\"Iron\", \"Extra pillows and blankets\", \"Smoke ...   76.0   \n",
       "...                                                  ...    ...   \n",
       "35111  [\"Laptop-friendly workspace\", \"Carbon monoxide...   83.0   \n",
       "35112  [\"Laptop-friendly workspace\", \"Iron\", \"Carbon ...   79.0   \n",
       "\n",
       "       minimum_nights  maximum_nights  has_availability  availability_30  \\\n",
       "0                   3            1125                 1               30   \n",
       "1                   1             730                 1               13   \n",
       "...               ...             ...               ...              ...   \n",
       "35111               3              10                 1                5   \n",
       "35112               1              30                 1               26   \n",
       "\n",
       "       availability_60  availability_90  availability_365  number_of_reviews  \\\n",
       "0                   60               90               365                 48   \n",
       "1                   30               51               272                349   \n",
       "...                ...              ...               ...                ...   \n",
       "35111                5                5                 5                  1   \n",
       "35112               56               85                85                  1   \n",
       "\n",
       "       instant_bookable  calculated_host_listings_count  reviews_per_month  \\\n",
       "0                     0                               2               0.37   \n",
       "1                     0                               1               4.82   \n",
       "...                 ...                             ...                ...   \n",
       "35111                 0                               1               1.00   \n",
       "35112                 1                               1               1.00   \n",
       "\n",
       "       Apartment  House  Other  Room  Entire home/apt  Private room  \\\n",
       "0              1      0      0     0                1             0   \n",
       "1              0      0      1     0                1             0   \n",
       "...          ...    ...    ...   ...              ...           ...   \n",
       "35111          1      0      0     0                1             0   \n",
       "35112          1      0      0     0                1             0   \n",
       "\n",
       "       Shared room  Private  Shared  \n",
       "0                0        1       0  \n",
       "1                0        1       0  \n",
       "...            ...      ...     ...  \n",
       "35111            0        1       0  \n",
       "35112            0        1       0  \n",
       "\n",
       "[34954 rows x 32 columns]"
      ]
     },
     "metadata": {},
     "output_type": "display_data"
    }
   ],
   "source": [
    "with pd.option_context('display.max_rows', 5, 'display.max_columns', None): \n",
    "    display(dataset)"
   ]
  },
  {
   "cell_type": "code",
   "execution_count": 6,
   "metadata": {},
   "outputs": [
    {
     "data": {
      "text/plain": [
       "Index(['Unnamed: 0', 'id', 'host_is_superhost', 'host_listings_count',\n",
       "       'host_has_profile_pic', 'host_identity_verified', 'latitude',\n",
       "       'longitude', 'accommodates', 'bathrooms_text', 'amenities', 'price',\n",
       "       'minimum_nights', 'maximum_nights', 'has_availability',\n",
       "       'availability_30', 'availability_60', 'availability_90',\n",
       "       'availability_365', 'number_of_reviews', 'instant_bookable',\n",
       "       'calculated_host_listings_count', 'reviews_per_month', 'Apartment',\n",
       "       'House', 'Other', 'Room', 'Entire home/apt', 'Private room',\n",
       "       'Shared room', 'Private', 'Shared'],\n",
       "      dtype='object')"
      ]
     },
     "execution_count": 6,
     "metadata": {},
     "output_type": "execute_result"
    }
   ],
   "source": [
    "dataset.columns"
   ]
  },
  {
   "cell_type": "code",
   "execution_count": 7,
   "metadata": {},
   "outputs": [],
   "source": [
    "dataset=dataset.drop(['Unnamed: 0', 'id','bathrooms_text','amenities'], axis=1)\n",
    "dataset=dataset.drop(['availability_60', 'availability_90','availability_365','Private', 'reviews_per_month', 'Private room', \n",
    "                      'calculated_host_listings_count','Shared room'], axis=1)"
   ]
  },
  {
   "cell_type": "code",
   "execution_count": 8,
   "metadata": {},
   "outputs": [],
   "source": [
    "dataset['price']=np.log(dataset['price'])"
   ]
  },
  {
   "cell_type": "markdown",
   "metadata": {},
   "source": [
    "## Dividiendo los datos en entrenamiento y testing"
   ]
  },
  {
   "cell_type": "code",
   "execution_count": 9,
   "metadata": {},
   "outputs": [],
   "source": [
    "train_dataset = dataset.sample(frac=0.8,random_state=0)\n",
    "test_dataset = dataset.drop(train_dataset.index)"
   ]
  },
  {
   "cell_type": "markdown",
   "metadata": {},
   "source": [
    "## Descriptivo"
   ]
  },
  {
   "cell_type": "code",
   "execution_count": 10,
   "metadata": {},
   "outputs": [
    {
     "data": {
      "text/html": [
       "<div>\n",
       "<style scoped>\n",
       "    .dataframe tbody tr th:only-of-type {\n",
       "        vertical-align: middle;\n",
       "    }\n",
       "\n",
       "    .dataframe tbody tr th {\n",
       "        vertical-align: top;\n",
       "    }\n",
       "\n",
       "    .dataframe thead th {\n",
       "        text-align: right;\n",
       "    }\n",
       "</style>\n",
       "<table border=\"1\" class=\"dataframe\">\n",
       "  <thead>\n",
       "    <tr style=\"text-align: right;\">\n",
       "      <th></th>\n",
       "      <th>count</th>\n",
       "      <th>mean</th>\n",
       "      <th>std</th>\n",
       "      <th>min</th>\n",
       "      <th>25%</th>\n",
       "      <th>50%</th>\n",
       "      <th>75%</th>\n",
       "      <th>max</th>\n",
       "    </tr>\n",
       "  </thead>\n",
       "  <tbody>\n",
       "    <tr>\n",
       "      <th>host_is_superhost</th>\n",
       "      <td>27963.0</td>\n",
       "      <td>0.242964</td>\n",
       "      <td>4.288811e-01</td>\n",
       "      <td>0.000000</td>\n",
       "      <td>0.000000</td>\n",
       "      <td>0.00000</td>\n",
       "      <td>0.000000</td>\n",
       "      <td>1.000000e+00</td>\n",
       "    </tr>\n",
       "    <tr>\n",
       "      <th>host_listings_count</th>\n",
       "      <td>27963.0</td>\n",
       "      <td>7.499088</td>\n",
       "      <td>6.964137e+01</td>\n",
       "      <td>0.000000</td>\n",
       "      <td>1.000000</td>\n",
       "      <td>1.00000</td>\n",
       "      <td>2.000000</td>\n",
       "      <td>1.916000e+03</td>\n",
       "    </tr>\n",
       "    <tr>\n",
       "      <th>host_has_profile_pic</th>\n",
       "      <td>27963.0</td>\n",
       "      <td>0.997211</td>\n",
       "      <td>5.274200e-02</td>\n",
       "      <td>0.000000</td>\n",
       "      <td>1.000000</td>\n",
       "      <td>1.00000</td>\n",
       "      <td>1.000000</td>\n",
       "      <td>1.000000e+00</td>\n",
       "    </tr>\n",
       "    <tr>\n",
       "      <th>host_identity_verified</th>\n",
       "      <td>27963.0</td>\n",
       "      <td>0.783714</td>\n",
       "      <td>4.117187e-01</td>\n",
       "      <td>0.000000</td>\n",
       "      <td>1.000000</td>\n",
       "      <td>1.00000</td>\n",
       "      <td>1.000000</td>\n",
       "      <td>1.000000e+00</td>\n",
       "    </tr>\n",
       "    <tr>\n",
       "      <th>latitude</th>\n",
       "      <td>27963.0</td>\n",
       "      <td>40.728791</td>\n",
       "      <td>5.585294e-02</td>\n",
       "      <td>40.508680</td>\n",
       "      <td>40.688460</td>\n",
       "      <td>40.72304</td>\n",
       "      <td>40.763590</td>\n",
       "      <td>4.091169e+01</td>\n",
       "    </tr>\n",
       "    <tr>\n",
       "      <th>longitude</th>\n",
       "      <td>27963.0</td>\n",
       "      <td>-73.949530</td>\n",
       "      <td>4.843493e-02</td>\n",
       "      <td>-74.239860</td>\n",
       "      <td>-73.982220</td>\n",
       "      <td>-73.95439</td>\n",
       "      <td>-73.932585</td>\n",
       "      <td>-7.371299e+01</td>\n",
       "    </tr>\n",
       "    <tr>\n",
       "      <th>accommodates</th>\n",
       "      <td>27963.0</td>\n",
       "      <td>2.806709</td>\n",
       "      <td>1.787493e+00</td>\n",
       "      <td>1.000000</td>\n",
       "      <td>2.000000</td>\n",
       "      <td>2.00000</td>\n",
       "      <td>4.000000</td>\n",
       "      <td>1.600000e+01</td>\n",
       "    </tr>\n",
       "    <tr>\n",
       "      <th>price</th>\n",
       "      <td>27963.0</td>\n",
       "      <td>4.623750</td>\n",
       "      <td>6.448545e-01</td>\n",
       "      <td>2.302585</td>\n",
       "      <td>4.174387</td>\n",
       "      <td>4.60517</td>\n",
       "      <td>5.017280</td>\n",
       "      <td>6.906755e+00</td>\n",
       "    </tr>\n",
       "    <tr>\n",
       "      <th>minimum_nights</th>\n",
       "      <td>27963.0</td>\n",
       "      <td>7.305439</td>\n",
       "      <td>2.132956e+01</td>\n",
       "      <td>1.000000</td>\n",
       "      <td>2.000000</td>\n",
       "      <td>3.00000</td>\n",
       "      <td>5.000000</td>\n",
       "      <td>1.250000e+03</td>\n",
       "    </tr>\n",
       "    <tr>\n",
       "      <th>maximum_nights</th>\n",
       "      <td>27963.0</td>\n",
       "      <td>78087.683475</td>\n",
       "      <td>1.284271e+07</td>\n",
       "      <td>1.000000</td>\n",
       "      <td>29.000000</td>\n",
       "      <td>365.00000</td>\n",
       "      <td>1125.000000</td>\n",
       "      <td>2.147484e+09</td>\n",
       "    </tr>\n",
       "    <tr>\n",
       "      <th>has_availability</th>\n",
       "      <td>27963.0</td>\n",
       "      <td>0.999499</td>\n",
       "      <td>2.237027e-02</td>\n",
       "      <td>0.000000</td>\n",
       "      <td>1.000000</td>\n",
       "      <td>1.00000</td>\n",
       "      <td>1.000000</td>\n",
       "      <td>1.000000e+00</td>\n",
       "    </tr>\n",
       "    <tr>\n",
       "      <th>availability_30</th>\n",
       "      <td>27963.0</td>\n",
       "      <td>9.669063</td>\n",
       "      <td>1.256831e+01</td>\n",
       "      <td>0.000000</td>\n",
       "      <td>0.000000</td>\n",
       "      <td>0.00000</td>\n",
       "      <td>25.000000</td>\n",
       "      <td>3.000000e+01</td>\n",
       "    </tr>\n",
       "    <tr>\n",
       "      <th>number_of_reviews</th>\n",
       "      <td>27963.0</td>\n",
       "      <td>29.631370</td>\n",
       "      <td>5.161022e+01</td>\n",
       "      <td>1.000000</td>\n",
       "      <td>3.000000</td>\n",
       "      <td>9.00000</td>\n",
       "      <td>32.000000</td>\n",
       "      <td>7.460000e+02</td>\n",
       "    </tr>\n",
       "    <tr>\n",
       "      <th>instant_bookable</th>\n",
       "      <td>27963.0</td>\n",
       "      <td>0.331903</td>\n",
       "      <td>4.709048e-01</td>\n",
       "      <td>0.000000</td>\n",
       "      <td>0.000000</td>\n",
       "      <td>0.00000</td>\n",
       "      <td>1.000000</td>\n",
       "      <td>1.000000e+00</td>\n",
       "    </tr>\n",
       "    <tr>\n",
       "      <th>Apartment</th>\n",
       "      <td>27963.0</td>\n",
       "      <td>0.431427</td>\n",
       "      <td>4.952843e-01</td>\n",
       "      <td>0.000000</td>\n",
       "      <td>0.000000</td>\n",
       "      <td>0.00000</td>\n",
       "      <td>1.000000</td>\n",
       "      <td>1.000000e+00</td>\n",
       "    </tr>\n",
       "    <tr>\n",
       "      <th>House</th>\n",
       "      <td>27963.0</td>\n",
       "      <td>0.042664</td>\n",
       "      <td>2.021010e-01</td>\n",
       "      <td>0.000000</td>\n",
       "      <td>0.000000</td>\n",
       "      <td>0.00000</td>\n",
       "      <td>0.000000</td>\n",
       "      <td>1.000000e+00</td>\n",
       "    </tr>\n",
       "    <tr>\n",
       "      <th>Other</th>\n",
       "      <td>27963.0</td>\n",
       "      <td>0.049852</td>\n",
       "      <td>2.176421e-01</td>\n",
       "      <td>0.000000</td>\n",
       "      <td>0.000000</td>\n",
       "      <td>0.00000</td>\n",
       "      <td>0.000000</td>\n",
       "      <td>1.000000e+00</td>\n",
       "    </tr>\n",
       "    <tr>\n",
       "      <th>Room</th>\n",
       "      <td>27963.0</td>\n",
       "      <td>0.476058</td>\n",
       "      <td>4.994354e-01</td>\n",
       "      <td>0.000000</td>\n",
       "      <td>0.000000</td>\n",
       "      <td>0.00000</td>\n",
       "      <td>1.000000</td>\n",
       "      <td>1.000000e+00</td>\n",
       "    </tr>\n",
       "    <tr>\n",
       "      <th>Entire home/apt</th>\n",
       "      <td>27963.0</td>\n",
       "      <td>0.524586</td>\n",
       "      <td>4.994041e-01</td>\n",
       "      <td>0.000000</td>\n",
       "      <td>0.000000</td>\n",
       "      <td>1.00000</td>\n",
       "      <td>1.000000</td>\n",
       "      <td>1.000000e+00</td>\n",
       "    </tr>\n",
       "    <tr>\n",
       "      <th>Shared</th>\n",
       "      <td>27963.0</td>\n",
       "      <td>0.331259</td>\n",
       "      <td>4.706745e-01</td>\n",
       "      <td>0.000000</td>\n",
       "      <td>0.000000</td>\n",
       "      <td>0.00000</td>\n",
       "      <td>1.000000</td>\n",
       "      <td>1.000000e+00</td>\n",
       "    </tr>\n",
       "  </tbody>\n",
       "</table>\n",
       "</div>"
      ],
      "text/plain": [
       "                          count          mean           std        min  \\\n",
       "host_is_superhost       27963.0      0.242964  4.288811e-01   0.000000   \n",
       "host_listings_count     27963.0      7.499088  6.964137e+01   0.000000   \n",
       "host_has_profile_pic    27963.0      0.997211  5.274200e-02   0.000000   \n",
       "host_identity_verified  27963.0      0.783714  4.117187e-01   0.000000   \n",
       "latitude                27963.0     40.728791  5.585294e-02  40.508680   \n",
       "longitude               27963.0    -73.949530  4.843493e-02 -74.239860   \n",
       "accommodates            27963.0      2.806709  1.787493e+00   1.000000   \n",
       "price                   27963.0      4.623750  6.448545e-01   2.302585   \n",
       "minimum_nights          27963.0      7.305439  2.132956e+01   1.000000   \n",
       "maximum_nights          27963.0  78087.683475  1.284271e+07   1.000000   \n",
       "has_availability        27963.0      0.999499  2.237027e-02   0.000000   \n",
       "availability_30         27963.0      9.669063  1.256831e+01   0.000000   \n",
       "number_of_reviews       27963.0     29.631370  5.161022e+01   1.000000   \n",
       "instant_bookable        27963.0      0.331903  4.709048e-01   0.000000   \n",
       "Apartment               27963.0      0.431427  4.952843e-01   0.000000   \n",
       "House                   27963.0      0.042664  2.021010e-01   0.000000   \n",
       "Other                   27963.0      0.049852  2.176421e-01   0.000000   \n",
       "Room                    27963.0      0.476058  4.994354e-01   0.000000   \n",
       "Entire home/apt         27963.0      0.524586  4.994041e-01   0.000000   \n",
       "Shared                  27963.0      0.331259  4.706745e-01   0.000000   \n",
       "\n",
       "                              25%        50%          75%           max  \n",
       "host_is_superhost        0.000000    0.00000     0.000000  1.000000e+00  \n",
       "host_listings_count      1.000000    1.00000     2.000000  1.916000e+03  \n",
       "host_has_profile_pic     1.000000    1.00000     1.000000  1.000000e+00  \n",
       "host_identity_verified   1.000000    1.00000     1.000000  1.000000e+00  \n",
       "latitude                40.688460   40.72304    40.763590  4.091169e+01  \n",
       "longitude              -73.982220  -73.95439   -73.932585 -7.371299e+01  \n",
       "accommodates             2.000000    2.00000     4.000000  1.600000e+01  \n",
       "price                    4.174387    4.60517     5.017280  6.906755e+00  \n",
       "minimum_nights           2.000000    3.00000     5.000000  1.250000e+03  \n",
       "maximum_nights          29.000000  365.00000  1125.000000  2.147484e+09  \n",
       "has_availability         1.000000    1.00000     1.000000  1.000000e+00  \n",
       "availability_30          0.000000    0.00000    25.000000  3.000000e+01  \n",
       "number_of_reviews        3.000000    9.00000    32.000000  7.460000e+02  \n",
       "instant_bookable         0.000000    0.00000     1.000000  1.000000e+00  \n",
       "Apartment                0.000000    0.00000     1.000000  1.000000e+00  \n",
       "House                    0.000000    0.00000     0.000000  1.000000e+00  \n",
       "Other                    0.000000    0.00000     0.000000  1.000000e+00  \n",
       "Room                     0.000000    0.00000     1.000000  1.000000e+00  \n",
       "Entire home/apt          0.000000    1.00000     1.000000  1.000000e+00  \n",
       "Shared                   0.000000    0.00000     1.000000  1.000000e+00  "
      ]
     },
     "execution_count": 10,
     "metadata": {},
     "output_type": "execute_result"
    }
   ],
   "source": [
    "train_stats = train_dataset.describe()\n",
    "train_stats = train_stats.transpose()\n",
    "train_stats"
   ]
  },
  {
   "cell_type": "markdown",
   "metadata": {},
   "source": [
    "## Normalizando"
   ]
  },
  {
   "cell_type": "raw",
   "metadata": {},
   "source": [
    "def norm(x):\n",
    "  return (x - train_stats['mean']) / train_stats['std']\n",
    "normed_train_data = norm(train_dataset)\n",
    "normed_test_data = norm(test_dataset)"
   ]
  },
  {
   "cell_type": "code",
   "execution_count": 11,
   "metadata": {},
   "outputs": [],
   "source": [
    "def min_max(x): \n",
    "    return (x-x.min())/(x.max()-x.min())"
   ]
  },
  {
   "cell_type": "code",
   "execution_count": 12,
   "metadata": {},
   "outputs": [],
   "source": [
    "normed_train_data = min_max(train_dataset)\n",
    "normed_test_data = min_max(test_dataset)"
   ]
  },
  {
   "cell_type": "code",
   "execution_count": 13,
   "metadata": {},
   "outputs": [
    {
     "data": {
      "text/html": [
       "<div>\n",
       "<style scoped>\n",
       "    .dataframe tbody tr th:only-of-type {\n",
       "        vertical-align: middle;\n",
       "    }\n",
       "\n",
       "    .dataframe tbody tr th {\n",
       "        vertical-align: top;\n",
       "    }\n",
       "\n",
       "    .dataframe thead th {\n",
       "        text-align: right;\n",
       "    }\n",
       "</style>\n",
       "<table border=\"1\" class=\"dataframe\">\n",
       "  <thead>\n",
       "    <tr style=\"text-align: right;\">\n",
       "      <th></th>\n",
       "      <th>host_is_superhost</th>\n",
       "      <th>host_listings_count</th>\n",
       "      <th>host_has_profile_pic</th>\n",
       "      <th>host_identity_verified</th>\n",
       "      <th>latitude</th>\n",
       "      <th>longitude</th>\n",
       "      <th>accommodates</th>\n",
       "      <th>price</th>\n",
       "      <th>minimum_nights</th>\n",
       "      <th>maximum_nights</th>\n",
       "      <th>has_availability</th>\n",
       "      <th>availability_30</th>\n",
       "      <th>number_of_reviews</th>\n",
       "      <th>instant_bookable</th>\n",
       "      <th>Apartment</th>\n",
       "      <th>House</th>\n",
       "      <th>Other</th>\n",
       "      <th>Room</th>\n",
       "      <th>Entire home/apt</th>\n",
       "      <th>Shared</th>\n",
       "    </tr>\n",
       "  </thead>\n",
       "  <tbody>\n",
       "    <tr>\n",
       "      <th>10</th>\n",
       "      <td>0.0</td>\n",
       "      <td>0.000522</td>\n",
       "      <td>1.0</td>\n",
       "      <td>1.0</td>\n",
       "      <td>0.479508</td>\n",
       "      <td>0.500143</td>\n",
       "      <td>0.133333</td>\n",
       "      <td>0.529591</td>\n",
       "      <td>0.002747</td>\n",
       "      <td>4.450000e-06</td>\n",
       "      <td>1.0</td>\n",
       "      <td>0.000000</td>\n",
       "      <td>0.278207</td>\n",
       "      <td>0.0</td>\n",
       "      <td>1.0</td>\n",
       "      <td>0.0</td>\n",
       "      <td>0.0</td>\n",
       "      <td>0.0</td>\n",
       "      <td>1.0</td>\n",
       "      <td>0.0</td>\n",
       "    </tr>\n",
       "    <tr>\n",
       "      <th>11</th>\n",
       "      <td>1.0</td>\n",
       "      <td>0.001566</td>\n",
       "      <td>1.0</td>\n",
       "      <td>1.0</td>\n",
       "      <td>0.688678</td>\n",
       "      <td>0.512274</td>\n",
       "      <td>0.066667</td>\n",
       "      <td>0.696556</td>\n",
       "      <td>0.008242</td>\n",
       "      <td>3.495000e-05</td>\n",
       "      <td>1.0</td>\n",
       "      <td>1.000000</td>\n",
       "      <td>0.358578</td>\n",
       "      <td>1.0</td>\n",
       "      <td>1.0</td>\n",
       "      <td>0.0</td>\n",
       "      <td>0.0</td>\n",
       "      <td>0.0</td>\n",
       "      <td>1.0</td>\n",
       "      <td>0.0</td>\n",
       "    </tr>\n",
       "    <tr>\n",
       "      <th>...</th>\n",
       "      <td>...</td>\n",
       "      <td>...</td>\n",
       "      <td>...</td>\n",
       "      <td>...</td>\n",
       "      <td>...</td>\n",
       "      <td>...</td>\n",
       "      <td>...</td>\n",
       "      <td>...</td>\n",
       "      <td>...</td>\n",
       "      <td>...</td>\n",
       "      <td>...</td>\n",
       "      <td>...</td>\n",
       "      <td>...</td>\n",
       "      <td>...</td>\n",
       "      <td>...</td>\n",
       "      <td>...</td>\n",
       "      <td>...</td>\n",
       "      <td>...</td>\n",
       "      <td>...</td>\n",
       "      <td>...</td>\n",
       "    </tr>\n",
       "    <tr>\n",
       "      <th>35098</th>\n",
       "      <td>0.0</td>\n",
       "      <td>0.000000</td>\n",
       "      <td>1.0</td>\n",
       "      <td>0.0</td>\n",
       "      <td>0.802827</td>\n",
       "      <td>0.703302</td>\n",
       "      <td>0.133333</td>\n",
       "      <td>0.474271</td>\n",
       "      <td>0.000000</td>\n",
       "      <td>1.820000e-05</td>\n",
       "      <td>1.0</td>\n",
       "      <td>0.733333</td>\n",
       "      <td>0.001546</td>\n",
       "      <td>1.0</td>\n",
       "      <td>1.0</td>\n",
       "      <td>0.0</td>\n",
       "      <td>0.0</td>\n",
       "      <td>0.0</td>\n",
       "      <td>1.0</td>\n",
       "      <td>0.0</td>\n",
       "    </tr>\n",
       "    <tr>\n",
       "      <th>35110</th>\n",
       "      <td>0.0</td>\n",
       "      <td>0.000000</td>\n",
       "      <td>1.0</td>\n",
       "      <td>1.0</td>\n",
       "      <td>0.342653</td>\n",
       "      <td>0.441761</td>\n",
       "      <td>0.066667</td>\n",
       "      <td>0.341741</td>\n",
       "      <td>0.000000</td>\n",
       "      <td>7.000000e-07</td>\n",
       "      <td>1.0</td>\n",
       "      <td>0.633333</td>\n",
       "      <td>0.000000</td>\n",
       "      <td>1.0</td>\n",
       "      <td>0.0</td>\n",
       "      <td>0.0</td>\n",
       "      <td>0.0</td>\n",
       "      <td>1.0</td>\n",
       "      <td>0.0</td>\n",
       "      <td>1.0</td>\n",
       "    </tr>\n",
       "  </tbody>\n",
       "</table>\n",
       "<p>6991 rows × 20 columns</p>\n",
       "</div>"
      ],
      "text/plain": [
       "       host_is_superhost  host_listings_count  host_has_profile_pic  \\\n",
       "10                   0.0             0.000522                   1.0   \n",
       "11                   1.0             0.001566                   1.0   \n",
       "...                  ...                  ...                   ...   \n",
       "35098                0.0             0.000000                   1.0   \n",
       "35110                0.0             0.000000                   1.0   \n",
       "\n",
       "       host_identity_verified  latitude  longitude  accommodates     price  \\\n",
       "10                        1.0  0.479508   0.500143      0.133333  0.529591   \n",
       "11                        1.0  0.688678   0.512274      0.066667  0.696556   \n",
       "...                       ...       ...        ...           ...       ...   \n",
       "35098                     0.0  0.802827   0.703302      0.133333  0.474271   \n",
       "35110                     1.0  0.342653   0.441761      0.066667  0.341741   \n",
       "\n",
       "       minimum_nights  maximum_nights  has_availability  availability_30  \\\n",
       "10           0.002747    4.450000e-06               1.0         0.000000   \n",
       "11           0.008242    3.495000e-05               1.0         1.000000   \n",
       "...               ...             ...               ...              ...   \n",
       "35098        0.000000    1.820000e-05               1.0         0.733333   \n",
       "35110        0.000000    7.000000e-07               1.0         0.633333   \n",
       "\n",
       "       number_of_reviews  instant_bookable  Apartment  House  Other  Room  \\\n",
       "10              0.278207               0.0        1.0    0.0    0.0   0.0   \n",
       "11              0.358578               1.0        1.0    0.0    0.0   0.0   \n",
       "...                  ...               ...        ...    ...    ...   ...   \n",
       "35098           0.001546               1.0        1.0    0.0    0.0   0.0   \n",
       "35110           0.000000               1.0        0.0    0.0    0.0   1.0   \n",
       "\n",
       "       Entire home/apt  Shared  \n",
       "10                 1.0     0.0  \n",
       "11                 1.0     0.0  \n",
       "...                ...     ...  \n",
       "35098              1.0     0.0  \n",
       "35110              0.0     1.0  \n",
       "\n",
       "[6991 rows x 20 columns]"
      ]
     },
     "metadata": {},
     "output_type": "display_data"
    }
   ],
   "source": [
    "with pd.option_context('display.max_rows', 5, 'display.max_columns', None): \n",
    "    display(normed_test_data)"
   ]
  },
  {
   "cell_type": "code",
   "execution_count": 14,
   "metadata": {},
   "outputs": [
    {
     "data": {
      "text/html": [
       "<div>\n",
       "<style scoped>\n",
       "    .dataframe tbody tr th:only-of-type {\n",
       "        vertical-align: middle;\n",
       "    }\n",
       "\n",
       "    .dataframe tbody tr th {\n",
       "        vertical-align: top;\n",
       "    }\n",
       "\n",
       "    .dataframe thead th {\n",
       "        text-align: right;\n",
       "    }\n",
       "</style>\n",
       "<table border=\"1\" class=\"dataframe\">\n",
       "  <thead>\n",
       "    <tr style=\"text-align: right;\">\n",
       "      <th></th>\n",
       "      <th>count</th>\n",
       "      <th>mean</th>\n",
       "      <th>std</th>\n",
       "      <th>min</th>\n",
       "      <th>25%</th>\n",
       "      <th>50%</th>\n",
       "      <th>75%</th>\n",
       "      <th>max</th>\n",
       "    </tr>\n",
       "  </thead>\n",
       "  <tbody>\n",
       "    <tr>\n",
       "      <th>host_is_superhost</th>\n",
       "      <td>27963.0</td>\n",
       "      <td>0.242964</td>\n",
       "      <td>0.428881</td>\n",
       "      <td>0.0</td>\n",
       "      <td>0.000000e+00</td>\n",
       "      <td>0.000000e+00</td>\n",
       "      <td>0.000000e+00</td>\n",
       "      <td>1.0</td>\n",
       "    </tr>\n",
       "    <tr>\n",
       "      <th>host_listings_count</th>\n",
       "      <td>27963.0</td>\n",
       "      <td>0.003914</td>\n",
       "      <td>0.036347</td>\n",
       "      <td>0.0</td>\n",
       "      <td>5.219207e-04</td>\n",
       "      <td>5.219207e-04</td>\n",
       "      <td>1.043841e-03</td>\n",
       "      <td>1.0</td>\n",
       "    </tr>\n",
       "    <tr>\n",
       "      <th>host_has_profile_pic</th>\n",
       "      <td>27963.0</td>\n",
       "      <td>0.997211</td>\n",
       "      <td>0.052742</td>\n",
       "      <td>0.0</td>\n",
       "      <td>1.000000e+00</td>\n",
       "      <td>1.000000e+00</td>\n",
       "      <td>1.000000e+00</td>\n",
       "      <td>1.0</td>\n",
       "    </tr>\n",
       "    <tr>\n",
       "      <th>host_identity_verified</th>\n",
       "      <td>27963.0</td>\n",
       "      <td>0.783714</td>\n",
       "      <td>0.411719</td>\n",
       "      <td>0.0</td>\n",
       "      <td>1.000000e+00</td>\n",
       "      <td>1.000000e+00</td>\n",
       "      <td>1.000000e+00</td>\n",
       "      <td>1.0</td>\n",
       "    </tr>\n",
       "    <tr>\n",
       "      <th>latitude</th>\n",
       "      <td>27963.0</td>\n",
       "      <td>0.546168</td>\n",
       "      <td>0.138589</td>\n",
       "      <td>0.0</td>\n",
       "      <td>4.460931e-01</td>\n",
       "      <td>5.318975e-01</td>\n",
       "      <td>6.325153e-01</td>\n",
       "      <td>1.0</td>\n",
       "    </tr>\n",
       "    <tr>\n",
       "      <th>longitude</th>\n",
       "      <td>27963.0</td>\n",
       "      <td>0.551047</td>\n",
       "      <td>0.091930</td>\n",
       "      <td>0.0</td>\n",
       "      <td>4.890011e-01</td>\n",
       "      <td>5.418225e-01</td>\n",
       "      <td>5.832084e-01</td>\n",
       "      <td>1.0</td>\n",
       "    </tr>\n",
       "    <tr>\n",
       "      <th>accommodates</th>\n",
       "      <td>27963.0</td>\n",
       "      <td>0.120447</td>\n",
       "      <td>0.119166</td>\n",
       "      <td>0.0</td>\n",
       "      <td>6.666667e-02</td>\n",
       "      <td>6.666667e-02</td>\n",
       "      <td>2.000000e-01</td>\n",
       "      <td>1.0</td>\n",
       "    </tr>\n",
       "    <tr>\n",
       "      <th>price</th>\n",
       "      <td>27963.0</td>\n",
       "      <td>0.504144</td>\n",
       "      <td>0.140059</td>\n",
       "      <td>0.0</td>\n",
       "      <td>4.065450e-01</td>\n",
       "      <td>5.001087e-01</td>\n",
       "      <td>5.896166e-01</td>\n",
       "      <td>1.0</td>\n",
       "    </tr>\n",
       "    <tr>\n",
       "      <th>minimum_nights</th>\n",
       "      <td>27963.0</td>\n",
       "      <td>0.005048</td>\n",
       "      <td>0.017077</td>\n",
       "      <td>0.0</td>\n",
       "      <td>8.006405e-04</td>\n",
       "      <td>1.601281e-03</td>\n",
       "      <td>3.202562e-03</td>\n",
       "      <td>1.0</td>\n",
       "    </tr>\n",
       "    <tr>\n",
       "      <th>maximum_nights</th>\n",
       "      <td>27963.0</td>\n",
       "      <td>0.000036</td>\n",
       "      <td>0.005980</td>\n",
       "      <td>0.0</td>\n",
       "      <td>1.303852e-08</td>\n",
       "      <td>1.695007e-07</td>\n",
       "      <td>5.234033e-07</td>\n",
       "      <td>1.0</td>\n",
       "    </tr>\n",
       "    <tr>\n",
       "      <th>has_availability</th>\n",
       "      <td>27963.0</td>\n",
       "      <td>0.999499</td>\n",
       "      <td>0.022370</td>\n",
       "      <td>0.0</td>\n",
       "      <td>1.000000e+00</td>\n",
       "      <td>1.000000e+00</td>\n",
       "      <td>1.000000e+00</td>\n",
       "      <td>1.0</td>\n",
       "    </tr>\n",
       "    <tr>\n",
       "      <th>availability_30</th>\n",
       "      <td>27963.0</td>\n",
       "      <td>0.322302</td>\n",
       "      <td>0.418944</td>\n",
       "      <td>0.0</td>\n",
       "      <td>0.000000e+00</td>\n",
       "      <td>0.000000e+00</td>\n",
       "      <td>8.333333e-01</td>\n",
       "      <td>1.0</td>\n",
       "    </tr>\n",
       "    <tr>\n",
       "      <th>number_of_reviews</th>\n",
       "      <td>27963.0</td>\n",
       "      <td>0.038431</td>\n",
       "      <td>0.069275</td>\n",
       "      <td>0.0</td>\n",
       "      <td>2.684564e-03</td>\n",
       "      <td>1.073826e-02</td>\n",
       "      <td>4.161074e-02</td>\n",
       "      <td>1.0</td>\n",
       "    </tr>\n",
       "    <tr>\n",
       "      <th>instant_bookable</th>\n",
       "      <td>27963.0</td>\n",
       "      <td>0.331903</td>\n",
       "      <td>0.470905</td>\n",
       "      <td>0.0</td>\n",
       "      <td>0.000000e+00</td>\n",
       "      <td>0.000000e+00</td>\n",
       "      <td>1.000000e+00</td>\n",
       "      <td>1.0</td>\n",
       "    </tr>\n",
       "    <tr>\n",
       "      <th>Apartment</th>\n",
       "      <td>27963.0</td>\n",
       "      <td>0.431427</td>\n",
       "      <td>0.495284</td>\n",
       "      <td>0.0</td>\n",
       "      <td>0.000000e+00</td>\n",
       "      <td>0.000000e+00</td>\n",
       "      <td>1.000000e+00</td>\n",
       "      <td>1.0</td>\n",
       "    </tr>\n",
       "    <tr>\n",
       "      <th>House</th>\n",
       "      <td>27963.0</td>\n",
       "      <td>0.042664</td>\n",
       "      <td>0.202101</td>\n",
       "      <td>0.0</td>\n",
       "      <td>0.000000e+00</td>\n",
       "      <td>0.000000e+00</td>\n",
       "      <td>0.000000e+00</td>\n",
       "      <td>1.0</td>\n",
       "    </tr>\n",
       "    <tr>\n",
       "      <th>Other</th>\n",
       "      <td>27963.0</td>\n",
       "      <td>0.049852</td>\n",
       "      <td>0.217642</td>\n",
       "      <td>0.0</td>\n",
       "      <td>0.000000e+00</td>\n",
       "      <td>0.000000e+00</td>\n",
       "      <td>0.000000e+00</td>\n",
       "      <td>1.0</td>\n",
       "    </tr>\n",
       "    <tr>\n",
       "      <th>Room</th>\n",
       "      <td>27963.0</td>\n",
       "      <td>0.476058</td>\n",
       "      <td>0.499435</td>\n",
       "      <td>0.0</td>\n",
       "      <td>0.000000e+00</td>\n",
       "      <td>0.000000e+00</td>\n",
       "      <td>1.000000e+00</td>\n",
       "      <td>1.0</td>\n",
       "    </tr>\n",
       "    <tr>\n",
       "      <th>Entire home/apt</th>\n",
       "      <td>27963.0</td>\n",
       "      <td>0.524586</td>\n",
       "      <td>0.499404</td>\n",
       "      <td>0.0</td>\n",
       "      <td>0.000000e+00</td>\n",
       "      <td>1.000000e+00</td>\n",
       "      <td>1.000000e+00</td>\n",
       "      <td>1.0</td>\n",
       "    </tr>\n",
       "    <tr>\n",
       "      <th>Shared</th>\n",
       "      <td>27963.0</td>\n",
       "      <td>0.331259</td>\n",
       "      <td>0.470674</td>\n",
       "      <td>0.0</td>\n",
       "      <td>0.000000e+00</td>\n",
       "      <td>0.000000e+00</td>\n",
       "      <td>1.000000e+00</td>\n",
       "      <td>1.0</td>\n",
       "    </tr>\n",
       "  </tbody>\n",
       "</table>\n",
       "</div>"
      ],
      "text/plain": [
       "                          count      mean       std  min           25%  \\\n",
       "host_is_superhost       27963.0  0.242964  0.428881  0.0  0.000000e+00   \n",
       "host_listings_count     27963.0  0.003914  0.036347  0.0  5.219207e-04   \n",
       "host_has_profile_pic    27963.0  0.997211  0.052742  0.0  1.000000e+00   \n",
       "host_identity_verified  27963.0  0.783714  0.411719  0.0  1.000000e+00   \n",
       "latitude                27963.0  0.546168  0.138589  0.0  4.460931e-01   \n",
       "longitude               27963.0  0.551047  0.091930  0.0  4.890011e-01   \n",
       "accommodates            27963.0  0.120447  0.119166  0.0  6.666667e-02   \n",
       "price                   27963.0  0.504144  0.140059  0.0  4.065450e-01   \n",
       "minimum_nights          27963.0  0.005048  0.017077  0.0  8.006405e-04   \n",
       "maximum_nights          27963.0  0.000036  0.005980  0.0  1.303852e-08   \n",
       "has_availability        27963.0  0.999499  0.022370  0.0  1.000000e+00   \n",
       "availability_30         27963.0  0.322302  0.418944  0.0  0.000000e+00   \n",
       "number_of_reviews       27963.0  0.038431  0.069275  0.0  2.684564e-03   \n",
       "instant_bookable        27963.0  0.331903  0.470905  0.0  0.000000e+00   \n",
       "Apartment               27963.0  0.431427  0.495284  0.0  0.000000e+00   \n",
       "House                   27963.0  0.042664  0.202101  0.0  0.000000e+00   \n",
       "Other                   27963.0  0.049852  0.217642  0.0  0.000000e+00   \n",
       "Room                    27963.0  0.476058  0.499435  0.0  0.000000e+00   \n",
       "Entire home/apt         27963.0  0.524586  0.499404  0.0  0.000000e+00   \n",
       "Shared                  27963.0  0.331259  0.470674  0.0  0.000000e+00   \n",
       "\n",
       "                                 50%           75%  max  \n",
       "host_is_superhost       0.000000e+00  0.000000e+00  1.0  \n",
       "host_listings_count     5.219207e-04  1.043841e-03  1.0  \n",
       "host_has_profile_pic    1.000000e+00  1.000000e+00  1.0  \n",
       "host_identity_verified  1.000000e+00  1.000000e+00  1.0  \n",
       "latitude                5.318975e-01  6.325153e-01  1.0  \n",
       "longitude               5.418225e-01  5.832084e-01  1.0  \n",
       "accommodates            6.666667e-02  2.000000e-01  1.0  \n",
       "price                   5.001087e-01  5.896166e-01  1.0  \n",
       "minimum_nights          1.601281e-03  3.202562e-03  1.0  \n",
       "maximum_nights          1.695007e-07  5.234033e-07  1.0  \n",
       "has_availability        1.000000e+00  1.000000e+00  1.0  \n",
       "availability_30         0.000000e+00  8.333333e-01  1.0  \n",
       "number_of_reviews       1.073826e-02  4.161074e-02  1.0  \n",
       "instant_bookable        0.000000e+00  1.000000e+00  1.0  \n",
       "Apartment               0.000000e+00  1.000000e+00  1.0  \n",
       "House                   0.000000e+00  0.000000e+00  1.0  \n",
       "Other                   0.000000e+00  0.000000e+00  1.0  \n",
       "Room                    0.000000e+00  1.000000e+00  1.0  \n",
       "Entire home/apt         1.000000e+00  1.000000e+00  1.0  \n",
       "Shared                  0.000000e+00  1.000000e+00  1.0  "
      ]
     },
     "execution_count": 14,
     "metadata": {},
     "output_type": "execute_result"
    }
   ],
   "source": [
    "train_stats = normed_train_data.describe()\n",
    "train_stats = train_stats.transpose()\n",
    "train_stats"
   ]
  },
  {
   "cell_type": "markdown",
   "metadata": {},
   "source": [
    "# Separando caracteristicas y etiquetas"
   ]
  },
  {
   "cell_type": "code",
   "execution_count": 15,
   "metadata": {},
   "outputs": [],
   "source": [
    "train_labels = normed_train_data.pop('price')\n",
    "test_labels = normed_test_data.pop('price')"
   ]
  },
  {
   "cell_type": "code",
   "execution_count": 16,
   "metadata": {},
   "outputs": [
    {
     "data": {
      "text/plain": [
       "<seaborn.axisgrid.FacetGrid at 0x23bf0b0f5c8>"
      ]
     },
     "execution_count": 16,
     "metadata": {},
     "output_type": "execute_result"
    },
    {
     "data": {
      "image/png": "[encoded data removed]",
      "text/plain": [
       "<Figure size 360x360 with 1 Axes>"
      ]
     },
     "metadata": {
      "needs_background": "light"
     },
     "output_type": "display_data"
    }
   ],
   "source": [
    "sns.displot(train_labels)"
   ]
  },
  {
   "cell_type": "code",
   "execution_count": 17,
   "metadata": {},
   "outputs": [
    {
     "data": {
      "text/plain": [
       "<seaborn.axisgrid.FacetGrid at 0x23bf1fe5e88>"
      ]
     },
     "execution_count": 17,
     "metadata": {},
     "output_type": "execute_result"
    },
    {
     "data": {
      "image/png": "[encoded data removed]",
      "text/plain": [
       "<Figure size 360x360 with 1 Axes>"
      ]
     },
     "metadata": {
      "needs_background": "light"
     },
     "output_type": "display_data"
    }
   ],
   "source": [
    "sns.displot(test_labels)"
   ]
  },
  {
   "cell_type": "markdown",
   "metadata": {},
   "source": [
    "# El modelo"
   ]
  },
  {
   "cell_type": "markdown",
   "metadata": {},
   "source": [
    "### Construye el modelo"
   ]
  },
  {
   "cell_type": "code",
   "execution_count": 18,
   "metadata": {},
   "outputs": [],
   "source": [
    "# ,kernel_regularizer=regularizers.l2(0.05)\n",
    "# La mejor que llevo es 256, 128, 16, dropout 0.1 y sin regularizador\n",
    "def build_model():  \n",
    "  model = keras.Sequential([\n",
    "    layers.Dense(256, activation='relu',input_shape=[len(normed_train_data.keys())]),\n",
    "    layers.Dropout(0.3),\n",
    "    layers.Dense(128, activation='relu'),\n",
    "    #layers.Dense(64, activation='relu'),\n",
    "    layers.Dropout(0.1),\n",
    "    layers.Dense(32, activation='relu'),\n",
    "    layers.Dense(1)\n",
    "  ])\n",
    "\n",
    "  optimizer=Adam(0.001)\n",
    "\n",
    "  model.compile(loss='mse',\n",
    "                optimizer=optimizer,\n",
    "                metrics=['mae', 'mse'])\n",
    "  return model"
   ]
  },
  {
   "cell_type": "code",
   "execution_count": 19,
   "metadata": {},
   "outputs": [],
   "source": [
    "model = build_model()"
   ]
  },
  {
   "cell_type": "code",
   "execution_count": 20,
   "metadata": {},
   "outputs": [
    {
     "name": "stdout",
     "output_type": "stream",
     "text": [
      "Model: \"sequential\"\n",
      "_________________________________________________________________\n",
      "Layer (type)                 Output Shape              Param #   \n",
      "=================================================================\n",
      "dense (Dense)                (None, 256)               5120      \n",
      "_________________________________________________________________\n",
      "dropout (Dropout)            (None, 256)               0         \n",
      "_________________________________________________________________\n",
      "dense_1 (Dense)              (None, 128)               32896     \n",
      "_________________________________________________________________\n",
      "dropout_1 (Dropout)          (None, 128)               0         \n",
      "_________________________________________________________________\n",
      "dense_2 (Dense)              (None, 32)                4128      \n",
      "_________________________________________________________________\n",
      "dense_3 (Dense)              (None, 1)                 33        \n",
      "=================================================================\n",
      "Total params: 42,177\n",
      "Trainable params: 42,177\n",
      "Non-trainable params: 0\n",
      "_________________________________________________________________\n"
     ]
    }
   ],
   "source": [
    "model.summary()"
   ]
  },
  {
   "cell_type": "code",
   "execution_count": 21,
   "metadata": {},
   "outputs": [
    {
     "data": {
      "image/png": "[encoded data removed]",
      "text/plain": [
       "<IPython.core.display.Image object>"
      ]
     },
     "execution_count": 21,
     "metadata": {},
     "output_type": "execute_result"
    }
   ],
   "source": [
    "plot_model(model, to_file='regresion_model_keras.png', show_shapes=True)"
   ]
  },
  {
   "cell_type": "code",
   "execution_count": 22,
   "metadata": {},
   "outputs": [
    {
     "data": {
      "text/plain": [
       "array([[0.21574846],\n",
       "       [0.20233542],\n",
       "       [0.1542114 ],\n",
       "       [0.16881415],\n",
       "       [0.16400525],\n",
       "       [0.15090925],\n",
       "       [0.20829582],\n",
       "       [0.19458899],\n",
       "       [0.14480568],\n",
       "       [0.14513698]], dtype=float32)"
      ]
     },
     "execution_count": 22,
     "metadata": {},
     "output_type": "execute_result"
    }
   ],
   "source": [
    "example_batch = normed_train_data[:10]\n",
    "example_result = model.predict(example_batch)\n",
    "example_result"
   ]
  },
  {
   "cell_type": "markdown",
   "metadata": {},
   "source": [
    "### Entrenamiento del modelo"
   ]
  },
  {
   "cell_type": "code",
   "execution_count": 23,
   "metadata": {},
   "outputs": [
    {
     "name": "stdout",
     "output_type": "stream",
     "text": [
      "\n",
      "....................................................................................................\n",
      "....................................................................................................\n",
      "..................................................\n",
      "Tiempo de ejecución: 10.2 minutos\n"
     ]
    }
   ],
   "source": [
    "# Display training progress by printing a single dot for each completed epoch\n",
    "time_start = time.time()\n",
    "\n",
    "class PrintDot(keras.callbacks.Callback):\n",
    "  def on_epoch_end(self, epoch, logs):\n",
    "    if epoch % 100 == 0: print('')\n",
    "    print('.', end='')\n",
    "\n",
    "EPOCHS = 250\n",
    "\n",
    "history = model.fit(\n",
    "  normed_train_data, train_labels,\n",
    "  epochs=EPOCHS, validation_split = 0.2, verbose=0,\n",
    "  callbacks=[PrintDot()])\n",
    "\n",
    "time_end = time.time()\n",
    "print(f\"\\nTiempo de ejecución: {round((time_end - time_start)/60,1)} minutos\")"
   ]
  },
  {
   "cell_type": "code",
   "execution_count": 24,
   "metadata": {},
   "outputs": [
    {
     "data": {
      "text/html": [
       "<div>\n",
       "<style scoped>\n",
       "    .dataframe tbody tr th:only-of-type {\n",
       "        vertical-align: middle;\n",
       "    }\n",
       "\n",
       "    .dataframe tbody tr th {\n",
       "        vertical-align: top;\n",
       "    }\n",
       "\n",
       "    .dataframe thead th {\n",
       "        text-align: right;\n",
       "    }\n",
       "</style>\n",
       "<table border=\"1\" class=\"dataframe\">\n",
       "  <thead>\n",
       "    <tr style=\"text-align: right;\">\n",
       "      <th></th>\n",
       "      <th>loss</th>\n",
       "      <th>mae</th>\n",
       "      <th>mse</th>\n",
       "      <th>val_loss</th>\n",
       "      <th>val_mae</th>\n",
       "      <th>val_mse</th>\n",
       "      <th>epoch</th>\n",
       "    </tr>\n",
       "  </thead>\n",
       "  <tbody>\n",
       "    <tr>\n",
       "      <th>245</th>\n",
       "      <td>0.006494</td>\n",
       "      <td>0.061512</td>\n",
       "      <td>0.006494</td>\n",
       "      <td>0.007062</td>\n",
       "      <td>0.064284</td>\n",
       "      <td>0.007062</td>\n",
       "      <td>245</td>\n",
       "    </tr>\n",
       "    <tr>\n",
       "      <th>246</th>\n",
       "      <td>0.006546</td>\n",
       "      <td>0.061549</td>\n",
       "      <td>0.006546</td>\n",
       "      <td>0.007123</td>\n",
       "      <td>0.065195</td>\n",
       "      <td>0.007123</td>\n",
       "      <td>246</td>\n",
       "    </tr>\n",
       "    <tr>\n",
       "      <th>247</th>\n",
       "      <td>0.006502</td>\n",
       "      <td>0.061455</td>\n",
       "      <td>0.006502</td>\n",
       "      <td>0.007030</td>\n",
       "      <td>0.064565</td>\n",
       "      <td>0.007030</td>\n",
       "      <td>247</td>\n",
       "    </tr>\n",
       "    <tr>\n",
       "      <th>248</th>\n",
       "      <td>0.006500</td>\n",
       "      <td>0.061332</td>\n",
       "      <td>0.006500</td>\n",
       "      <td>0.007055</td>\n",
       "      <td>0.064354</td>\n",
       "      <td>0.007055</td>\n",
       "      <td>248</td>\n",
       "    </tr>\n",
       "    <tr>\n",
       "      <th>249</th>\n",
       "      <td>0.006534</td>\n",
       "      <td>0.061625</td>\n",
       "      <td>0.006534</td>\n",
       "      <td>0.006957</td>\n",
       "      <td>0.064020</td>\n",
       "      <td>0.006957</td>\n",
       "      <td>249</td>\n",
       "    </tr>\n",
       "  </tbody>\n",
       "</table>\n",
       "</div>"
      ],
      "text/plain": [
       "         loss       mae       mse  val_loss   val_mae   val_mse  epoch\n",
       "245  0.006494  0.061512  0.006494  0.007062  0.064284  0.007062    245\n",
       "246  0.006546  0.061549  0.006546  0.007123  0.065195  0.007123    246\n",
       "247  0.006502  0.061455  0.006502  0.007030  0.064565  0.007030    247\n",
       "248  0.006500  0.061332  0.006500  0.007055  0.064354  0.007055    248\n",
       "249  0.006534  0.061625  0.006534  0.006957  0.064020  0.006957    249"
      ]
     },
     "execution_count": 24,
     "metadata": {},
     "output_type": "execute_result"
    }
   ],
   "source": [
    "hist = pd.DataFrame(history.history)\n",
    "hist['epoch'] = history.epoch\n",
    "hist.tail()"
   ]
  },
  {
   "cell_type": "code",
   "execution_count": 25,
   "metadata": {},
   "outputs": [
    {
     "data": {
      "image/png": "[encoded data removed]",
      "text/plain": [
       "<Figure size 432x288 with 1 Axes>"
      ]
     },
     "metadata": {
      "needs_background": "light"
     },
     "output_type": "display_data"
    },
    {
     "data": {
      "image/png": "[encoded data removed]",
      "text/plain": [
       "<Figure size 432x288 with 1 Axes>"
      ]
     },
     "metadata": {
      "needs_background": "light"
     },
     "output_type": "display_data"
    }
   ],
   "source": [
    "def plot_history(history):\n",
    "  hist = pd.DataFrame(history.history)\n",
    "  hist['epoch'] = history.epoch\n",
    "\n",
    "  plt.figure()\n",
    "  plt.xlabel('Epoch')\n",
    "  plt.ylabel('Mean Abs Error [Ln(Price)]')\n",
    "  plt.plot(hist['epoch'], hist['mae'],\n",
    "           label='Train Error')\n",
    "  plt.plot(hist['epoch'], hist['val_mae'],\n",
    "           label = 'Val Error')\n",
    "  plt.ylim([0.06,0.085])\n",
    "  plt.legend()\n",
    "\n",
    "  plt.figure()\n",
    "  plt.xlabel('Epoch')\n",
    "  plt.ylabel('Mean Square Error [$Price^2$]')\n",
    "  plt.plot(hist['epoch'], hist['mse'],\n",
    "           label='Train Error')\n",
    "  plt.plot(hist['epoch'], hist['val_mse'],\n",
    "           label = 'Val Error')\n",
    "  plt.ylim([0.0,0.02])\n",
    "  plt.legend()\n",
    "  plt.show()\n",
    "\n",
    "\n",
    "plot_history(history)"
   ]
  },
  {
   "cell_type": "code",
   "execution_count": 26,
   "metadata": {},
   "outputs": [
    {
     "name": "stdout",
     "output_type": "stream",
     "text": [
      "\n",
      "..............................................................."
     ]
    },
    {
     "data": {
      "image/png": "[encoded data removed]",
      "text/plain": [
       "<Figure size 432x288 with 1 Axes>"
      ]
     },
     "metadata": {
      "needs_background": "light"
     },
     "output_type": "display_data"
    },
    {
     "data": {
      "image/png": "[encoded data removed]",
      "text/plain": [
       "<Figure size 432x288 with 1 Axes>"
      ]
     },
     "metadata": {
      "needs_background": "light"
     },
     "output_type": "display_data"
    }
   ],
   "source": [
    "model = build_model()\n",
    "\n",
    "# The patience parameter is the amount of epochs to check for improvement\n",
    "early_stop = keras.callbacks.EarlyStopping(monitor='val_loss', patience=10)\n",
    "\n",
    "history = model.fit(normed_train_data, train_labels, epochs=EPOCHS,\n",
    "                    validation_split = 0.2, verbose=0, callbacks=[early_stop, PrintDot()])\n",
    "\n",
    "plot_history(history)"
   ]
  },
  {
   "cell_type": "code",
   "execution_count": 27,
   "metadata": {},
   "outputs": [
    {
     "name": "stdout",
     "output_type": "stream",
     "text": [
      "6991/6991 - 0s - loss: 0.0073 - mae: 0.0641 - mse: 0.0073\n",
      "Testing set Mean Abs Error:  0.06\n"
     ]
    }
   ],
   "source": [
    "loss, mae, mse = model.evaluate(normed_test_data, test_labels, verbose=2)\n",
    "\n",
    "print(\"Testing set Mean Abs Error: {:5.2f}\".format(mae))"
   ]
  },
  {
   "cell_type": "markdown",
   "metadata": {},
   "source": [
    "## Predicciones"
   ]
  },
  {
   "cell_type": "code",
   "execution_count": 28,
   "metadata": {},
   "outputs": [
    {
     "name": "stdout",
     "output_type": "stream",
     "text": [
      "6991\n"
     ]
    },
    {
     "data": {
      "image/png": "[encoded data removed]",
      "text/plain": [
       "<Figure size 432x288 with 1 Axes>"
      ]
     },
     "metadata": {
      "needs_background": "light"
     },
     "output_type": "display_data"
    }
   ],
   "source": [
    "test_predictions = model.predict(normed_test_data).flatten()\n",
    "print(len(test_predictions))\n",
    "plt.scatter(test_labels, test_predictions,alpha=0.7,s=3)\n",
    "plt.xlabel('True Values [Price]')\n",
    "plt.ylabel('Predictions [Price]')\n",
    "plt.axis('equal')\n",
    "plt.axis('square')\n",
    "plt.xlim([0,plt.xlim()[1]])\n",
    "plt.ylim([0,plt.ylim()[1]])\n",
    "_ = plt.plot([-10, 10], [-10, 10]) #El modelo subestima para precios mayores a 200 dolares"
   ]
  },
  {
   "cell_type": "code",
   "execution_count": 29,
   "metadata": {},
   "outputs": [
    {
     "name": "stdout",
     "output_type": "stream",
     "text": [
      "6991\n"
     ]
    },
    {
     "data": {
      "image/png": "[encoded data removed]",
      "text/plain": [
       "<Figure size 432x288 with 1 Axes>"
      ]
     },
     "metadata": {
      "needs_background": "light"
     },
     "output_type": "display_data"
    }
   ],
   "source": [
    "train_predictions = model.predict(normed_train_data).flatten()\n",
    "print(len(test_predictions))\n",
    "plt.scatter(train_labels, train_predictions,alpha=0.7,s=3)\n",
    "plt.xlabel('True Values [Price]')\n",
    "plt.ylabel('Predictions [Price]')\n",
    "plt.axis('equal')\n",
    "plt.axis('square')\n",
    "plt.xlim([0,plt.xlim()[1]])\n",
    "plt.ylim([0,plt.ylim()[1]])\n",
    "_ = plt.plot([-10, 10], [-10, 10])"
   ]
  },
  {
   "cell_type": "code",
   "execution_count": 30,
   "metadata": {},
   "outputs": [
    {
     "data": {
      "image/png": "[encoded data removed]",
      "text/plain": [
       "<Figure size 432x288 with 1 Axes>"
      ]
     },
     "metadata": {
      "needs_background": "light"
     },
     "output_type": "display_data"
    }
   ],
   "source": [
    "error = test_predictions - test_labels\n",
    "plt.hist(error, bins = 25)\n",
    "plt.xlabel(\"Prediction Error [Price]\")\n",
    "_ = plt.ylabel(\"Count\")"
   ]
  },
  {
   "cell_type": "code",
   "execution_count": 31,
   "metadata": {},
   "outputs": [
    {
     "name": "stdout",
     "output_type": "stream",
     "text": [
      "Training MSE: 0.0068\n",
      "Validation MSE: 0.0073\n",
      "\n",
      "Training r2: 0.6535\n",
      "Validation r2: 0.6175\n"
     ]
    }
   ],
   "source": [
    "y_test_pred = model.predict(normed_test_data)\n",
    "y_train_pred = model.predict(normed_train_data)\n",
    "print(\"Training MSE:\", round(mean_squared_error(train_labels, y_train_pred),4))\n",
    "print(\"Validation MSE:\", round(mean_squared_error(test_labels, y_test_pred),4))\n",
    "print(\"\\nTraining r2:\", round(r2_score(train_labels, y_train_pred),4))\n",
    "print(\"Validation r2:\", round(r2_score(test_labels, y_test_pred),4))"
   ]
  },
  {
   "cell_type": "code",
   "execution_count": 37,
   "metadata": {},
   "outputs": [
    {
     "data": {
      "text/plain": [
       "1.0068231724945438"
      ]
     },
     "execution_count": 37,
     "metadata": {},
     "output_type": "execute_result"
    }
   ],
   "source": [
    "math.exp(0.0068)"
   ]
  },
  {
   "cell_type": "code",
   "execution_count": null,
   "metadata": {},
   "outputs": [],
   "source": []
  }
 ],
 "metadata": {
  "kernelspec": {
   "display_name": "Python 3",
   "language": "python",
   "name": "python3"
  },
  "language_info": {
   "codemirror_mode": {
    "name": "ipython",
    "version": 3
   },
   "file_extension": ".py",
   "mimetype": "text/x-python",
   "name": "python",
   "nbconvert_exporter": "python",
   "pygments_lexer": "ipython3",
   "version": "3.7.6"
  }
 },
 "nbformat": 4,
 "nbformat_minor": 4
}
