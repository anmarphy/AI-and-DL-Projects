{
 "cells": [
  {
   "cell_type": "markdown",
   "metadata": {},
   "source": [
    "# Modelo de tarifación Airbnb en New York"
   ]
  },
  {
   "cell_type": "markdown",
   "metadata": {},
   "source": [
    "Iteració previa Nov 3, 2020\n",
    "\n",
    "Modificado May 4, 2021"
   ]
  },
  {
   "cell_type": "markdown",
   "metadata": {},
   "source": [
    "* [Adquisición Datos](#Adquisición-Datos)\n",
    "* [Entrenamiento y Testing](#Entrenamiento-y-Testing)\n",
    "* [Descriptivo](#Descriptivo)\n",
    "* [Normalizando](#Normalizando)\n",
    "* [Separando caracteristicas y etiquetas](#Separando-caracteristicas-y-etiquetas)\n",
    "* [El modelo](#El-modelo)\n",
    "    * [Arquitectura](#Arquitectura)\n",
    "    * [Entrenamiento](#Entrenamiento)\n",
    "    * [Predicciones](#Predicciones)"
   ]
  },
  {
   "cell_type": "code",
   "execution_count": 1,
   "metadata": {},
   "outputs": [
    {
     "name": "stdout",
     "output_type": "stream",
     "text": [
      "2.4.0\n"
     ]
    }
   ],
   "source": [
    "import matplotlib.pyplot as plt\n",
    "import pandas as pd\n",
    "import seaborn as sns\n",
    "import tensorflow as tf\n",
    "from tensorflow import keras\n",
    "from tensorflow.keras import layers\n",
    "from tensorflow.keras.utils import plot_model\n",
    "from tensorflow.keras.utils import to_categorical\n",
    "from sklearn.preprocessing import StandardScaler\n",
    "from sklearn.preprocessing import MinMaxScaler\n",
    "from tensorflow.keras.optimizers import Adam\n",
    "from tensorflow.keras import models, layers, optimizers, regularizers\n",
    "from numpy.random import seed\n",
    "from sklearn.preprocessing import StandardScaler\n",
    "from sklearn.metrics import explained_variance_score, mean_squared_error, r2_score\n",
    "import time\n",
    "import math\n",
    "import numpy as np\n",
    "seed(123)\n",
    "print(tf.__version__)"
   ]
  },
  {
   "cell_type": "code",
   "execution_count": 2,
   "metadata": {},
   "outputs": [],
   "source": [
    "pd.options.display.max_columns = None\n",
    "pd.options.display.max_rows= None"
   ]
  },
  {
   "cell_type": "markdown",
   "metadata": {},
   "source": [
    "## Adquisición Datos"
   ]
  },
  {
   "cell_type": "code",
   "execution_count": 3,
   "metadata": {},
   "outputs": [],
   "source": [
    "dataset=pd.read_csv('Listings_clean.csv')"
   ]
  },
  {
   "cell_type": "code",
   "execution_count": 4,
   "metadata": {},
   "outputs": [
    {
     "name": "stdout",
     "output_type": "stream",
     "text": [
      "El dataset de entrada contiene 39 columnas y 35300 filas\n"
     ]
    }
   ],
   "source": [
    "dataset=dataset.dropna()\n",
    "print('El dataset de entrada contiene', len(dataset.columns), 'columnas', 'y', len(dataset), 'filas')"
   ]
  },
  {
   "cell_type": "code",
   "execution_count": 5,
   "metadata": {},
   "outputs": [
    {
     "data": {
      "text/plain": [
       "Unnamed: 0                          int64\n",
       "id                                  int64\n",
       "host_is_superhost                 float64\n",
       "host_listings_count               float64\n",
       "host_has_profile_pic              float64\n",
       "host_identity_verified            float64\n",
       "latitude                          float64\n",
       "longitude                         float64\n",
       "accommodates                        int64\n",
       "bedrooms                          float64\n",
       "beds                              float64\n",
       "price                             float64\n",
       "minimum_nights                      int64\n",
       "maximum_nights                      int64\n",
       "has_availability                    int64\n",
       "availability_30                     int64\n",
       "number_of_reviews                   int64\n",
       "instant_bookable                    int64\n",
       "calculated_host_listings_count      int64\n",
       "t_bathrooms                       float64\n",
       "am_wifi                             int64\n",
       "am_air conditioning                 int64\n",
       "am_kitchen                          int64\n",
       "am_parking                          int64\n",
       "am_patio                            int64\n",
       "am_barbecue                         int64\n",
       "am_outdoor                          int64\n",
       "am_games                            int64\n",
       "am_soap                             int64\n",
       "am_shampoo                          int64\n",
       "apartment                           int64\n",
       "house                               int64\n",
       "other                               int64\n",
       "room                                int64\n",
       "entire home/apt                     int64\n",
       "private room                        int64\n",
       "shared room                         int64\n",
       "private                             int64\n",
       "shared                              int64\n",
       "dtype: object"
      ]
     },
     "execution_count": 5,
     "metadata": {},
     "output_type": "execute_result"
    }
   ],
   "source": [
    "dataset.dtypes"
   ]
  },
  {
   "cell_type": "code",
   "execution_count": 6,
   "metadata": {},
   "outputs": [
    {
     "data": {
      "image/png": "[encoded data removed]",
      "text/plain": [
       "<Figure size 360x360 with 1 Axes>"
      ]
     },
     "metadata": {
      "needs_background": "light"
     },
     "output_type": "display_data"
    }
   ],
   "source": [
    "sns.displot(dataset['price'])\n",
    "plt.show()"
   ]
  },
  {
   "cell_type": "code",
   "execution_count": 7,
   "metadata": {},
   "outputs": [
    {
     "data": {
      "image/png": "[encoded data removed]",
      "text/plain": [
       "<Figure size 432x288 with 1 Axes>"
      ]
     },
     "metadata": {
      "needs_background": "light"
     },
     "output_type": "display_data"
    }
   ],
   "source": [
    "sns.boxplot(y=dataset['price'])\n",
    "plt.show()"
   ]
  },
  {
   "cell_type": "code",
   "execution_count": 8,
   "metadata": {},
   "outputs": [
    {
     "data": {
      "text/plain": [
       "count    35300.000000\n",
       "mean       131.916289\n",
       "std        115.642213\n",
       "min         10.000000\n",
       "25%         61.000000\n",
       "50%        100.000000\n",
       "75%        159.000000\n",
       "max        999.000000\n",
       "Name: price, dtype: float64"
      ]
     },
     "execution_count": 8,
     "metadata": {},
     "output_type": "execute_result"
    }
   ],
   "source": [
    "dataset['price'].describe()"
   ]
  },
  {
   "cell_type": "code",
   "execution_count": 9,
   "metadata": {},
   "outputs": [],
   "source": [
    "dataset=dataset[(dataset['price']>0)&(dataset['price']<600)]"
   ]
  },
  {
   "cell_type": "code",
   "execution_count": 10,
   "metadata": {},
   "outputs": [
    {
     "data": {
      "text/html": [
       "<div>\n",
       "<style scoped>\n",
       "    .dataframe tbody tr th:only-of-type {\n",
       "        vertical-align: middle;\n",
       "    }\n",
       "\n",
       "    .dataframe tbody tr th {\n",
       "        vertical-align: top;\n",
       "    }\n",
       "\n",
       "    .dataframe thead th {\n",
       "        text-align: right;\n",
       "    }\n",
       "</style>\n",
       "<table border=\"1\" class=\"dataframe\">\n",
       "  <thead>\n",
       "    <tr style=\"text-align: right;\">\n",
       "      <th></th>\n",
       "      <th>Unnamed: 0</th>\n",
       "      <th>id</th>\n",
       "      <th>host_is_superhost</th>\n",
       "      <th>host_listings_count</th>\n",
       "      <th>host_has_profile_pic</th>\n",
       "      <th>host_identity_verified</th>\n",
       "      <th>latitude</th>\n",
       "      <th>longitude</th>\n",
       "      <th>accommodates</th>\n",
       "      <th>bedrooms</th>\n",
       "      <th>beds</th>\n",
       "      <th>price</th>\n",
       "      <th>minimum_nights</th>\n",
       "      <th>maximum_nights</th>\n",
       "      <th>has_availability</th>\n",
       "      <th>availability_30</th>\n",
       "      <th>number_of_reviews</th>\n",
       "      <th>instant_bookable</th>\n",
       "      <th>calculated_host_listings_count</th>\n",
       "      <th>t_bathrooms</th>\n",
       "      <th>am_wifi</th>\n",
       "      <th>am_air conditioning</th>\n",
       "      <th>am_kitchen</th>\n",
       "      <th>am_parking</th>\n",
       "      <th>am_patio</th>\n",
       "      <th>am_barbecue</th>\n",
       "      <th>am_outdoor</th>\n",
       "      <th>am_games</th>\n",
       "      <th>am_soap</th>\n",
       "      <th>am_shampoo</th>\n",
       "      <th>apartment</th>\n",
       "      <th>house</th>\n",
       "      <th>other</th>\n",
       "      <th>room</th>\n",
       "      <th>entire home/apt</th>\n",
       "      <th>private room</th>\n",
       "      <th>shared room</th>\n",
       "      <th>private</th>\n",
       "      <th>shared</th>\n",
       "    </tr>\n",
       "  </thead>\n",
       "  <tbody>\n",
       "    <tr>\n",
       "      <th>0</th>\n",
       "      <td>0</td>\n",
       "      <td>2595</td>\n",
       "      <td>0.0</td>\n",
       "      <td>6.0</td>\n",
       "      <td>1.0</td>\n",
       "      <td>1.0</td>\n",
       "      <td>40.75356</td>\n",
       "      <td>-73.98559</td>\n",
       "      <td>2</td>\n",
       "      <td>1.0</td>\n",
       "      <td>1.0</td>\n",
       "      <td>150.0</td>\n",
       "      <td>30</td>\n",
       "      <td>1125</td>\n",
       "      <td>1</td>\n",
       "      <td>30</td>\n",
       "      <td>48</td>\n",
       "      <td>0</td>\n",
       "      <td>3</td>\n",
       "      <td>1.0</td>\n",
       "      <td>1</td>\n",
       "      <td>1</td>\n",
       "      <td>1</td>\n",
       "      <td>1</td>\n",
       "      <td>0</td>\n",
       "      <td>0</td>\n",
       "      <td>0</td>\n",
       "      <td>0</td>\n",
       "      <td>0</td>\n",
       "      <td>0</td>\n",
       "      <td>1</td>\n",
       "      <td>0</td>\n",
       "      <td>0</td>\n",
       "      <td>0</td>\n",
       "      <td>1</td>\n",
       "      <td>0</td>\n",
       "      <td>0</td>\n",
       "      <td>1</td>\n",
       "      <td>0</td>\n",
       "    </tr>\n",
       "    <tr>\n",
       "      <th>1</th>\n",
       "      <td>1</td>\n",
       "      <td>3831</td>\n",
       "      <td>0.0</td>\n",
       "      <td>1.0</td>\n",
       "      <td>1.0</td>\n",
       "      <td>1.0</td>\n",
       "      <td>40.68494</td>\n",
       "      <td>-73.95765</td>\n",
       "      <td>3</td>\n",
       "      <td>1.0</td>\n",
       "      <td>1.0</td>\n",
       "      <td>76.0</td>\n",
       "      <td>1</td>\n",
       "      <td>730</td>\n",
       "      <td>1</td>\n",
       "      <td>1</td>\n",
       "      <td>396</td>\n",
       "      <td>0</td>\n",
       "      <td>1</td>\n",
       "      <td>1.0</td>\n",
       "      <td>1</td>\n",
       "      <td>1</td>\n",
       "      <td>1</td>\n",
       "      <td>1</td>\n",
       "      <td>0</td>\n",
       "      <td>0</td>\n",
       "      <td>0</td>\n",
       "      <td>0</td>\n",
       "      <td>0</td>\n",
       "      <td>1</td>\n",
       "      <td>0</td>\n",
       "      <td>0</td>\n",
       "      <td>1</td>\n",
       "      <td>0</td>\n",
       "      <td>1</td>\n",
       "      <td>0</td>\n",
       "      <td>0</td>\n",
       "      <td>1</td>\n",
       "      <td>0</td>\n",
       "    </tr>\n",
       "    <tr>\n",
       "      <th>2</th>\n",
       "      <td>2</td>\n",
       "      <td>5121</td>\n",
       "      <td>0.0</td>\n",
       "      <td>1.0</td>\n",
       "      <td>1.0</td>\n",
       "      <td>1.0</td>\n",
       "      <td>40.68535</td>\n",
       "      <td>-73.95512</td>\n",
       "      <td>2</td>\n",
       "      <td>1.0</td>\n",
       "      <td>1.0</td>\n",
       "      <td>60.0</td>\n",
       "      <td>30</td>\n",
       "      <td>730</td>\n",
       "      <td>1</td>\n",
       "      <td>30</td>\n",
       "      <td>50</td>\n",
       "      <td>0</td>\n",
       "      <td>1</td>\n",
       "      <td>1.0</td>\n",
       "      <td>1</td>\n",
       "      <td>1</td>\n",
       "      <td>1</td>\n",
       "      <td>0</td>\n",
       "      <td>0</td>\n",
       "      <td>0</td>\n",
       "      <td>0</td>\n",
       "      <td>0</td>\n",
       "      <td>0</td>\n",
       "      <td>0</td>\n",
       "      <td>0</td>\n",
       "      <td>0</td>\n",
       "      <td>0</td>\n",
       "      <td>1</td>\n",
       "      <td>0</td>\n",
       "      <td>1</td>\n",
       "      <td>0</td>\n",
       "      <td>1</td>\n",
       "      <td>0</td>\n",
       "    </tr>\n",
       "  </tbody>\n",
       "</table>\n",
       "</div>"
      ],
      "text/plain": [
       "   Unnamed: 0    id  host_is_superhost  host_listings_count  \\\n",
       "0           0  2595                0.0                  6.0   \n",
       "1           1  3831                0.0                  1.0   \n",
       "2           2  5121                0.0                  1.0   \n",
       "\n",
       "   host_has_profile_pic  host_identity_verified  latitude  longitude  \\\n",
       "0                   1.0                     1.0  40.75356  -73.98559   \n",
       "1                   1.0                     1.0  40.68494  -73.95765   \n",
       "2                   1.0                     1.0  40.68535  -73.95512   \n",
       "\n",
       "   accommodates  bedrooms  beds  price  minimum_nights  maximum_nights  \\\n",
       "0             2       1.0   1.0  150.0              30            1125   \n",
       "1             3       1.0   1.0   76.0               1             730   \n",
       "2             2       1.0   1.0   60.0              30             730   \n",
       "\n",
       "   has_availability  availability_30  number_of_reviews  instant_bookable  \\\n",
       "0                 1               30                 48                 0   \n",
       "1                 1                1                396                 0   \n",
       "2                 1               30                 50                 0   \n",
       "\n",
       "   calculated_host_listings_count  t_bathrooms  am_wifi  am_air conditioning  \\\n",
       "0                               3          1.0        1                    1   \n",
       "1                               1          1.0        1                    1   \n",
       "2                               1          1.0        1                    1   \n",
       "\n",
       "   am_kitchen  am_parking  am_patio  am_barbecue  am_outdoor  am_games  \\\n",
       "0           1           1         0            0           0         0   \n",
       "1           1           1         0            0           0         0   \n",
       "2           1           0         0            0           0         0   \n",
       "\n",
       "   am_soap  am_shampoo  apartment  house  other  room  entire home/apt  \\\n",
       "0        0           0          1      0      0     0                1   \n",
       "1        0           1          0      0      1     0                1   \n",
       "2        0           0          0      0      0     1                0   \n",
       "\n",
       "   private room  shared room  private  shared  \n",
       "0             0            0        1       0  \n",
       "1             0            0        1       0  \n",
       "2             1            0        1       0  "
      ]
     },
     "execution_count": 10,
     "metadata": {},
     "output_type": "execute_result"
    }
   ],
   "source": [
    "dataset.head(3)"
   ]
  },
  {
   "cell_type": "code",
   "execution_count": 11,
   "metadata": {},
   "outputs": [],
   "source": [
    "dataset=dataset.drop(['Unnamed: 0', 'id'], axis=1)"
   ]
  },
  {
   "cell_type": "code",
   "execution_count": 12,
   "metadata": {},
   "outputs": [
    {
     "data": {
      "image/png": "[encoded data removed]",
      "text/plain": [
       "<Figure size 360x360 with 1 Axes>"
      ]
     },
     "metadata": {
      "needs_background": "light"
     },
     "output_type": "display_data"
    }
   ],
   "source": [
    "sns.displot(dataset['price'])\n",
    "plt.show()"
   ]
  },
  {
   "cell_type": "code",
   "execution_count": 13,
   "metadata": {},
   "outputs": [],
   "source": [
    "dataset['price']=np.log(dataset['price'])"
   ]
  },
  {
   "cell_type": "code",
   "execution_count": 14,
   "metadata": {},
   "outputs": [
    {
     "data": {
      "image/png": "[encoded data removed]",
      "text/plain": [
       "<Figure size 360x360 with 1 Axes>"
      ]
     },
     "metadata": {
      "needs_background": "light"
     },
     "output_type": "display_data"
    }
   ],
   "source": [
    "sns.displot(dataset['price'])\n",
    "plt.show()"
   ]
  },
  {
   "cell_type": "markdown",
   "metadata": {},
   "source": [
    "## Entrenamiento y Testing"
   ]
  },
  {
   "cell_type": "code",
   "execution_count": 15,
   "metadata": {},
   "outputs": [],
   "source": [
    "train_dataset = dataset.sample(frac=0.8,random_state=0)\n",
    "test_dataset = dataset.drop(train_dataset.index)"
   ]
  },
  {
   "cell_type": "code",
   "execution_count": 16,
   "metadata": {},
   "outputs": [
    {
     "data": {
      "text/html": [
       "<div>\n",
       "<style scoped>\n",
       "    .dataframe tbody tr th:only-of-type {\n",
       "        vertical-align: middle;\n",
       "    }\n",
       "\n",
       "    .dataframe tbody tr th {\n",
       "        vertical-align: top;\n",
       "    }\n",
       "\n",
       "    .dataframe thead th {\n",
       "        text-align: right;\n",
       "    }\n",
       "</style>\n",
       "<table border=\"1\" class=\"dataframe\">\n",
       "  <thead>\n",
       "    <tr style=\"text-align: right;\">\n",
       "      <th></th>\n",
       "      <th>host_is_superhost</th>\n",
       "      <th>host_listings_count</th>\n",
       "      <th>host_has_profile_pic</th>\n",
       "      <th>host_identity_verified</th>\n",
       "      <th>latitude</th>\n",
       "      <th>longitude</th>\n",
       "      <th>accommodates</th>\n",
       "      <th>bedrooms</th>\n",
       "      <th>beds</th>\n",
       "      <th>price</th>\n",
       "      <th>minimum_nights</th>\n",
       "      <th>maximum_nights</th>\n",
       "      <th>has_availability</th>\n",
       "      <th>availability_30</th>\n",
       "      <th>number_of_reviews</th>\n",
       "      <th>instant_bookable</th>\n",
       "      <th>calculated_host_listings_count</th>\n",
       "      <th>t_bathrooms</th>\n",
       "      <th>am_wifi</th>\n",
       "      <th>am_air conditioning</th>\n",
       "      <th>am_kitchen</th>\n",
       "      <th>am_parking</th>\n",
       "      <th>am_patio</th>\n",
       "      <th>am_barbecue</th>\n",
       "      <th>am_outdoor</th>\n",
       "      <th>am_games</th>\n",
       "      <th>am_soap</th>\n",
       "      <th>am_shampoo</th>\n",
       "      <th>apartment</th>\n",
       "      <th>house</th>\n",
       "      <th>other</th>\n",
       "      <th>room</th>\n",
       "      <th>entire home/apt</th>\n",
       "      <th>private room</th>\n",
       "      <th>shared room</th>\n",
       "      <th>private</th>\n",
       "      <th>shared</th>\n",
       "    </tr>\n",
       "  </thead>\n",
       "  <tbody>\n",
       "    <tr>\n",
       "      <th>35807</th>\n",
       "      <td>0.0</td>\n",
       "      <td>2.0</td>\n",
       "      <td>1.0</td>\n",
       "      <td>0.0</td>\n",
       "      <td>40.73698</td>\n",
       "      <td>-73.95737</td>\n",
       "      <td>6</td>\n",
       "      <td>3.0</td>\n",
       "      <td>3.0</td>\n",
       "      <td>5.749393</td>\n",
       "      <td>3</td>\n",
       "      <td>1125</td>\n",
       "      <td>1</td>\n",
       "      <td>1</td>\n",
       "      <td>0</td>\n",
       "      <td>0</td>\n",
       "      <td>1</td>\n",
       "      <td>3.0</td>\n",
       "      <td>1</td>\n",
       "      <td>1</td>\n",
       "      <td>1</td>\n",
       "      <td>0</td>\n",
       "      <td>1</td>\n",
       "      <td>0</td>\n",
       "      <td>0</td>\n",
       "      <td>0</td>\n",
       "      <td>0</td>\n",
       "      <td>1</td>\n",
       "      <td>0</td>\n",
       "      <td>1</td>\n",
       "      <td>0</td>\n",
       "      <td>0</td>\n",
       "      <td>1</td>\n",
       "      <td>0</td>\n",
       "      <td>0</td>\n",
       "      <td>1</td>\n",
       "      <td>0</td>\n",
       "    </tr>\n",
       "    <tr>\n",
       "      <th>15344</th>\n",
       "      <td>0.0</td>\n",
       "      <td>1.0</td>\n",
       "      <td>1.0</td>\n",
       "      <td>1.0</td>\n",
       "      <td>40.77264</td>\n",
       "      <td>-73.95727</td>\n",
       "      <td>2</td>\n",
       "      <td>1.0</td>\n",
       "      <td>1.0</td>\n",
       "      <td>5.010635</td>\n",
       "      <td>30</td>\n",
       "      <td>1125</td>\n",
       "      <td>1</td>\n",
       "      <td>0</td>\n",
       "      <td>1</td>\n",
       "      <td>1</td>\n",
       "      <td>1</td>\n",
       "      <td>1.0</td>\n",
       "      <td>1</td>\n",
       "      <td>1</td>\n",
       "      <td>1</td>\n",
       "      <td>0</td>\n",
       "      <td>0</td>\n",
       "      <td>0</td>\n",
       "      <td>0</td>\n",
       "      <td>0</td>\n",
       "      <td>0</td>\n",
       "      <td>1</td>\n",
       "      <td>1</td>\n",
       "      <td>0</td>\n",
       "      <td>0</td>\n",
       "      <td>0</td>\n",
       "      <td>1</td>\n",
       "      <td>0</td>\n",
       "      <td>0</td>\n",
       "      <td>1</td>\n",
       "      <td>0</td>\n",
       "    </tr>\n",
       "    <tr>\n",
       "      <th>1597</th>\n",
       "      <td>1.0</td>\n",
       "      <td>1.0</td>\n",
       "      <td>1.0</td>\n",
       "      <td>1.0</td>\n",
       "      <td>40.80352</td>\n",
       "      <td>-73.96551</td>\n",
       "      <td>1</td>\n",
       "      <td>1.0</td>\n",
       "      <td>1.0</td>\n",
       "      <td>5.010635</td>\n",
       "      <td>30</td>\n",
       "      <td>1125</td>\n",
       "      <td>1</td>\n",
       "      <td>29</td>\n",
       "      <td>36</td>\n",
       "      <td>0</td>\n",
       "      <td>1</td>\n",
       "      <td>1.0</td>\n",
       "      <td>1</td>\n",
       "      <td>1</td>\n",
       "      <td>1</td>\n",
       "      <td>0</td>\n",
       "      <td>0</td>\n",
       "      <td>0</td>\n",
       "      <td>0</td>\n",
       "      <td>0</td>\n",
       "      <td>0</td>\n",
       "      <td>1</td>\n",
       "      <td>0</td>\n",
       "      <td>0</td>\n",
       "      <td>0</td>\n",
       "      <td>1</td>\n",
       "      <td>0</td>\n",
       "      <td>1</td>\n",
       "      <td>0</td>\n",
       "      <td>1</td>\n",
       "      <td>0</td>\n",
       "    </tr>\n",
       "    <tr>\n",
       "      <th>17036</th>\n",
       "      <td>0.0</td>\n",
       "      <td>1.0</td>\n",
       "      <td>1.0</td>\n",
       "      <td>1.0</td>\n",
       "      <td>40.73925</td>\n",
       "      <td>-74.00162</td>\n",
       "      <td>3</td>\n",
       "      <td>1.0</td>\n",
       "      <td>1.0</td>\n",
       "      <td>4.753590</td>\n",
       "      <td>30</td>\n",
       "      <td>90</td>\n",
       "      <td>1</td>\n",
       "      <td>0</td>\n",
       "      <td>15</td>\n",
       "      <td>0</td>\n",
       "      <td>1</td>\n",
       "      <td>1.0</td>\n",
       "      <td>1</td>\n",
       "      <td>1</td>\n",
       "      <td>1</td>\n",
       "      <td>1</td>\n",
       "      <td>0</td>\n",
       "      <td>0</td>\n",
       "      <td>0</td>\n",
       "      <td>0</td>\n",
       "      <td>0</td>\n",
       "      <td>1</td>\n",
       "      <td>1</td>\n",
       "      <td>0</td>\n",
       "      <td>0</td>\n",
       "      <td>0</td>\n",
       "      <td>1</td>\n",
       "      <td>0</td>\n",
       "      <td>0</td>\n",
       "      <td>1</td>\n",
       "      <td>0</td>\n",
       "    </tr>\n",
       "    <tr>\n",
       "      <th>10735</th>\n",
       "      <td>1.0</td>\n",
       "      <td>2.0</td>\n",
       "      <td>1.0</td>\n",
       "      <td>1.0</td>\n",
       "      <td>40.71224</td>\n",
       "      <td>-73.96240</td>\n",
       "      <td>6</td>\n",
       "      <td>2.0</td>\n",
       "      <td>2.0</td>\n",
       "      <td>5.273000</td>\n",
       "      <td>2</td>\n",
       "      <td>20</td>\n",
       "      <td>1</td>\n",
       "      <td>0</td>\n",
       "      <td>60</td>\n",
       "      <td>0</td>\n",
       "      <td>2</td>\n",
       "      <td>1.0</td>\n",
       "      <td>1</td>\n",
       "      <td>1</td>\n",
       "      <td>1</td>\n",
       "      <td>1</td>\n",
       "      <td>0</td>\n",
       "      <td>0</td>\n",
       "      <td>0</td>\n",
       "      <td>0</td>\n",
       "      <td>0</td>\n",
       "      <td>1</td>\n",
       "      <td>1</td>\n",
       "      <td>0</td>\n",
       "      <td>0</td>\n",
       "      <td>0</td>\n",
       "      <td>1</td>\n",
       "      <td>0</td>\n",
       "      <td>0</td>\n",
       "      <td>1</td>\n",
       "      <td>0</td>\n",
       "    </tr>\n",
       "    <tr>\n",
       "      <th>7123</th>\n",
       "      <td>0.0</td>\n",
       "      <td>1.0</td>\n",
       "      <td>1.0</td>\n",
       "      <td>1.0</td>\n",
       "      <td>40.62152</td>\n",
       "      <td>-73.99363</td>\n",
       "      <td>4</td>\n",
       "      <td>1.0</td>\n",
       "      <td>1.0</td>\n",
       "      <td>4.574711</td>\n",
       "      <td>30</td>\n",
       "      <td>1125</td>\n",
       "      <td>1</td>\n",
       "      <td>0</td>\n",
       "      <td>94</td>\n",
       "      <td>0</td>\n",
       "      <td>1</td>\n",
       "      <td>1.0</td>\n",
       "      <td>1</td>\n",
       "      <td>0</td>\n",
       "      <td>1</td>\n",
       "      <td>1</td>\n",
       "      <td>0</td>\n",
       "      <td>0</td>\n",
       "      <td>0</td>\n",
       "      <td>0</td>\n",
       "      <td>0</td>\n",
       "      <td>1</td>\n",
       "      <td>1</td>\n",
       "      <td>0</td>\n",
       "      <td>0</td>\n",
       "      <td>0</td>\n",
       "      <td>1</td>\n",
       "      <td>0</td>\n",
       "      <td>0</td>\n",
       "      <td>1</td>\n",
       "      <td>0</td>\n",
       "    </tr>\n",
       "  </tbody>\n",
       "</table>\n",
       "</div>"
      ],
      "text/plain": [
       "       host_is_superhost  host_listings_count  host_has_profile_pic  \\\n",
       "35807                0.0                  2.0                   1.0   \n",
       "15344                0.0                  1.0                   1.0   \n",
       "1597                 1.0                  1.0                   1.0   \n",
       "17036                0.0                  1.0                   1.0   \n",
       "10735                1.0                  2.0                   1.0   \n",
       "7123                 0.0                  1.0                   1.0   \n",
       "\n",
       "       host_identity_verified  latitude  longitude  accommodates  bedrooms  \\\n",
       "35807                     0.0  40.73698  -73.95737             6       3.0   \n",
       "15344                     1.0  40.77264  -73.95727             2       1.0   \n",
       "1597                      1.0  40.80352  -73.96551             1       1.0   \n",
       "17036                     1.0  40.73925  -74.00162             3       1.0   \n",
       "10735                     1.0  40.71224  -73.96240             6       2.0   \n",
       "7123                      1.0  40.62152  -73.99363             4       1.0   \n",
       "\n",
       "       beds     price  minimum_nights  maximum_nights  has_availability  \\\n",
       "35807   3.0  5.749393               3            1125                 1   \n",
       "15344   1.0  5.010635              30            1125                 1   \n",
       "1597    1.0  5.010635              30            1125                 1   \n",
       "17036   1.0  4.753590              30              90                 1   \n",
       "10735   2.0  5.273000               2              20                 1   \n",
       "7123    1.0  4.574711              30            1125                 1   \n",
       "\n",
       "       availability_30  number_of_reviews  instant_bookable  \\\n",
       "35807                1                  0                 0   \n",
       "15344                0                  1                 1   \n",
       "1597                29                 36                 0   \n",
       "17036                0                 15                 0   \n",
       "10735                0                 60                 0   \n",
       "7123                 0                 94                 0   \n",
       "\n",
       "       calculated_host_listings_count  t_bathrooms  am_wifi  \\\n",
       "35807                               1          3.0        1   \n",
       "15344                               1          1.0        1   \n",
       "1597                                1          1.0        1   \n",
       "17036                               1          1.0        1   \n",
       "10735                               2          1.0        1   \n",
       "7123                                1          1.0        1   \n",
       "\n",
       "       am_air conditioning  am_kitchen  am_parking  am_patio  am_barbecue  \\\n",
       "35807                    1           1           0         1            0   \n",
       "15344                    1           1           0         0            0   \n",
       "1597                     1           1           0         0            0   \n",
       "17036                    1           1           1         0            0   \n",
       "10735                    1           1           1         0            0   \n",
       "7123                     0           1           1         0            0   \n",
       "\n",
       "       am_outdoor  am_games  am_soap  am_shampoo  apartment  house  other  \\\n",
       "35807           0         0        0           1          0      1      0   \n",
       "15344           0         0        0           1          1      0      0   \n",
       "1597            0         0        0           1          0      0      0   \n",
       "17036           0         0        0           1          1      0      0   \n",
       "10735           0         0        0           1          1      0      0   \n",
       "7123            0         0        0           1          1      0      0   \n",
       "\n",
       "       room  entire home/apt  private room  shared room  private  shared  \n",
       "35807     0                1             0            0        1       0  \n",
       "15344     0                1             0            0        1       0  \n",
       "1597      1                0             1            0        1       0  \n",
       "17036     0                1             0            0        1       0  \n",
       "10735     0                1             0            0        1       0  \n",
       "7123      0                1             0            0        1       0  "
      ]
     },
     "execution_count": 16,
     "metadata": {},
     "output_type": "execute_result"
    }
   ],
   "source": [
    "train_dataset.head(6)"
   ]
  },
  {
   "cell_type": "markdown",
   "metadata": {},
   "source": [
    "## Normalizando"
   ]
  },
  {
   "cell_type": "code",
   "execution_count": 17,
   "metadata": {},
   "outputs": [],
   "source": [
    "train_stats = train_dataset.describe()\n",
    "train_stats = train_stats.transpose()"
   ]
  },
  {
   "cell_type": "code",
   "execution_count": 18,
   "metadata": {},
   "outputs": [],
   "source": [
    "def norm(x):\n",
    "    return (x - train_stats['mean']) / train_stats['std']\n",
    "normed_train_data = norm(train_dataset)\n",
    "normed_test_data = norm(test_dataset)"
   ]
  },
  {
   "cell_type": "markdown",
   "metadata": {},
   "source": [
    "# Separando caracteristicas y etiquetas"
   ]
  },
  {
   "cell_type": "code",
   "execution_count": 19,
   "metadata": {},
   "outputs": [],
   "source": [
    "train_labels = normed_train_data.pop('price')\n",
    "test_labels = normed_test_data.pop('price')"
   ]
  },
  {
   "cell_type": "code",
   "execution_count": 20,
   "metadata": {},
   "outputs": [
    {
     "data": {
      "image/png": "[encoded data removed]",
      "text/plain": [
       "<Figure size 360x360 with 1 Axes>"
      ]
     },
     "metadata": {
      "needs_background": "light"
     },
     "output_type": "display_data"
    }
   ],
   "source": [
    "sns.displot(train_labels)\n",
    "plt.show()"
   ]
  },
  {
   "cell_type": "code",
   "execution_count": 21,
   "metadata": {},
   "outputs": [
    {
     "data": {
      "image/png": "[encoded data removed]",
      "text/plain": [
       "<Figure size 360x360 with 1 Axes>"
      ]
     },
     "metadata": {
      "needs_background": "light"
     },
     "output_type": "display_data"
    }
   ],
   "source": [
    "sns.displot(test_labels)\n",
    "plt.show()"
   ]
  },
  {
   "cell_type": "markdown",
   "metadata": {},
   "source": [
    "# El modelo"
   ]
  },
  {
   "cell_type": "markdown",
   "metadata": {},
   "source": [
    "### Arquitectura"
   ]
  },
  {
   "cell_type": "markdown",
   "metadata": {},
   "source": [
    "Ensayo 1: 256, dp 0.3, 128, dp 0.1, 32, 1. Todas activacion relu\n",
    "\n",
    "Ensayo 1: 512, dp 0.1, 128, dp 0.1, 32, 1. Todas activacion relu\n",
    "\n",
    "Ensayo 1: 512, dp 0.1, 256, dp 0.1, 32, 1. Todas activacion relu\n",
    "\n",
    "Ensayo 1: 512, dp 0.1, 256, dp 0.1, 32, 1. Todas activacion relu adam 0.0001\n",
    "\n",
    "Ensayo 1: 128 dp 0.1, 64, 1. Todas activacion relu adam 0.00001\n",
    "\n",
    "Ensayo 1: 64 dp 0.1, 64, 1. Todas activacion relu adam 0.00001\n",
    "\n",
    "Ensayo 1: 128 dp 0.3, 64, 1. Todas activacion relu adam 0.00001 Valores inferiores a 400\n",
    "\n",
    "Ensayo 1: 256 dp 0.3, 64, 1. Todas activacion relu adam 0.00001 Valores inferiores a 400 Por ahora la mejr\n",
    "\n",
    "\n",
    "Ensayo 1: 256 dp 0.3, 64, 1. Todas activacion relu adam 0.00001 Valores inferiores a 600\n",
    "\n",
    "\n",
    "Ensayo 1: 256 dp 0.3, 256, 1. Todas activacion relu adam 0.00001 Valores inferiores a 600\n",
    "\n",
    "Ensayo 1: 512 dp 0.3, 256, 1. Todas activacion relu adam 0.00001 Valores inferiores a 600\n",
    "\n",
    "Ensayo 1: 512 dp 0.1, 256, 1. Todas activacion relu adam 0.00001 Valores inferiores a 600\n",
    "\n",
    "Ensayo 1: 512 dp 0.1, 256,128, 1. Todas activacion relu adam 0.00001 Valores inferiores a 600 buen ajuste pero hay un punto que la prediccion es muy alta :(\n",
    "\n",
    "Ensayo 1: 512 dp 0.1, 256,32, 1. Todas activacion relu adam 0.00001 Valores inferiores a 600. es necesario disminuir la variazan"
   ]
  },
  {
   "cell_type": "code",
   "execution_count": 22,
   "metadata": {},
   "outputs": [],
   "source": [
    "# ,kernel_regularizer=regularizers.l2(0.05)\n",
    "# La mejor que llevo es 512, 256, 32, dropout 0.1 y sin regularizador\n",
    "def build_model():  \n",
    "  model = keras.Sequential([\n",
    "    layers.Dense(512, activation='relu',input_shape=[len(normed_train_data.keys())]),\n",
    "    layers.Dropout(0.1),\n",
    "    layers.Dense(256, activation='relu'),\n",
    "    layers.Dense(32, activation='relu'),\n",
    "    layers.Dense(1)\n",
    "  ])\n",
    "\n",
    "  optimizer=Adam(0.00001)\n",
    "\n",
    "  model.compile(loss='mse',\n",
    "                optimizer=optimizer,\n",
    "                metrics=['mae', 'mse'])\n",
    "  return model"
   ]
  },
  {
   "cell_type": "code",
   "execution_count": 23,
   "metadata": {},
   "outputs": [],
   "source": [
    "model = build_model()"
   ]
  },
  {
   "cell_type": "code",
   "execution_count": 24,
   "metadata": {},
   "outputs": [
    {
     "name": "stdout",
     "output_type": "stream",
     "text": [
      "Model: \"sequential\"\n",
      "_________________________________________________________________\n",
      "Layer (type)                 Output Shape              Param #   \n",
      "=================================================================\n",
      "dense (Dense)                (None, 512)               18944     \n",
      "_________________________________________________________________\n",
      "dropout (Dropout)            (None, 512)               0         \n",
      "_________________________________________________________________\n",
      "dense_1 (Dense)              (None, 256)               131328    \n",
      "_________________________________________________________________\n",
      "dense_2 (Dense)              (None, 32)                8224      \n",
      "_________________________________________________________________\n",
      "dense_3 (Dense)              (None, 1)                 33        \n",
      "=================================================================\n",
      "Total params: 158,529\n",
      "Trainable params: 158,529\n",
      "Non-trainable params: 0\n",
      "_________________________________________________________________\n"
     ]
    }
   ],
   "source": [
    "model.summary()"
   ]
  },
  {
   "cell_type": "code",
   "execution_count": 25,
   "metadata": {},
   "outputs": [
    {
     "data": {
      "image/png": "[encoded data removed]",
      "text/plain": [
       "<IPython.core.display.Image object>"
      ]
     },
     "execution_count": 25,
     "metadata": {},
     "output_type": "execute_result"
    }
   ],
   "source": [
    "plot_model(model, to_file='regresion_model_keras.png', show_shapes=True)"
   ]
  },
  {
   "cell_type": "code",
   "execution_count": 26,
   "metadata": {},
   "outputs": [
    {
     "data": {
      "text/plain": [
       "array([[-0.7880004 ],\n",
       "       [-0.4666443 ],\n",
       "       [-0.33854622],\n",
       "       [-0.40194517],\n",
       "       [-0.49913427],\n",
       "       [-0.3023389 ],\n",
       "       [-0.42375916],\n",
       "       [-0.39436692],\n",
       "       [-0.4194611 ],\n",
       "       [-0.42028517]], dtype=float32)"
      ]
     },
     "execution_count": 26,
     "metadata": {},
     "output_type": "execute_result"
    }
   ],
   "source": [
    "example_batch = normed_train_data[:10]\n",
    "example_result = model.predict(example_batch)\n",
    "example_result"
   ]
  },
  {
   "cell_type": "markdown",
   "metadata": {},
   "source": [
    "### Entrenamiento"
   ]
  },
  {
   "cell_type": "code",
   "execution_count": 27,
   "metadata": {},
   "outputs": [
    {
     "name": "stdout",
     "output_type": "stream",
     "text": [
      "\n",
      "....................................................................................................\n",
      "..................................................\n",
      "Tiempo de ejecución: 4.5 minutos\n"
     ]
    }
   ],
   "source": [
    "# Display training progress by printing a single dot for each completed epoch\n",
    "time_start = time.time()\n",
    "\n",
    "class PrintDot(keras.callbacks.Callback):\n",
    "  def on_epoch_end(self, epoch, logs):\n",
    "    if epoch % 100 == 0: print('')\n",
    "    print('.', end='')\n",
    "\n",
    "EPOCHS = 150\n",
    "\n",
    "history = model.fit(\n",
    "  normed_train_data, train_labels,\n",
    "  epochs=EPOCHS, validation_split = 0.2, verbose=0,\n",
    "  callbacks=[PrintDot()])\n",
    "\n",
    "time_end = time.time()\n",
    "print(f\"\\nTiempo de ejecución: {round((time_end - time_start)/60,1)} minutos\")"
   ]
  },
  {
   "cell_type": "code",
   "execution_count": 28,
   "metadata": {},
   "outputs": [
    {
     "data": {
      "text/html": [
       "<div>\n",
       "<style scoped>\n",
       "    .dataframe tbody tr th:only-of-type {\n",
       "        vertical-align: middle;\n",
       "    }\n",
       "\n",
       "    .dataframe tbody tr th {\n",
       "        vertical-align: top;\n",
       "    }\n",
       "\n",
       "    .dataframe thead th {\n",
       "        text-align: right;\n",
       "    }\n",
       "</style>\n",
       "<table border=\"1\" class=\"dataframe\">\n",
       "  <thead>\n",
       "    <tr style=\"text-align: right;\">\n",
       "      <th></th>\n",
       "      <th>loss</th>\n",
       "      <th>mae</th>\n",
       "      <th>mse</th>\n",
       "      <th>val_loss</th>\n",
       "      <th>val_mae</th>\n",
       "      <th>val_mse</th>\n",
       "      <th>epoch</th>\n",
       "    </tr>\n",
       "  </thead>\n",
       "  <tbody>\n",
       "    <tr>\n",
       "      <th>145</th>\n",
       "      <td>0.281369</td>\n",
       "      <td>0.406152</td>\n",
       "      <td>0.281369</td>\n",
       "      <td>0.385858</td>\n",
       "      <td>0.434682</td>\n",
       "      <td>0.385858</td>\n",
       "      <td>145</td>\n",
       "    </tr>\n",
       "    <tr>\n",
       "      <th>146</th>\n",
       "      <td>0.280443</td>\n",
       "      <td>0.406244</td>\n",
       "      <td>0.280443</td>\n",
       "      <td>0.388689</td>\n",
       "      <td>0.435233</td>\n",
       "      <td>0.388689</td>\n",
       "      <td>146</td>\n",
       "    </tr>\n",
       "    <tr>\n",
       "      <th>147</th>\n",
       "      <td>0.279544</td>\n",
       "      <td>0.404957</td>\n",
       "      <td>0.279544</td>\n",
       "      <td>0.389307</td>\n",
       "      <td>0.435116</td>\n",
       "      <td>0.389307</td>\n",
       "      <td>147</td>\n",
       "    </tr>\n",
       "    <tr>\n",
       "      <th>148</th>\n",
       "      <td>0.279707</td>\n",
       "      <td>0.405054</td>\n",
       "      <td>0.279707</td>\n",
       "      <td>0.392158</td>\n",
       "      <td>0.435178</td>\n",
       "      <td>0.392158</td>\n",
       "      <td>148</td>\n",
       "    </tr>\n",
       "    <tr>\n",
       "      <th>149</th>\n",
       "      <td>0.277381</td>\n",
       "      <td>0.403774</td>\n",
       "      <td>0.277381</td>\n",
       "      <td>0.397875</td>\n",
       "      <td>0.437761</td>\n",
       "      <td>0.397875</td>\n",
       "      <td>149</td>\n",
       "    </tr>\n",
       "  </tbody>\n",
       "</table>\n",
       "</div>"
      ],
      "text/plain": [
       "         loss       mae       mse  val_loss   val_mae   val_mse  epoch\n",
       "145  0.281369  0.406152  0.281369  0.385858  0.434682  0.385858    145\n",
       "146  0.280443  0.406244  0.280443  0.388689  0.435233  0.388689    146\n",
       "147  0.279544  0.404957  0.279544  0.389307  0.435116  0.389307    147\n",
       "148  0.279707  0.405054  0.279707  0.392158  0.435178  0.392158    148\n",
       "149  0.277381  0.403774  0.277381  0.397875  0.437761  0.397875    149"
      ]
     },
     "execution_count": 28,
     "metadata": {},
     "output_type": "execute_result"
    }
   ],
   "source": [
    "hist = pd.DataFrame(history.history)\n",
    "hist['epoch'] = history.epoch\n",
    "hist.tail()"
   ]
  },
  {
   "cell_type": "code",
   "execution_count": 29,
   "metadata": {},
   "outputs": [
    {
     "data": {
      "image/png": "[encoded data removed]",
      "text/plain": [
       "<Figure size 432x288 with 1 Axes>"
      ]
     },
     "metadata": {
      "needs_background": "light"
     },
     "output_type": "display_data"
    },
    {
     "data": {
      "image/png": "[encoded data removed]",
      "text/plain": [
       "<Figure size 432x288 with 1 Axes>"
      ]
     },
     "metadata": {
      "needs_background": "light"
     },
     "output_type": "display_data"
    }
   ],
   "source": [
    "def plot_history(history):\n",
    "  hist = pd.DataFrame(history.history)\n",
    "  hist['epoch'] = history.epoch\n",
    "\n",
    "  plt.figure()\n",
    "  plt.xlabel('Epoch')\n",
    "  plt.ylabel('Mean Abs Error [Ln(Price)]')\n",
    "  plt.plot(hist['epoch'], hist['mae'],\n",
    "           label='Train Error')\n",
    "  plt.plot(hist['epoch'], hist['val_mae'],\n",
    "           label = 'Val Error')\n",
    "  plt.ylim([0.0,1])\n",
    "  plt.legend()\n",
    "\n",
    "  plt.figure()\n",
    "  plt.xlabel('Epoch')\n",
    "  plt.ylabel('Mean Square Error [$Ln(Price)^2$]')\n",
    "  plt.plot(hist['epoch'], hist['mse'],\n",
    "           label='Train Error')\n",
    "  plt.plot(hist['epoch'], hist['val_mse'],\n",
    "           label = 'Val Error')\n",
    "  plt.ylim([0.0,1])\n",
    "  plt.legend()\n",
    "  plt.show()\n",
    "\n",
    "\n",
    "plot_history(history)"
   ]
  },
  {
   "cell_type": "code",
   "execution_count": 30,
   "metadata": {},
   "outputs": [
    {
     "name": "stdout",
     "output_type": "stream",
     "text": [
      "218/218 - 0s - loss: 0.3263 - mae: 0.4333 - mse: 0.3263\n",
      "Testing set Mean Abs Error:  0.43\n"
     ]
    }
   ],
   "source": [
    "loss, mae, mse = model.evaluate(normed_test_data, test_labels, verbose=2)\n",
    "\n",
    "print(\"Testing set Mean Abs Error: {:5.2f}\".format(mae))"
   ]
  },
  {
   "cell_type": "markdown",
   "metadata": {},
   "source": [
    "## Predicciones"
   ]
  },
  {
   "cell_type": "code",
   "execution_count": 31,
   "metadata": {},
   "outputs": [
    {
     "name": "stdout",
     "output_type": "stream",
     "text": [
      "6969\n"
     ]
    },
    {
     "data": {
      "image/png": "[encoded data removed]",
      "text/plain": [
       "<Figure size 432x288 with 1 Axes>"
      ]
     },
     "metadata": {
      "needs_background": "light"
     },
     "output_type": "display_data"
    }
   ],
   "source": [
    "test_predictions = model.predict(normed_test_data).flatten()\n",
    "print(len(test_predictions))\n",
    "plt.scatter(test_labels, test_predictions,alpha=0.7,s=3)\n",
    "plt.xlabel('Testing True Values [Price]')\n",
    "plt.ylabel('Testing Predictions [Price]')\n",
    "plt.axis('equal')\n",
    "plt.axis('square')\n",
    "plt.xlim([0,plt.xlim()[1]])\n",
    "plt.ylim([0,plt.ylim()[1]])\n",
    "_ = plt.plot([-10, 10], [-10, 10]) "
   ]
  },
  {
   "cell_type": "code",
   "execution_count": 35,
   "metadata": {},
   "outputs": [
    {
     "name": "stdout",
     "output_type": "stream",
     "text": [
      "6969\n"
     ]
    },
    {
     "data": {
      "image/png": "[encoded data removed]",
      "text/plain": [
       "<Figure size 432x288 with 1 Axes>"
      ]
     },
     "metadata": {
      "needs_background": "light"
     },
     "output_type": "display_data"
    }
   ],
   "source": [
    "train_predictions = model.predict(normed_train_data).flatten()\n",
    "print(len(test_predictions))\n",
    "plt.scatter(train_labels, train_predictions,alpha=0.7,s=3)\n",
    "plt.xlabel('Train True Values [Price]')\n",
    "plt.ylabel('Train Predictions [Price]')\n",
    "plt.axis('equal')\n",
    "plt.axis('square')\n",
    "plt.xlim([0,plt.xlim()[1]])\n",
    "plt.ylim([0,plt.xlim()[1]])\n",
    "_ = plt.plot([-10, 10], [-10, 10])"
   ]
  },
  {
   "cell_type": "code",
   "execution_count": 33,
   "metadata": {},
   "outputs": [
    {
     "data": {
      "image/png": "[encoded data removed]",
      "text/plain": [
       "<Figure size 432x288 with 1 Axes>"
      ]
     },
     "metadata": {
      "needs_background": "light"
     },
     "output_type": "display_data"
    }
   ],
   "source": [
    "error = test_predictions - test_labels\n",
    "plt.hist(error, bins = 25)\n",
    "plt.xlabel(\"Prediction Error [Price]\")\n",
    "_ = plt.ylabel(\"Count\")"
   ]
  },
  {
   "cell_type": "code",
   "execution_count": 34,
   "metadata": {},
   "outputs": [
    {
     "name": "stdout",
     "output_type": "stream",
     "text": [
      "Training MSE: 0.2868\n",
      "Validation MSE: 0.3263\n",
      "\n",
      "Training r2: 0.7132\n",
      "Validation r2: 0.6778\n"
     ]
    }
   ],
   "source": [
    "y_test_pred = model.predict(normed_test_data)\n",
    "y_train_pred = model.predict(normed_train_data)\n",
    "print(\"Training MSE:\", round(mean_squared_error(train_labels, y_train_pred),4))\n",
    "print(\"Validation MSE:\", round(mean_squared_error(test_labels, y_test_pred),4))\n",
    "print(\"\\nTraining r2:\", round(r2_score(train_labels, y_train_pred),4))\n",
    "print(\"Validation r2:\", round(r2_score(test_labels, y_test_pred),4))"
   ]
  },
  {
   "cell_type": "code",
   "execution_count": null,
   "metadata": {},
   "outputs": [],
   "source": []
  }
 ],
 "metadata": {
  "kernelspec": {
   "display_name": "Python 3",
   "language": "python",
   "name": "python3"
  },
  "language_info": {
   "codemirror_mode": {
    "name": "ipython",
    "version": 3
   },
   "file_extension": ".py",
   "mimetype": "text/x-python",
   "name": "python",
   "nbconvert_exporter": "python",
   "pygments_lexer": "ipython3",
   "version": "3.8.5"
  }
 },
 "nbformat": 4,
 "nbformat_minor": 4
}
