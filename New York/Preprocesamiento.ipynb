{
 "cells": [
  {
   "cell_type": "markdown",
   "metadata": {},
   "source": [
    "# Pre procesamiento de los datos\n",
    "Versión previa: Oct 21, 2020 \n",
    "\n",
    "Modificado en Mayo 1, 2021\n",
    "\n",
    "[1. Adquisición datos](#1.-Adquisición-datos)\n",
    "\n",
    "[2. Preprocesamiento](#Preprocesamiento)\n",
    "\n",
    "* [Columnas de valor único](#1.-Columnas-de-valor-único)\n",
    "* [Convirtiendo strings en floats](#2.-Convirtiendo-strings-en-floats)\n",
    "* [Datos faltantes](#3.-Datos-faltantes)\n",
    "* [Agrupando: 'Property_type' y 'Bed_type](#4.-Agrupando-'Property_type'-y-'Bed_type)\n",
    "* [Availability](#Availability)\n",
    "* [Eliminando columnas](#5.-Columnas-a-eliminar-dada-la-naturaleza-de-sus-datos)\n",
    "* [Replacing f, t](#6.-Replacing-f,-t)\n",
    "* [Bathrooms](#7.-Bathrooms)\n",
    "* [Amenities](#Amenities)\n",
    "* [Reemplazando False and True por 0,1](#6.-Reemplazando-False-and-True-por-0,1)\n",
    "* [Generando dummies](#8.-Generando-dummies-de-variables-categóricas)\n",
    "* [Removiendo datos faltantes](#9.-Removiendo-datos-faltantes)\n",
    "\n",
    "[3. Dataset final](#3.-Dataset-final)"
   ]
  },
  {
   "cell_type": "markdown",
   "metadata": {},
   "source": [
    "### 1. Adquisición datos"
   ]
  },
  {
   "cell_type": "markdown",
   "metadata": {},
   "source": [
    "Los datos han sido extraídos del repositorio oficial de [Airbnb](http://insideairbnb.com/get-the-data.html). Este script ulitiza la actualización de Abril 7 del 2021 para la ciudad de New York"
   ]
  },
  {
   "cell_type": "code",
   "execution_count": 1,
   "metadata": {},
   "outputs": [],
   "source": [
    "import pandas as pd\n",
    "import numpy as np\n",
    "import matplotlib.pyplot as plt\n",
    "import seaborn as sns\n",
    "import re\n",
    "import time\n",
    "pd.options.display.max_columns = None\n",
    "pd.options.display.max_rows= None"
   ]
  },
  {
   "cell_type": "code",
   "execution_count": 2,
   "metadata": {},
   "outputs": [
    {
     "name": "stdout",
     "output_type": "stream",
     "text": [
      "El dataset de entrada contiene 36905 filas y 74 columnas\n"
     ]
    }
   ],
   "source": [
    "listings=pd.read_csv('listings.csv')\n",
    "\n",
    "print(f'El dataset de entrada contiene {listings.shape[0]} filas y {listings.shape[1]} columnas')"
   ]
  },
  {
   "cell_type": "code",
   "execution_count": 3,
   "metadata": {},
   "outputs": [
    {
     "data": {
      "text/html": [
       "<div>\n",
       "<style scoped>\n",
       "    .dataframe tbody tr th:only-of-type {\n",
       "        vertical-align: middle;\n",
       "    }\n",
       "\n",
       "    .dataframe tbody tr th {\n",
       "        vertical-align: top;\n",
       "    }\n",
       "\n",
       "    .dataframe thead th {\n",
       "        text-align: right;\n",
       "    }\n",
       "</style>\n",
       "<table border=\"1\" class=\"dataframe\">\n",
       "  <thead>\n",
       "    <tr style=\"text-align: right;\">\n",
       "      <th></th>\n",
       "      <th>id</th>\n",
       "      <th>listing_url</th>\n",
       "      <th>scrape_id</th>\n",
       "      <th>last_scraped</th>\n",
       "      <th>name</th>\n",
       "      <th>description</th>\n",
       "      <th>neighborhood_overview</th>\n",
       "      <th>picture_url</th>\n",
       "      <th>host_id</th>\n",
       "      <th>host_url</th>\n",
       "      <th>host_name</th>\n",
       "      <th>host_since</th>\n",
       "      <th>host_location</th>\n",
       "      <th>host_about</th>\n",
       "      <th>host_response_time</th>\n",
       "      <th>host_response_rate</th>\n",
       "      <th>host_acceptance_rate</th>\n",
       "      <th>host_is_superhost</th>\n",
       "      <th>host_thumbnail_url</th>\n",
       "      <th>host_picture_url</th>\n",
       "      <th>host_neighbourhood</th>\n",
       "      <th>host_listings_count</th>\n",
       "      <th>host_total_listings_count</th>\n",
       "      <th>host_verifications</th>\n",
       "      <th>host_has_profile_pic</th>\n",
       "      <th>host_identity_verified</th>\n",
       "      <th>neighbourhood</th>\n",
       "      <th>neighbourhood_cleansed</th>\n",
       "      <th>neighbourhood_group_cleansed</th>\n",
       "      <th>latitude</th>\n",
       "      <th>longitude</th>\n",
       "      <th>property_type</th>\n",
       "      <th>room_type</th>\n",
       "      <th>accommodates</th>\n",
       "      <th>bathrooms</th>\n",
       "      <th>bathrooms_text</th>\n",
       "      <th>bedrooms</th>\n",
       "      <th>beds</th>\n",
       "      <th>amenities</th>\n",
       "      <th>price</th>\n",
       "      <th>minimum_nights</th>\n",
       "      <th>maximum_nights</th>\n",
       "      <th>minimum_minimum_nights</th>\n",
       "      <th>maximum_minimum_nights</th>\n",
       "      <th>minimum_maximum_nights</th>\n",
       "      <th>maximum_maximum_nights</th>\n",
       "      <th>minimum_nights_avg_ntm</th>\n",
       "      <th>maximum_nights_avg_ntm</th>\n",
       "      <th>calendar_updated</th>\n",
       "      <th>has_availability</th>\n",
       "      <th>availability_30</th>\n",
       "      <th>availability_60</th>\n",
       "      <th>availability_90</th>\n",
       "      <th>availability_365</th>\n",
       "      <th>calendar_last_scraped</th>\n",
       "      <th>number_of_reviews</th>\n",
       "      <th>number_of_reviews_ltm</th>\n",
       "      <th>number_of_reviews_l30d</th>\n",
       "      <th>first_review</th>\n",
       "      <th>last_review</th>\n",
       "      <th>review_scores_rating</th>\n",
       "      <th>review_scores_accuracy</th>\n",
       "      <th>review_scores_cleanliness</th>\n",
       "      <th>review_scores_checkin</th>\n",
       "      <th>review_scores_communication</th>\n",
       "      <th>review_scores_location</th>\n",
       "      <th>review_scores_value</th>\n",
       "      <th>license</th>\n",
       "      <th>instant_bookable</th>\n",
       "      <th>calculated_host_listings_count</th>\n",
       "      <th>calculated_host_listings_count_entire_homes</th>\n",
       "      <th>calculated_host_listings_count_private_rooms</th>\n",
       "      <th>calculated_host_listings_count_shared_rooms</th>\n",
       "      <th>reviews_per_month</th>\n",
       "    </tr>\n",
       "  </thead>\n",
       "  <tbody>\n",
       "    <tr>\n",
       "      <th>36903</th>\n",
       "      <td>49091581</td>\n",
       "      <td>https://www.airbnb.com/rooms/49091581</td>\n",
       "      <td>20210407173759</td>\n",
       "      <td>2021-04-09</td>\n",
       "      <td>Furnished Bright Apartment in Hell's Kitchen</td>\n",
       "      <td>1 bedroom apartment in Hell's Kitchen.&lt;br /&gt;Mo...</td>\n",
       "      <td>NaN</td>\n",
       "      <td>https://a0.muscache.com/pictures/8f730543-a68b...</td>\n",
       "      <td>305240193</td>\n",
       "      <td>https://www.airbnb.com/users/show/305240193</td>\n",
       "      <td>June</td>\n",
       "      <td>2019-10-29</td>\n",
       "      <td>New York, New York, United States</td>\n",
       "      <td>At June Homes, our mission is to make renting ...</td>\n",
       "      <td>within a few hours</td>\n",
       "      <td>99%</td>\n",
       "      <td>46%</td>\n",
       "      <td>f</td>\n",
       "      <td>https://a0.muscache.com/im/pictures/user/4adc1...</td>\n",
       "      <td>https://a0.muscache.com/im/pictures/user/4adc1...</td>\n",
       "      <td>Crown Heights</td>\n",
       "      <td>1.0</td>\n",
       "      <td>1.0</td>\n",
       "      <td>['email', 'phone', 'jumio', 'offline_governmen...</td>\n",
       "      <td>t</td>\n",
       "      <td>t</td>\n",
       "      <td>NaN</td>\n",
       "      <td>Hell's Kitchen</td>\n",
       "      <td>Manhattan</td>\n",
       "      <td>40.76456</td>\n",
       "      <td>-73.98573</td>\n",
       "      <td>Entire apartment</td>\n",
       "      <td>Entire home/apt</td>\n",
       "      <td>1</td>\n",
       "      <td>NaN</td>\n",
       "      <td>1 bath</td>\n",
       "      <td>1.0</td>\n",
       "      <td>1.0</td>\n",
       "      <td>[\"Refrigerator\", \"Essentials\", \"Long term stay...</td>\n",
       "      <td>$123.00</td>\n",
       "      <td>30</td>\n",
       "      <td>180</td>\n",
       "      <td>30.0</td>\n",
       "      <td>30.0</td>\n",
       "      <td>180.0</td>\n",
       "      <td>180.0</td>\n",
       "      <td>30.0</td>\n",
       "      <td>180.0</td>\n",
       "      <td>NaN</td>\n",
       "      <td>t</td>\n",
       "      <td>0</td>\n",
       "      <td>7</td>\n",
       "      <td>37</td>\n",
       "      <td>312</td>\n",
       "      <td>2021-04-09</td>\n",
       "      <td>0</td>\n",
       "      <td>0</td>\n",
       "      <td>0</td>\n",
       "      <td>NaN</td>\n",
       "      <td>NaN</td>\n",
       "      <td>NaN</td>\n",
       "      <td>NaN</td>\n",
       "      <td>NaN</td>\n",
       "      <td>NaN</td>\n",
       "      <td>NaN</td>\n",
       "      <td>NaN</td>\n",
       "      <td>NaN</td>\n",
       "      <td>NaN</td>\n",
       "      <td>f</td>\n",
       "      <td>241</td>\n",
       "      <td>42</td>\n",
       "      <td>199</td>\n",
       "      <td>0</td>\n",
       "      <td>NaN</td>\n",
       "    </tr>\n",
       "    <tr>\n",
       "      <th>36904</th>\n",
       "      <td>49092532</td>\n",
       "      <td>https://www.airbnb.com/rooms/49092532</td>\n",
       "      <td>20210407173759</td>\n",
       "      <td>2021-04-09</td>\n",
       "      <td>Panoramic city views!  2/3 bdrms private terra...</td>\n",
       "      <td>You’ll be right in the heart of everything at ...</td>\n",
       "      <td>Best neighborhood in NYC !! You have easy walk...</td>\n",
       "      <td>https://a0.muscache.com/pictures/a060b725-ee2d...</td>\n",
       "      <td>154949847</td>\n",
       "      <td>https://www.airbnb.com/users/show/154949847</td>\n",
       "      <td>Emily</td>\n",
       "      <td>2017-10-17</td>\n",
       "      <td>West New York, New Jersey, United States</td>\n",
       "      <td>We are Emily and Robin and we started travelin...</td>\n",
       "      <td>within a few hours</td>\n",
       "      <td>97%</td>\n",
       "      <td>16%</td>\n",
       "      <td>f</td>\n",
       "      <td>https://a0.muscache.com/im/pictures/user/8a057...</td>\n",
       "      <td>https://a0.muscache.com/im/pictures/user/8a057...</td>\n",
       "      <td>Williamsburg</td>\n",
       "      <td>18.0</td>\n",
       "      <td>18.0</td>\n",
       "      <td>['email', 'phone', 'reviews', 'offline_governm...</td>\n",
       "      <td>t</td>\n",
       "      <td>t</td>\n",
       "      <td>New York, United States</td>\n",
       "      <td>Hell's Kitchen</td>\n",
       "      <td>Manhattan</td>\n",
       "      <td>40.77034</td>\n",
       "      <td>-73.99305</td>\n",
       "      <td>Entire apartment</td>\n",
       "      <td>Entire home/apt</td>\n",
       "      <td>6</td>\n",
       "      <td>NaN</td>\n",
       "      <td>2 baths</td>\n",
       "      <td>2.0</td>\n",
       "      <td>3.0</td>\n",
       "      <td>[\"Essentials\", \"Dryer\", \"Long term stays allow...</td>\n",
       "      <td>$299.00</td>\n",
       "      <td>30</td>\n",
       "      <td>85</td>\n",
       "      <td>30.0</td>\n",
       "      <td>30.0</td>\n",
       "      <td>85.0</td>\n",
       "      <td>85.0</td>\n",
       "      <td>30.0</td>\n",
       "      <td>85.0</td>\n",
       "      <td>NaN</td>\n",
       "      <td>t</td>\n",
       "      <td>0</td>\n",
       "      <td>25</td>\n",
       "      <td>55</td>\n",
       "      <td>175</td>\n",
       "      <td>2021-04-09</td>\n",
       "      <td>0</td>\n",
       "      <td>0</td>\n",
       "      <td>0</td>\n",
       "      <td>NaN</td>\n",
       "      <td>NaN</td>\n",
       "      <td>NaN</td>\n",
       "      <td>NaN</td>\n",
       "      <td>NaN</td>\n",
       "      <td>NaN</td>\n",
       "      <td>NaN</td>\n",
       "      <td>NaN</td>\n",
       "      <td>NaN</td>\n",
       "      <td>NaN</td>\n",
       "      <td>f</td>\n",
       "      <td>10</td>\n",
       "      <td>10</td>\n",
       "      <td>0</td>\n",
       "      <td>0</td>\n",
       "      <td>NaN</td>\n",
       "    </tr>\n",
       "  </tbody>\n",
       "</table>\n",
       "</div>"
      ],
      "text/plain": [
       "             id                            listing_url       scrape_id  \\\n",
       "36903  49091581  https://www.airbnb.com/rooms/49091581  20210407173759   \n",
       "36904  49092532  https://www.airbnb.com/rooms/49092532  20210407173759   \n",
       "\n",
       "      last_scraped                                               name  \\\n",
       "36903   2021-04-09       Furnished Bright Apartment in Hell's Kitchen   \n",
       "36904   2021-04-09  Panoramic city views!  2/3 bdrms private terra...   \n",
       "\n",
       "                                             description  \\\n",
       "36903  1 bedroom apartment in Hell's Kitchen.<br />Mo...   \n",
       "36904  You’ll be right in the heart of everything at ...   \n",
       "\n",
       "                                   neighborhood_overview  \\\n",
       "36903                                                NaN   \n",
       "36904  Best neighborhood in NYC !! You have easy walk...   \n",
       "\n",
       "                                             picture_url    host_id  \\\n",
       "36903  https://a0.muscache.com/pictures/8f730543-a68b...  305240193   \n",
       "36904  https://a0.muscache.com/pictures/a060b725-ee2d...  154949847   \n",
       "\n",
       "                                          host_url host_name  host_since  \\\n",
       "36903  https://www.airbnb.com/users/show/305240193      June  2019-10-29   \n",
       "36904  https://www.airbnb.com/users/show/154949847     Emily  2017-10-17   \n",
       "\n",
       "                                  host_location  \\\n",
       "36903         New York, New York, United States   \n",
       "36904  West New York, New Jersey, United States   \n",
       "\n",
       "                                              host_about  host_response_time  \\\n",
       "36903  At June Homes, our mission is to make renting ...  within a few hours   \n",
       "36904  We are Emily and Robin and we started travelin...  within a few hours   \n",
       "\n",
       "      host_response_rate host_acceptance_rate host_is_superhost  \\\n",
       "36903                99%                  46%                 f   \n",
       "36904                97%                  16%                 f   \n",
       "\n",
       "                                      host_thumbnail_url  \\\n",
       "36903  https://a0.muscache.com/im/pictures/user/4adc1...   \n",
       "36904  https://a0.muscache.com/im/pictures/user/8a057...   \n",
       "\n",
       "                                        host_picture_url host_neighbourhood  \\\n",
       "36903  https://a0.muscache.com/im/pictures/user/4adc1...      Crown Heights   \n",
       "36904  https://a0.muscache.com/im/pictures/user/8a057...       Williamsburg   \n",
       "\n",
       "       host_listings_count  host_total_listings_count  \\\n",
       "36903                  1.0                        1.0   \n",
       "36904                 18.0                       18.0   \n",
       "\n",
       "                                      host_verifications host_has_profile_pic  \\\n",
       "36903  ['email', 'phone', 'jumio', 'offline_governmen...                    t   \n",
       "36904  ['email', 'phone', 'reviews', 'offline_governm...                    t   \n",
       "\n",
       "      host_identity_verified            neighbourhood neighbourhood_cleansed  \\\n",
       "36903                      t                      NaN         Hell's Kitchen   \n",
       "36904                      t  New York, United States         Hell's Kitchen   \n",
       "\n",
       "      neighbourhood_group_cleansed  latitude  longitude     property_type  \\\n",
       "36903                    Manhattan  40.76456  -73.98573  Entire apartment   \n",
       "36904                    Manhattan  40.77034  -73.99305  Entire apartment   \n",
       "\n",
       "             room_type  accommodates  bathrooms bathrooms_text  bedrooms  \\\n",
       "36903  Entire home/apt             1        NaN         1 bath       1.0   \n",
       "36904  Entire home/apt             6        NaN        2 baths       2.0   \n",
       "\n",
       "       beds                                          amenities    price  \\\n",
       "36903   1.0  [\"Refrigerator\", \"Essentials\", \"Long term stay...  $123.00   \n",
       "36904   3.0  [\"Essentials\", \"Dryer\", \"Long term stays allow...  $299.00   \n",
       "\n",
       "       minimum_nights  maximum_nights  minimum_minimum_nights  \\\n",
       "36903              30             180                    30.0   \n",
       "36904              30              85                    30.0   \n",
       "\n",
       "       maximum_minimum_nights  minimum_maximum_nights  maximum_maximum_nights  \\\n",
       "36903                    30.0                   180.0                   180.0   \n",
       "36904                    30.0                    85.0                    85.0   \n",
       "\n",
       "       minimum_nights_avg_ntm  maximum_nights_avg_ntm  calendar_updated  \\\n",
       "36903                    30.0                   180.0               NaN   \n",
       "36904                    30.0                    85.0               NaN   \n",
       "\n",
       "      has_availability  availability_30  availability_60  availability_90  \\\n",
       "36903                t                0                7               37   \n",
       "36904                t                0               25               55   \n",
       "\n",
       "       availability_365 calendar_last_scraped  number_of_reviews  \\\n",
       "36903               312            2021-04-09                  0   \n",
       "36904               175            2021-04-09                  0   \n",
       "\n",
       "       number_of_reviews_ltm  number_of_reviews_l30d first_review last_review  \\\n",
       "36903                      0                       0          NaN         NaN   \n",
       "36904                      0                       0          NaN         NaN   \n",
       "\n",
       "       review_scores_rating  review_scores_accuracy  \\\n",
       "36903                   NaN                     NaN   \n",
       "36904                   NaN                     NaN   \n",
       "\n",
       "       review_scores_cleanliness  review_scores_checkin  \\\n",
       "36903                        NaN                    NaN   \n",
       "36904                        NaN                    NaN   \n",
       "\n",
       "       review_scores_communication  review_scores_location  \\\n",
       "36903                          NaN                     NaN   \n",
       "36904                          NaN                     NaN   \n",
       "\n",
       "       review_scores_value  license instant_bookable  \\\n",
       "36903                  NaN      NaN                f   \n",
       "36904                  NaN      NaN                f   \n",
       "\n",
       "       calculated_host_listings_count  \\\n",
       "36903                             241   \n",
       "36904                              10   \n",
       "\n",
       "       calculated_host_listings_count_entire_homes  \\\n",
       "36903                                           42   \n",
       "36904                                           10   \n",
       "\n",
       "       calculated_host_listings_count_private_rooms  \\\n",
       "36903                                           199   \n",
       "36904                                             0   \n",
       "\n",
       "       calculated_host_listings_count_shared_rooms  reviews_per_month  \n",
       "36903                                            0                NaN  \n",
       "36904                                            0                NaN  "
      ]
     },
     "execution_count": 3,
     "metadata": {},
     "output_type": "execute_result"
    }
   ],
   "source": [
    "listings.tail(2)"
   ]
  },
  {
   "cell_type": "markdown",
   "metadata": {},
   "source": [
    "En las columnas se incluye información relacionada con:\n",
    "* Descripción\n",
    "* Arrendatario\n",
    "* Geolocalización\n",
    "* Caracteristicas del espacio\n",
    "* Precio\n",
    "* Valores adicionales\n",
    "* Calificación\n",
    "* Licencias"
   ]
  },
  {
   "cell_type": "code",
   "execution_count": 4,
   "metadata": {},
   "outputs": [
    {
     "data": {
      "text/plain": [
       "['id',\n",
       " 'listing_url',\n",
       " 'scrape_id',\n",
       " 'last_scraped',\n",
       " 'name',\n",
       " 'description',\n",
       " 'neighborhood_overview',\n",
       " 'picture_url',\n",
       " 'host_id',\n",
       " 'host_url',\n",
       " 'host_name',\n",
       " 'host_since',\n",
       " 'host_location',\n",
       " 'host_about',\n",
       " 'host_response_time',\n",
       " 'host_response_rate',\n",
       " 'host_acceptance_rate',\n",
       " 'host_is_superhost',\n",
       " 'host_thumbnail_url',\n",
       " 'host_picture_url',\n",
       " 'host_neighbourhood',\n",
       " 'host_listings_count',\n",
       " 'host_total_listings_count',\n",
       " 'host_verifications',\n",
       " 'host_has_profile_pic',\n",
       " 'host_identity_verified',\n",
       " 'neighbourhood',\n",
       " 'neighbourhood_cleansed',\n",
       " 'neighbourhood_group_cleansed',\n",
       " 'latitude',\n",
       " 'longitude',\n",
       " 'property_type',\n",
       " 'room_type',\n",
       " 'accommodates',\n",
       " 'bathrooms',\n",
       " 'bathrooms_text',\n",
       " 'bedrooms',\n",
       " 'beds',\n",
       " 'amenities',\n",
       " 'price',\n",
       " 'minimum_nights',\n",
       " 'maximum_nights',\n",
       " 'minimum_minimum_nights',\n",
       " 'maximum_minimum_nights',\n",
       " 'minimum_maximum_nights',\n",
       " 'maximum_maximum_nights',\n",
       " 'minimum_nights_avg_ntm',\n",
       " 'maximum_nights_avg_ntm',\n",
       " 'calendar_updated',\n",
       " 'has_availability',\n",
       " 'availability_30',\n",
       " 'availability_60',\n",
       " 'availability_90',\n",
       " 'availability_365',\n",
       " 'calendar_last_scraped',\n",
       " 'number_of_reviews',\n",
       " 'number_of_reviews_ltm',\n",
       " 'number_of_reviews_l30d',\n",
       " 'first_review',\n",
       " 'last_review',\n",
       " 'review_scores_rating',\n",
       " 'review_scores_accuracy',\n",
       " 'review_scores_cleanliness',\n",
       " 'review_scores_checkin',\n",
       " 'review_scores_communication',\n",
       " 'review_scores_location',\n",
       " 'review_scores_value',\n",
       " 'license',\n",
       " 'instant_bookable',\n",
       " 'calculated_host_listings_count',\n",
       " 'calculated_host_listings_count_entire_homes',\n",
       " 'calculated_host_listings_count_private_rooms',\n",
       " 'calculated_host_listings_count_shared_rooms',\n",
       " 'reviews_per_month']"
      ]
     },
     "execution_count": 4,
     "metadata": {},
     "output_type": "execute_result"
    }
   ],
   "source": [
    "listings.columns.to_list()"
   ]
  },
  {
   "cell_type": "markdown",
   "metadata": {},
   "source": [
    "### Preprocesamiento"
   ]
  },
  {
   "cell_type": "markdown",
   "metadata": {},
   "source": [
    "#### 1. Columnas de valor único"
   ]
  },
  {
   "cell_type": "code",
   "execution_count": 5,
   "metadata": {},
   "outputs": [
    {
     "name": "stdout",
     "output_type": "stream",
     "text": [
      "Luego de remover las columnas con un valor único, permanecen 70 columnas\n"
     ]
    }
   ],
   "source": [
    "for col in listings.columns: ##Eliminando las columnas que tienen un solo valor \n",
    "    if len(listings[col].unique()) == 1:\n",
    "        listings.drop(col,inplace=True,axis=1)\n",
    "        \n",
    "print(f'Luego de remover las columnas con un valor único, permanecen {len(listings.columns)} columnas')"
   ]
  },
  {
   "cell_type": "markdown",
   "metadata": {},
   "source": [
    "#### 2. Convirtiendo strings en floats"
   ]
  },
  {
   "cell_type": "code",
   "execution_count": 6,
   "metadata": {},
   "outputs": [
    {
     "name": "stdout",
     "output_type": "stream",
     "text": [
      "La columna  host_acceptance_rate ha sido modificada de string a float\n",
      "La columna  host_response_rate ha sido modificada de string a float\n"
     ]
    }
   ],
   "source": [
    "def removing_percentage (dataset, column): #Eliminando % del string y convirtiendolo en número\n",
    "    dataset[column]=dataset[column].str.replace('%', '').astype('float')\n",
    "    print(f'La columna  {column} ha sido modificada de string a float')\n",
    "\n",
    "removing_perc=['host_acceptance_rate', 'host_response_rate']\n",
    "\n",
    "for var in removing_perc:\n",
    "    removing_percentage(listings, var)"
   ]
  },
  {
   "cell_type": "code",
   "execution_count": 7,
   "metadata": {},
   "outputs": [],
   "source": [
    "listings['price']=listings['price'].str.replace('$', '')\n",
    "listings['price']=listings['price'].str.replace(',', '').astype('float')"
   ]
  },
  {
   "cell_type": "code",
   "execution_count": 8,
   "metadata": {},
   "outputs": [
    {
     "data": {
      "image/png": "[encoded data removed]",
      "text/plain": [
       "<Figure size 432x288 with 1 Axes>"
      ]
     },
     "metadata": {
      "needs_background": "light"
     },
     "output_type": "display_data"
    }
   ],
   "source": [
    "listings.hist(column='price', bins=10)\n",
    "plt.show()"
   ]
  },
  {
   "cell_type": "code",
   "execution_count": 9,
   "metadata": {},
   "outputs": [
    {
     "data": {
      "text/plain": [
       "count    36905.000000\n",
       "mean       148.559274\n",
       "std        290.379973\n",
       "min          0.000000\n",
       "25%         61.000000\n",
       "50%        100.000000\n",
       "75%        160.000000\n",
       "max      10000.000000\n",
       "Name: price, dtype: float64"
      ]
     },
     "execution_count": 9,
     "metadata": {},
     "output_type": "execute_result"
    }
   ],
   "source": [
    "listings.price.describe()"
   ]
  },
  {
   "cell_type": "markdown",
   "metadata": {},
   "source": [
    "#### 3. Datos faltantes"
   ]
  },
  {
   "cell_type": "code",
   "execution_count": 10,
   "metadata": {},
   "outputs": [
    {
     "data": {
      "text/plain": [
       "host_response_time                              49.43\n",
       "host_response_rate                              49.43\n",
       "host_acceptance_rate                            45.31\n",
       "host_about                                      42.44\n",
       "neighborhood_overview                           37.44\n",
       "neighbourhood                                   37.44\n",
       "review_scores_value                             28.30\n",
       "review_scores_location                          28.30\n",
       "review_scores_checkin                           28.30\n",
       "review_scores_accuracy                          28.27\n",
       "review_scores_communication                     28.26\n",
       "review_scores_cleanliness                       28.24\n",
       "review_scores_rating                            28.20\n",
       "first_review                                    26.34\n",
       "reviews_per_month                               26.34\n",
       "last_review                                     26.34\n",
       "host_neighbourhood                              20.66\n",
       "bedrooms                                         9.96\n",
       "host_location                                    3.67\n",
       "host_listings_count                              3.44\n",
       "host_name                                        3.44\n",
       "host_total_listings_count                        3.44\n",
       "host_picture_url                                 3.44\n",
       "host_has_profile_pic                             3.44\n",
       "description                                      3.44\n",
       "host_identity_verified                           3.44\n",
       "host_thumbnail_url                               3.44\n",
       "host_is_superhost                                3.44\n",
       "host_since                                       3.44\n",
       "beds                                             1.57\n",
       "bathrooms_text                                   0.31\n",
       "name                                             0.04\n",
       "minimum_minimum_nights                           0.04\n",
       "maximum_minimum_nights                           0.04\n",
       "minimum_maximum_nights                           0.04\n",
       "maximum_nights_avg_ntm                           0.04\n",
       "minimum_nights_avg_ntm                           0.04\n",
       "maximum_maximum_nights                           0.04\n",
       "calculated_host_listings_count_private_rooms     0.00\n",
       "number_of_reviews_l30d                           0.00\n",
       "listing_url                                      0.00\n",
       "last_scraped                                     0.00\n",
       "calculated_host_listings_count                   0.00\n",
       "instant_bookable                                 0.00\n",
       "picture_url                                      0.00\n",
       "calculated_host_listings_count_entire_homes      0.00\n",
       "number_of_reviews_ltm                            0.00\n",
       "host_url                                         0.00\n",
       "host_id                                          0.00\n",
       "calendar_last_scraped                            0.00\n",
       "number_of_reviews                                0.00\n",
       "host_verifications                               0.00\n",
       "amenities                                        0.00\n",
       "availability_90                                  0.00\n",
       "availability_60                                  0.00\n",
       "availability_30                                  0.00\n",
       "has_availability                                 0.00\n",
       "maximum_nights                                   0.00\n",
       "minimum_nights                                   0.00\n",
       "price                                            0.00\n",
       "calculated_host_listings_count_shared_rooms      0.00\n",
       "availability_365                                 0.00\n",
       "accommodates                                     0.00\n",
       "room_type                                        0.00\n",
       "property_type                                    0.00\n",
       "longitude                                        0.00\n",
       "latitude                                         0.00\n",
       "neighbourhood_group_cleansed                     0.00\n",
       "neighbourhood_cleansed                           0.00\n",
       "id                                               0.00\n",
       "dtype: float64"
      ]
     },
     "execution_count": 10,
     "metadata": {},
     "output_type": "execute_result"
    }
   ],
   "source": [
    "is_na=listings.isna().sum().sort_values(ascending=False)\n",
    "np.round(100*is_na/len(np.unique(listings['id'])),2)"
   ]
  },
  {
   "cell_type": "code",
   "execution_count": 11,
   "metadata": {},
   "outputs": [],
   "source": [
    "listings.bedrooms=listings.bedrooms.fillna(np.mean(listings.bedrooms.dropna())) #Completando datos faltantes con media\n",
    "listings.beds=listings.beds.fillna(np.mean(listings.beds.dropna())) "
   ]
  },
  {
   "cell_type": "markdown",
   "metadata": {},
   "source": [
    "Se identifican y almacenan las columnas con un porcentaje superior a 25% de datos faltantes, para ser eliminadas posteriormente."
   ]
  },
  {
   "cell_type": "code",
   "execution_count": 12,
   "metadata": {},
   "outputs": [],
   "source": [
    "most_missing_cols = listings.columns[listings.isnull().sum()/len(listings) > 0.25]\n",
    "most_missing_cols =most_missing_cols.to_list() #Columnas con un porcentaje de datos faltantes superior al 25%"
   ]
  },
  {
   "cell_type": "code",
   "execution_count": 13,
   "metadata": {},
   "outputs": [
    {
     "data": {
      "text/plain": [
       "['neighborhood_overview',\n",
       " 'host_about',\n",
       " 'host_response_time',\n",
       " 'host_response_rate',\n",
       " 'host_acceptance_rate',\n",
       " 'neighbourhood',\n",
       " 'first_review',\n",
       " 'last_review',\n",
       " 'review_scores_rating',\n",
       " 'review_scores_accuracy',\n",
       " 'review_scores_cleanliness',\n",
       " 'review_scores_checkin',\n",
       " 'review_scores_communication',\n",
       " 'review_scores_location',\n",
       " 'review_scores_value',\n",
       " 'reviews_per_month']"
      ]
     },
     "execution_count": 13,
     "metadata": {},
     "output_type": "execute_result"
    }
   ],
   "source": [
    "most_missing_cols"
   ]
  },
  {
   "cell_type": "code",
   "execution_count": 14,
   "metadata": {},
   "outputs": [
    {
     "data": {
      "text/plain": [
       "(36905, 70)"
      ]
     },
     "execution_count": 14,
     "metadata": {},
     "output_type": "execute_result"
    }
   ],
   "source": [
    "listings.shape"
   ]
  },
  {
   "cell_type": "markdown",
   "metadata": {},
   "source": [
    "#### 4. Agrupando 'Property_type' y 'Bed_type"
   ]
  },
  {
   "cell_type": "code",
   "execution_count": 15,
   "metadata": {
    "scrolled": false
   },
   "outputs": [
    {
     "data": {
      "text/html": [
       "<div>\n",
       "<style scoped>\n",
       "    .dataframe tbody tr th:only-of-type {\n",
       "        vertical-align: middle;\n",
       "    }\n",
       "\n",
       "    .dataframe tbody tr th {\n",
       "        vertical-align: top;\n",
       "    }\n",
       "\n",
       "    .dataframe thead th {\n",
       "        text-align: right;\n",
       "    }\n",
       "</style>\n",
       "<table border=\"1\" class=\"dataframe\">\n",
       "  <thead>\n",
       "    <tr style=\"text-align: right;\">\n",
       "      <th></th>\n",
       "      <th>id</th>\n",
       "    </tr>\n",
       "    <tr>\n",
       "      <th>property_type</th>\n",
       "      <th></th>\n",
       "    </tr>\n",
       "  </thead>\n",
       "  <tbody>\n",
       "    <tr>\n",
       "      <th>Entire apartment</th>\n",
       "      <td>15329</td>\n",
       "    </tr>\n",
       "    <tr>\n",
       "      <th>Private room in apartment</th>\n",
       "      <td>12045</td>\n",
       "    </tr>\n",
       "    <tr>\n",
       "      <th>Private room in house</th>\n",
       "      <td>1892</td>\n",
       "    </tr>\n",
       "    <tr>\n",
       "      <th>Private room in townhouse</th>\n",
       "      <td>1081</td>\n",
       "    </tr>\n",
       "    <tr>\n",
       "      <th>Entire house</th>\n",
       "      <td>974</td>\n",
       "    </tr>\n",
       "    <tr>\n",
       "      <th>Entire condominium</th>\n",
       "      <td>969</td>\n",
       "    </tr>\n",
       "    <tr>\n",
       "      <th>Entire loft</th>\n",
       "      <td>617</td>\n",
       "    </tr>\n",
       "    <tr>\n",
       "      <th>Entire townhouse</th>\n",
       "      <td>598</td>\n",
       "    </tr>\n",
       "    <tr>\n",
       "      <th>Shared room in apartment</th>\n",
       "      <td>516</td>\n",
       "    </tr>\n",
       "    <tr>\n",
       "      <th>Private room in condominium</th>\n",
       "      <td>473</td>\n",
       "    </tr>\n",
       "    <tr>\n",
       "      <th>Room in hotel</th>\n",
       "      <td>427</td>\n",
       "    </tr>\n",
       "    <tr>\n",
       "      <th>Room in boutique hotel</th>\n",
       "      <td>361</td>\n",
       "    </tr>\n",
       "    <tr>\n",
       "      <th>Private room in loft</th>\n",
       "      <td>331</td>\n",
       "    </tr>\n",
       "    <tr>\n",
       "      <th>Entire serviced apartment</th>\n",
       "      <td>288</td>\n",
       "    </tr>\n",
       "    <tr>\n",
       "      <th>Entire guest suite</th>\n",
       "      <td>255</td>\n",
       "    </tr>\n",
       "    <tr>\n",
       "      <th>Private room in guest suite</th>\n",
       "      <td>101</td>\n",
       "    </tr>\n",
       "    <tr>\n",
       "      <th>Shared room in house</th>\n",
       "      <td>71</td>\n",
       "    </tr>\n",
       "    <tr>\n",
       "      <th>Entire guesthouse</th>\n",
       "      <td>48</td>\n",
       "    </tr>\n",
       "    <tr>\n",
       "      <th>Private room in serviced apartment</th>\n",
       "      <td>44</td>\n",
       "    </tr>\n",
       "    <tr>\n",
       "      <th>Room in aparthotel</th>\n",
       "      <td>43</td>\n",
       "    </tr>\n",
       "    <tr>\n",
       "      <th>Private room in bed and breakfast</th>\n",
       "      <td>38</td>\n",
       "    </tr>\n",
       "    <tr>\n",
       "      <th>Entire place</th>\n",
       "      <td>34</td>\n",
       "    </tr>\n",
       "    <tr>\n",
       "      <th>Room in serviced apartment</th>\n",
       "      <td>34</td>\n",
       "    </tr>\n",
       "    <tr>\n",
       "      <th>Shared room in loft</th>\n",
       "      <td>28</td>\n",
       "    </tr>\n",
       "    <tr>\n",
       "      <th>Private room in hostel</th>\n",
       "      <td>27</td>\n",
       "    </tr>\n",
       "    <tr>\n",
       "      <th>Private room in resort</th>\n",
       "      <td>23</td>\n",
       "    </tr>\n",
       "    <tr>\n",
       "      <th>Private room in guesthouse</th>\n",
       "      <td>22</td>\n",
       "    </tr>\n",
       "    <tr>\n",
       "      <th>Shared room in condominium</th>\n",
       "      <td>21</td>\n",
       "    </tr>\n",
       "    <tr>\n",
       "      <th>Private room</th>\n",
       "      <td>20</td>\n",
       "    </tr>\n",
       "    <tr>\n",
       "      <th>Entire bungalow</th>\n",
       "      <td>15</td>\n",
       "    </tr>\n",
       "    <tr>\n",
       "      <th>Private room in villa</th>\n",
       "      <td>12</td>\n",
       "    </tr>\n",
       "    <tr>\n",
       "      <th>Tiny house</th>\n",
       "      <td>11</td>\n",
       "    </tr>\n",
       "    <tr>\n",
       "      <th>Shared room in hostel</th>\n",
       "      <td>11</td>\n",
       "    </tr>\n",
       "    <tr>\n",
       "      <th>Entire floor</th>\n",
       "      <td>11</td>\n",
       "    </tr>\n",
       "    <tr>\n",
       "      <th>Private room in tiny house</th>\n",
       "      <td>10</td>\n",
       "    </tr>\n",
       "    <tr>\n",
       "      <th>Private room in camper/rv</th>\n",
       "      <td>10</td>\n",
       "    </tr>\n",
       "    <tr>\n",
       "      <th>Boat</th>\n",
       "      <td>8</td>\n",
       "    </tr>\n",
       "    <tr>\n",
       "      <th>Entire cottage</th>\n",
       "      <td>8</td>\n",
       "    </tr>\n",
       "    <tr>\n",
       "      <th>Shared room in townhouse</th>\n",
       "      <td>8</td>\n",
       "    </tr>\n",
       "    <tr>\n",
       "      <th>Camper/RV</th>\n",
       "      <td>8</td>\n",
       "    </tr>\n",
       "    <tr>\n",
       "      <th>Entire resort</th>\n",
       "      <td>8</td>\n",
       "    </tr>\n",
       "    <tr>\n",
       "      <th>Houseboat</th>\n",
       "      <td>7</td>\n",
       "    </tr>\n",
       "    <tr>\n",
       "      <th>Shared room in serviced apartment</th>\n",
       "      <td>6</td>\n",
       "    </tr>\n",
       "    <tr>\n",
       "      <th>Private room in earth house</th>\n",
       "      <td>6</td>\n",
       "    </tr>\n",
       "    <tr>\n",
       "      <th>Entire home/apt</th>\n",
       "      <td>5</td>\n",
       "    </tr>\n",
       "    <tr>\n",
       "      <th>Private room in bungalow</th>\n",
       "      <td>5</td>\n",
       "    </tr>\n",
       "    <tr>\n",
       "      <th>Room in bed and breakfast</th>\n",
       "      <td>4</td>\n",
       "    </tr>\n",
       "    <tr>\n",
       "      <th>Entire villa</th>\n",
       "      <td>4</td>\n",
       "    </tr>\n",
       "    <tr>\n",
       "      <th>Private room in casa particular</th>\n",
       "      <td>3</td>\n",
       "    </tr>\n",
       "    <tr>\n",
       "      <th>Shared room in bed and breakfast</th>\n",
       "      <td>2</td>\n",
       "    </tr>\n",
       "    <tr>\n",
       "      <th>Shared room in guest suite</th>\n",
       "      <td>2</td>\n",
       "    </tr>\n",
       "    <tr>\n",
       "      <th>Barn</th>\n",
       "      <td>2</td>\n",
       "    </tr>\n",
       "    <tr>\n",
       "      <th>Private room in floor</th>\n",
       "      <td>2</td>\n",
       "    </tr>\n",
       "    <tr>\n",
       "      <th>Private room in castle</th>\n",
       "      <td>2</td>\n",
       "    </tr>\n",
       "    <tr>\n",
       "      <th>Private room in barn</th>\n",
       "      <td>2</td>\n",
       "    </tr>\n",
       "    <tr>\n",
       "      <th>Private room in cottage</th>\n",
       "      <td>2</td>\n",
       "    </tr>\n",
       "    <tr>\n",
       "      <th>Private room in train</th>\n",
       "      <td>1</td>\n",
       "    </tr>\n",
       "    <tr>\n",
       "      <th>Bus</th>\n",
       "      <td>1</td>\n",
       "    </tr>\n",
       "    <tr>\n",
       "      <th>Cave</th>\n",
       "      <td>1</td>\n",
       "    </tr>\n",
       "    <tr>\n",
       "      <th>Shared room in tent</th>\n",
       "      <td>1</td>\n",
       "    </tr>\n",
       "    <tr>\n",
       "      <th>Entire bed and breakfast</th>\n",
       "      <td>1</td>\n",
       "    </tr>\n",
       "    <tr>\n",
       "      <th>Lighthouse</th>\n",
       "      <td>1</td>\n",
       "    </tr>\n",
       "    <tr>\n",
       "      <th>Shared room in island</th>\n",
       "      <td>1</td>\n",
       "    </tr>\n",
       "    <tr>\n",
       "      <th>Private room in cabin</th>\n",
       "      <td>1</td>\n",
       "    </tr>\n",
       "    <tr>\n",
       "      <th>Shared room in guesthouse</th>\n",
       "      <td>1</td>\n",
       "    </tr>\n",
       "    <tr>\n",
       "      <th>Shared room in floor</th>\n",
       "      <td>1</td>\n",
       "    </tr>\n",
       "    <tr>\n",
       "      <th>Private room in tipi</th>\n",
       "      <td>1</td>\n",
       "    </tr>\n",
       "    <tr>\n",
       "      <th>Shared room in earth house</th>\n",
       "      <td>1</td>\n",
       "    </tr>\n",
       "    <tr>\n",
       "      <th>Shared room in bungalow</th>\n",
       "      <td>1</td>\n",
       "    </tr>\n",
       "    <tr>\n",
       "      <th>Private room in dome house</th>\n",
       "      <td>1</td>\n",
       "    </tr>\n",
       "    <tr>\n",
       "      <th>Private room in dorm</th>\n",
       "      <td>1</td>\n",
       "    </tr>\n",
       "    <tr>\n",
       "      <th>Private room in farm stay</th>\n",
       "      <td>1</td>\n",
       "    </tr>\n",
       "    <tr>\n",
       "      <th>Room in resort</th>\n",
       "      <td>1</td>\n",
       "    </tr>\n",
       "    <tr>\n",
       "      <th>Private room in in-law</th>\n",
       "      <td>1</td>\n",
       "    </tr>\n",
       "    <tr>\n",
       "      <th>Private room in lighthouse</th>\n",
       "      <td>1</td>\n",
       "    </tr>\n",
       "    <tr>\n",
       "      <th>Private room in tent</th>\n",
       "      <td>1</td>\n",
       "    </tr>\n",
       "    <tr>\n",
       "      <th>Windmill</th>\n",
       "      <td>1</td>\n",
       "    </tr>\n",
       "  </tbody>\n",
       "</table>\n",
       "</div>"
      ],
      "text/plain": [
       "                                       id\n",
       "property_type                            \n",
       "Entire apartment                    15329\n",
       "Private room in apartment           12045\n",
       "Private room in house                1892\n",
       "Private room in townhouse            1081\n",
       "Entire house                          974\n",
       "Entire condominium                    969\n",
       "Entire loft                           617\n",
       "Entire townhouse                      598\n",
       "Shared room in apartment              516\n",
       "Private room in condominium           473\n",
       "Room in hotel                         427\n",
       "Room in boutique hotel                361\n",
       "Private room in loft                  331\n",
       "Entire serviced apartment             288\n",
       "Entire guest suite                    255\n",
       "Private room in guest suite           101\n",
       "Shared room in house                   71\n",
       "Entire guesthouse                      48\n",
       "Private room in serviced apartment     44\n",
       "Room in aparthotel                     43\n",
       "Private room in bed and breakfast      38\n",
       "Entire place                           34\n",
       "Room in serviced apartment             34\n",
       "Shared room in loft                    28\n",
       "Private room in hostel                 27\n",
       "Private room in resort                 23\n",
       "Private room in guesthouse             22\n",
       "Shared room in condominium             21\n",
       "Private room                           20\n",
       "Entire bungalow                        15\n",
       "Private room in villa                  12\n",
       "Tiny house                             11\n",
       "Shared room in hostel                  11\n",
       "Entire floor                           11\n",
       "Private room in tiny house             10\n",
       "Private room in camper/rv              10\n",
       "Boat                                    8\n",
       "Entire cottage                          8\n",
       "Shared room in townhouse                8\n",
       "Camper/RV                               8\n",
       "Entire resort                           8\n",
       "Houseboat                               7\n",
       "Shared room in serviced apartment       6\n",
       "Private room in earth house             6\n",
       "Entire home/apt                         5\n",
       "Private room in bungalow                5\n",
       "Room in bed and breakfast               4\n",
       "Entire villa                            4\n",
       "Private room in casa particular         3\n",
       "Shared room in bed and breakfast        2\n",
       "Shared room in guest suite              2\n",
       "Barn                                    2\n",
       "Private room in floor                   2\n",
       "Private room in castle                  2\n",
       "Private room in barn                    2\n",
       "Private room in cottage                 2\n",
       "Private room in train                   1\n",
       "Bus                                     1\n",
       "Cave                                    1\n",
       "Shared room in tent                     1\n",
       "Entire bed and breakfast                1\n",
       "Lighthouse                              1\n",
       "Shared room in island                   1\n",
       "Private room in cabin                   1\n",
       "Shared room in guesthouse               1\n",
       "Shared room in floor                    1\n",
       "Private room in tipi                    1\n",
       "Shared room in earth house              1\n",
       "Shared room in bungalow                 1\n",
       "Private room in dome house              1\n",
       "Private room in dorm                    1\n",
       "Private room in farm stay               1\n",
       "Room in resort                          1\n",
       "Private room in in-law                  1\n",
       "Private room in lighthouse              1\n",
       "Private room in tent                    1\n",
       "Windmill                                1"
      ]
     },
     "execution_count": 15,
     "metadata": {},
     "output_type": "execute_result"
    }
   ],
   "source": [
    "listings.pivot_table(index='property_type', values='id', aggfunc='count').sort_values(by='id', ascending=False)"
   ]
  },
  {
   "cell_type": "code",
   "execution_count": 16,
   "metadata": {},
   "outputs": [],
   "source": [
    "listings.loc[listings.property_type.str.contains('oom'), 'property_type']='Room'\n",
    "listings.loc[listings.property_type.str.contains('ap'), 'property_type']='Apartment'\n",
    "listings.loc[listings.property_type.str.contains('house'), 'property_type']='House'\n",
    "listings.loc[listings.property_type.str.contains('Casa'), 'property_type']='House'\n",
    "listings.loc[~listings['property_type'].isin(['Room', 'Apartment', 'House']),'property_type']='Other'"
   ]
  },
  {
   "cell_type": "code",
   "execution_count": 17,
   "metadata": {},
   "outputs": [],
   "source": [
    "pivot0=listings.pivot_table(index='property_type', values='id', aggfunc='count').sort_values(by='id', ascending=True)\n",
    "pivot0['percentage']= np.round(100* (pivot0['id']/pivot0['id'].sum()),1)\n",
    "pivot0=pivot0.reset_index()"
   ]
  },
  {
   "cell_type": "code",
   "execution_count": 18,
   "metadata": {},
   "outputs": [
    {
     "data": {
      "image/png": "[encoded data removed]",
      "text/plain": [
       "<Figure size 288x180 with 1 Axes>"
      ]
     },
     "metadata": {
      "needs_background": "light"
     },
     "output_type": "display_data"
    }
   ],
   "source": [
    "feq = pivot0[['property_type', 'percentage']].sort_values('percentage')\n",
    "feq=feq.set_index('property_type')\n",
    "feq.plot.barh(figsize=(4,2.5),  width= 1)\n",
    "plt.xlabel('Percentage of listings', fontsize = 8)\n",
    "plt.ylabel('Property type', fontsize = 8)\n",
    "plt.show()"
   ]
  },
  {
   "cell_type": "code",
   "execution_count": 19,
   "metadata": {},
   "outputs": [
    {
     "data": {
      "text/html": [
       "<div>\n",
       "<style scoped>\n",
       "    .dataframe tbody tr th:only-of-type {\n",
       "        vertical-align: middle;\n",
       "    }\n",
       "\n",
       "    .dataframe tbody tr th {\n",
       "        vertical-align: top;\n",
       "    }\n",
       "\n",
       "    .dataframe thead th {\n",
       "        text-align: right;\n",
       "    }\n",
       "</style>\n",
       "<table border=\"1\" class=\"dataframe\">\n",
       "  <thead>\n",
       "    <tr style=\"text-align: right;\">\n",
       "      <th></th>\n",
       "      <th>Total</th>\n",
       "    </tr>\n",
       "    <tr>\n",
       "      <th>room_type</th>\n",
       "      <th></th>\n",
       "    </tr>\n",
       "  </thead>\n",
       "  <tbody>\n",
       "    <tr>\n",
       "      <th>Hotel room</th>\n",
       "      <td>282</td>\n",
       "    </tr>\n",
       "    <tr>\n",
       "      <th>Shared room</th>\n",
       "      <td>671</td>\n",
       "    </tr>\n",
       "    <tr>\n",
       "      <th>Private room</th>\n",
       "      <td>16709</td>\n",
       "    </tr>\n",
       "    <tr>\n",
       "      <th>Entire home/apt</th>\n",
       "      <td>19243</td>\n",
       "    </tr>\n",
       "    <tr>\n",
       "      <th>All</th>\n",
       "      <td>36905</td>\n",
       "    </tr>\n",
       "  </tbody>\n",
       "</table>\n",
       "</div>"
      ],
      "text/plain": [
       "                 Total\n",
       "room_type             \n",
       "Hotel room         282\n",
       "Shared room        671\n",
       "Private room     16709\n",
       "Entire home/apt  19243\n",
       "All              36905"
      ]
     },
     "execution_count": 19,
     "metadata": {},
     "output_type": "execute_result"
    }
   ],
   "source": [
    "r=listings.pivot_table(index='room_type', values='id', aggfunc='count', margins=True).sort_values(by='id', ascending=True)\n",
    "r.columns=['Total']\n",
    "r"
   ]
  },
  {
   "cell_type": "code",
   "execution_count": 20,
   "metadata": {},
   "outputs": [],
   "source": [
    "listings['room_type']=listings['room_type'].replace('Hotel room', 'Private room') "
   ]
  },
  {
   "cell_type": "markdown",
   "metadata": {},
   "source": [
    "#### Availability"
   ]
  },
  {
   "cell_type": "code",
   "execution_count": 21,
   "metadata": {},
   "outputs": [
    {
     "data": {
      "image/png": "[encoded data removed]",
      "text/plain": [
       "<Figure size 720x720 with 20 Axes>"
      ]
     },
     "metadata": {
      "needs_background": "light"
     },
     "output_type": "display_data"
    }
   ],
   "source": [
    "availability=listings[['availability_30','availability_60','availability_90','availability_365']]\n",
    "sns.pairplot(availability)\n",
    "plt.show()"
   ]
  },
  {
   "cell_type": "markdown",
   "metadata": {},
   "source": [
    "#### 5. Columnas a eliminar dada la naturaleza de sus datos"
   ]
  },
  {
   "cell_type": "code",
   "execution_count": 22,
   "metadata": {},
   "outputs": [],
   "source": [
    "url_field=list(listings.filter(like='url').columns) \n",
    "other_pricing_field=list(listings.filter(like='_price').columns)\n",
    "text_field=['name','neighborhood_overview', 'host_about','description']\n",
    "other_geo=[  'neighbourhood',  'neighbourhood_cleansed',  'neighbourhood_group_cleansed']\n",
    "host=['host_id', 'host_name', 'host_since','host_location','host_about','host_neighbourhood',\n",
    "      'calculated_host_listings_count_private_rooms' ,'host_total_listings_count',\n",
    "      'calculated_host_listings_count_entire_homes','host_verifications', 'calculated_host_listings_count_shared_rooms']\n",
    "dates=['last_scraped', 'host_since', 'calendar_last_scraped']\n",
    "nights=['minimum_minimum_nights',\n",
    "       'maximum_minimum_nights', 'minimum_maximum_nights',\n",
    "       'maximum_maximum_nights', 'minimum_nights_avg_ntm',\n",
    "       'maximum_nights_avg_ntm']\n",
    "reviews=['number_of_reviews_ltm', 'number_of_reviews_l30d', 'first_review',\n",
    "       'last_review']\n",
    "availability=['availability_30','availability_60','availability_90']"
   ]
  },
  {
   "cell_type": "code",
   "execution_count": 23,
   "metadata": {},
   "outputs": [],
   "source": [
    "listings=listings.drop(most_missing_cols +url_field+other_pricing_field+text_field+other_geo+host+dates+nights+reviews+availability, axis=1)"
   ]
  },
  {
   "cell_type": "code",
   "execution_count": 24,
   "metadata": {},
   "outputs": [
    {
     "data": {
      "text/html": [
       "<div>\n",
       "<style scoped>\n",
       "    .dataframe tbody tr th:only-of-type {\n",
       "        vertical-align: middle;\n",
       "    }\n",
       "\n",
       "    .dataframe tbody tr th {\n",
       "        vertical-align: top;\n",
       "    }\n",
       "\n",
       "    .dataframe thead th {\n",
       "        text-align: right;\n",
       "    }\n",
       "</style>\n",
       "<table border=\"1\" class=\"dataframe\">\n",
       "  <thead>\n",
       "    <tr style=\"text-align: right;\">\n",
       "      <th></th>\n",
       "      <th>id</th>\n",
       "      <th>host_is_superhost</th>\n",
       "      <th>host_listings_count</th>\n",
       "      <th>host_has_profile_pic</th>\n",
       "      <th>host_identity_verified</th>\n",
       "      <th>latitude</th>\n",
       "      <th>longitude</th>\n",
       "      <th>property_type</th>\n",
       "      <th>room_type</th>\n",
       "      <th>accommodates</th>\n",
       "      <th>bathrooms_text</th>\n",
       "      <th>bedrooms</th>\n",
       "      <th>beds</th>\n",
       "      <th>amenities</th>\n",
       "      <th>price</th>\n",
       "      <th>minimum_nights</th>\n",
       "      <th>maximum_nights</th>\n",
       "      <th>has_availability</th>\n",
       "      <th>availability_365</th>\n",
       "      <th>number_of_reviews</th>\n",
       "      <th>instant_bookable</th>\n",
       "      <th>calculated_host_listings_count</th>\n",
       "    </tr>\n",
       "  </thead>\n",
       "  <tbody>\n",
       "    <tr>\n",
       "      <th>0</th>\n",
       "      <td>2595</td>\n",
       "      <td>f</td>\n",
       "      <td>6.0</td>\n",
       "      <td>t</td>\n",
       "      <td>t</td>\n",
       "      <td>40.75356</td>\n",
       "      <td>-73.98559</td>\n",
       "      <td>Apartment</td>\n",
       "      <td>Entire home/apt</td>\n",
       "      <td>2</td>\n",
       "      <td>1 bath</td>\n",
       "      <td>1.318137</td>\n",
       "      <td>1.0</td>\n",
       "      <td>[\"Refrigerator\", \"Essentials\", \"Cleaning befor...</td>\n",
       "      <td>150.0</td>\n",
       "      <td>30</td>\n",
       "      <td>1125</td>\n",
       "      <td>t</td>\n",
       "      <td>365</td>\n",
       "      <td>48</td>\n",
       "      <td>f</td>\n",
       "      <td>3</td>\n",
       "    </tr>\n",
       "    <tr>\n",
       "      <th>1</th>\n",
       "      <td>3831</td>\n",
       "      <td>f</td>\n",
       "      <td>1.0</td>\n",
       "      <td>t</td>\n",
       "      <td>t</td>\n",
       "      <td>40.68494</td>\n",
       "      <td>-73.95765</td>\n",
       "      <td>Other</td>\n",
       "      <td>Entire home/apt</td>\n",
       "      <td>3</td>\n",
       "      <td>1 bath</td>\n",
       "      <td>1.000000</td>\n",
       "      <td>3.0</td>\n",
       "      <td>[\"Bathtub\", \"Smoke alarm\", \"Dishes and silverw...</td>\n",
       "      <td>76.0</td>\n",
       "      <td>1</td>\n",
       "      <td>730</td>\n",
       "      <td>t</td>\n",
       "      <td>198</td>\n",
       "      <td>396</td>\n",
       "      <td>f</td>\n",
       "      <td>1</td>\n",
       "    </tr>\n",
       "    <tr>\n",
       "      <th>2</th>\n",
       "      <td>5121</td>\n",
       "      <td>f</td>\n",
       "      <td>1.0</td>\n",
       "      <td>t</td>\n",
       "      <td>t</td>\n",
       "      <td>40.68535</td>\n",
       "      <td>-73.95512</td>\n",
       "      <td>Room</td>\n",
       "      <td>Private room</td>\n",
       "      <td>2</td>\n",
       "      <td>NaN</td>\n",
       "      <td>1.000000</td>\n",
       "      <td>1.0</td>\n",
       "      <td>[\"Kitchen\", \"Heating\", \"Wifi\", \"Long term stay...</td>\n",
       "      <td>60.0</td>\n",
       "      <td>30</td>\n",
       "      <td>730</td>\n",
       "      <td>t</td>\n",
       "      <td>365</td>\n",
       "      <td>50</td>\n",
       "      <td>f</td>\n",
       "      <td>1</td>\n",
       "    </tr>\n",
       "  </tbody>\n",
       "</table>\n",
       "</div>"
      ],
      "text/plain": [
       "     id host_is_superhost  host_listings_count host_has_profile_pic  \\\n",
       "0  2595                 f                  6.0                    t   \n",
       "1  3831                 f                  1.0                    t   \n",
       "2  5121                 f                  1.0                    t   \n",
       "\n",
       "  host_identity_verified  latitude  longitude property_type        room_type  \\\n",
       "0                      t  40.75356  -73.98559     Apartment  Entire home/apt   \n",
       "1                      t  40.68494  -73.95765         Other  Entire home/apt   \n",
       "2                      t  40.68535  -73.95512          Room     Private room   \n",
       "\n",
       "   accommodates bathrooms_text  bedrooms  beds  \\\n",
       "0             2         1 bath  1.318137   1.0   \n",
       "1             3         1 bath  1.000000   3.0   \n",
       "2             2            NaN  1.000000   1.0   \n",
       "\n",
       "                                           amenities  price  minimum_nights  \\\n",
       "0  [\"Refrigerator\", \"Essentials\", \"Cleaning befor...  150.0              30   \n",
       "1  [\"Bathtub\", \"Smoke alarm\", \"Dishes and silverw...   76.0               1   \n",
       "2  [\"Kitchen\", \"Heating\", \"Wifi\", \"Long term stay...   60.0              30   \n",
       "\n",
       "   maximum_nights has_availability  availability_365  number_of_reviews  \\\n",
       "0            1125                t               365                 48   \n",
       "1             730                t               198                396   \n",
       "2             730                t               365                 50   \n",
       "\n",
       "  instant_bookable  calculated_host_listings_count  \n",
       "0                f                               3  \n",
       "1                f                               1  \n",
       "2                f                               1  "
      ]
     },
     "execution_count": 24,
     "metadata": {},
     "output_type": "execute_result"
    }
   ],
   "source": [
    "listings.head(3)"
   ]
  },
  {
   "cell_type": "markdown",
   "metadata": {},
   "source": [
    "#### 6. Replacing f, t"
   ]
  },
  {
   "cell_type": "code",
   "execution_count": 25,
   "metadata": {},
   "outputs": [],
   "source": [
    "listings.replace({'f': 0, 't': 1}, inplace=True)"
   ]
  },
  {
   "cell_type": "markdown",
   "metadata": {},
   "source": [
    "#### 7. Bathrooms"
   ]
  },
  {
   "cell_type": "code",
   "execution_count": 26,
   "metadata": {},
   "outputs": [
    {
     "data": {
      "text/plain": [
       "1 bath               19005\n",
       "1 shared bath         9377\n",
       "2 baths               2153\n",
       "1 private bath        2134\n",
       "2 shared baths        1097\n",
       "1.5 baths             1054\n",
       "1.5 shared baths       737\n",
       "2.5 baths              292\n",
       "3 baths                224\n",
       "0 shared baths         173\n",
       "3 shared baths         111\n",
       "2.5 shared baths        89\n",
       "3.5 baths               66\n",
       "4 baths                 54\n",
       "4 shared baths          44\n",
       "0 baths                 38\n",
       "Half-bath               34\n",
       "Shared half-bath        20\n",
       "4.5 baths               19\n",
       "Private half-bath       16\n",
       "5 baths                 10\n",
       "6 baths                  7\n",
       "6 shared baths           7\n",
       "5.5 baths                5\n",
       "8 baths                  4\n",
       "4.5 shared baths         3\n",
       "6.5 shared baths         3\n",
       "7.5 baths                3\n",
       "3.5 shared baths         3\n",
       "5 shared baths           2\n",
       "7 baths                  2\n",
       "5.5 shared baths         1\n",
       "7 shared baths           1\n",
       "15.5 baths               1\n",
       "6.5 baths                1\n",
       "9.5 baths                1\n",
       "Name: bathrooms_text, dtype: int64"
      ]
     },
     "execution_count": 26,
     "metadata": {},
     "output_type": "execute_result"
    }
   ],
   "source": [
    "listings['bathrooms_text'].value_counts()"
   ]
  },
  {
   "cell_type": "code",
   "execution_count": 27,
   "metadata": {},
   "outputs": [
    {
     "data": {
      "text/html": [
       "<div>\n",
       "<style scoped>\n",
       "    .dataframe tbody tr th:only-of-type {\n",
       "        vertical-align: middle;\n",
       "    }\n",
       "\n",
       "    .dataframe tbody tr th {\n",
       "        vertical-align: top;\n",
       "    }\n",
       "\n",
       "    .dataframe thead th {\n",
       "        text-align: right;\n",
       "    }\n",
       "</style>\n",
       "<table border=\"1\" class=\"dataframe\">\n",
       "  <thead>\n",
       "    <tr style=\"text-align: right;\">\n",
       "      <th></th>\n",
       "      <th>id</th>\n",
       "    </tr>\n",
       "    <tr>\n",
       "      <th>bathroom_type</th>\n",
       "      <th></th>\n",
       "    </tr>\n",
       "  </thead>\n",
       "  <tbody>\n",
       "    <tr>\n",
       "      <th>Private</th>\n",
       "      <td>25257</td>\n",
       "    </tr>\n",
       "    <tr>\n",
       "      <th>Shared</th>\n",
       "      <td>11648</td>\n",
       "    </tr>\n",
       "    <tr>\n",
       "      <th>All</th>\n",
       "      <td>36905</td>\n",
       "    </tr>\n",
       "  </tbody>\n",
       "</table>\n",
       "</div>"
      ],
      "text/plain": [
       "                  id\n",
       "bathroom_type       \n",
       "Private        25257\n",
       "Shared         11648\n",
       "All            36905"
      ]
     },
     "execution_count": 27,
     "metadata": {},
     "output_type": "execute_result"
    }
   ],
   "source": [
    "listings['bathroom_type']=0\n",
    "listings.bathrooms_text=listings.bathrooms_text.fillna('No data')\n",
    "listings.loc[listings.bathrooms_text.str.contains('shared'), 'bathroom_type']='Shared'\n",
    "listings.loc[~listings.bathrooms_text.str.contains('shared'), 'bathroom_type']='Private' #No compartido igual a privado\n",
    "listings.pivot_table(index='bathroom_type', values='id', aggfunc='count', margins=True)"
   ]
  },
  {
   "cell_type": "code",
   "execution_count": 28,
   "metadata": {},
   "outputs": [
    {
     "data": {
      "text/plain": [
       "0       1 bath\n",
       "1       1 bath\n",
       "2      No data\n",
       "3    1.5 baths\n",
       "4       1 bath\n",
       "Name: bathrooms_text, dtype: object"
      ]
     },
     "execution_count": 28,
     "metadata": {},
     "output_type": "execute_result"
    }
   ],
   "source": [
    "listings['bathrooms_text'].head(5)"
   ]
  },
  {
   "cell_type": "code",
   "execution_count": 29,
   "metadata": {},
   "outputs": [],
   "source": [
    "listings['t_bathrooms']=listings['bathrooms_text'].str.extract('(^\\d*[.,]?\\d)', expand=True).astype('float')\n",
    "listings['t_bathrooms']=listings['t_bathrooms'].fillna(0.5)"
   ]
  },
  {
   "cell_type": "code",
   "execution_count": 30,
   "metadata": {},
   "outputs": [
    {
     "data": {
      "text/html": [
       "<div>\n",
       "<style scoped>\n",
       "    .dataframe tbody tr th:only-of-type {\n",
       "        vertical-align: middle;\n",
       "    }\n",
       "\n",
       "    .dataframe tbody tr th {\n",
       "        vertical-align: top;\n",
       "    }\n",
       "\n",
       "    .dataframe thead th {\n",
       "        text-align: right;\n",
       "    }\n",
       "</style>\n",
       "<table border=\"1\" class=\"dataframe\">\n",
       "  <thead>\n",
       "    <tr style=\"text-align: right;\">\n",
       "      <th></th>\n",
       "      <th>t_bathrooms</th>\n",
       "      <th>id</th>\n",
       "    </tr>\n",
       "  </thead>\n",
       "  <tbody>\n",
       "    <tr>\n",
       "      <th>0</th>\n",
       "      <td>0.0</td>\n",
       "      <td>211</td>\n",
       "    </tr>\n",
       "    <tr>\n",
       "      <th>1</th>\n",
       "      <td>0.5</td>\n",
       "      <td>184</td>\n",
       "    </tr>\n",
       "    <tr>\n",
       "      <th>2</th>\n",
       "      <td>1.0</td>\n",
       "      <td>30516</td>\n",
       "    </tr>\n",
       "    <tr>\n",
       "      <th>3</th>\n",
       "      <td>1.5</td>\n",
       "      <td>1791</td>\n",
       "    </tr>\n",
       "    <tr>\n",
       "      <th>4</th>\n",
       "      <td>2.0</td>\n",
       "      <td>3250</td>\n",
       "    </tr>\n",
       "    <tr>\n",
       "      <th>5</th>\n",
       "      <td>2.5</td>\n",
       "      <td>381</td>\n",
       "    </tr>\n",
       "    <tr>\n",
       "      <th>6</th>\n",
       "      <td>3.0</td>\n",
       "      <td>335</td>\n",
       "    </tr>\n",
       "    <tr>\n",
       "      <th>7</th>\n",
       "      <td>3.5</td>\n",
       "      <td>69</td>\n",
       "    </tr>\n",
       "    <tr>\n",
       "      <th>8</th>\n",
       "      <td>4.0</td>\n",
       "      <td>98</td>\n",
       "    </tr>\n",
       "    <tr>\n",
       "      <th>9</th>\n",
       "      <td>4.5</td>\n",
       "      <td>22</td>\n",
       "    </tr>\n",
       "    <tr>\n",
       "      <th>10</th>\n",
       "      <td>5.0</td>\n",
       "      <td>12</td>\n",
       "    </tr>\n",
       "    <tr>\n",
       "      <th>11</th>\n",
       "      <td>5.5</td>\n",
       "      <td>6</td>\n",
       "    </tr>\n",
       "    <tr>\n",
       "      <th>12</th>\n",
       "      <td>6.0</td>\n",
       "      <td>14</td>\n",
       "    </tr>\n",
       "    <tr>\n",
       "      <th>13</th>\n",
       "      <td>6.5</td>\n",
       "      <td>4</td>\n",
       "    </tr>\n",
       "    <tr>\n",
       "      <th>14</th>\n",
       "      <td>7.0</td>\n",
       "      <td>3</td>\n",
       "    </tr>\n",
       "    <tr>\n",
       "      <th>15</th>\n",
       "      <td>7.5</td>\n",
       "      <td>3</td>\n",
       "    </tr>\n",
       "    <tr>\n",
       "      <th>16</th>\n",
       "      <td>8.0</td>\n",
       "      <td>4</td>\n",
       "    </tr>\n",
       "    <tr>\n",
       "      <th>17</th>\n",
       "      <td>9.5</td>\n",
       "      <td>1</td>\n",
       "    </tr>\n",
       "    <tr>\n",
       "      <th>18</th>\n",
       "      <td>15.5</td>\n",
       "      <td>1</td>\n",
       "    </tr>\n",
       "  </tbody>\n",
       "</table>\n",
       "</div>"
      ],
      "text/plain": [
       "    t_bathrooms     id\n",
       "0           0.0    211\n",
       "1           0.5    184\n",
       "2           1.0  30516\n",
       "3           1.5   1791\n",
       "4           2.0   3250\n",
       "5           2.5    381\n",
       "6           3.0    335\n",
       "7           3.5     69\n",
       "8           4.0     98\n",
       "9           4.5     22\n",
       "10          5.0     12\n",
       "11          5.5      6\n",
       "12          6.0     14\n",
       "13          6.5      4\n",
       "14          7.0      3\n",
       "15          7.5      3\n",
       "16          8.0      4\n",
       "17          9.5      1\n",
       "18         15.5      1"
      ]
     },
     "execution_count": 30,
     "metadata": {},
     "output_type": "execute_result"
    }
   ],
   "source": [
    "import matplotlib.pyplot as plt\n",
    "p=listings.pivot_table(index='t_bathrooms', values='id', aggfunc='count').reset_index()\n",
    "p['t_bathrooms']=p['t_bathrooms'].astype(float)\n",
    "p=p.sort_values(by='t_bathrooms')\n",
    "p"
   ]
  },
  {
   "cell_type": "code",
   "execution_count": 31,
   "metadata": {},
   "outputs": [
    {
     "data": {
      "text/plain": [
       "count    36905.000000\n",
       "mean         1.159409\n",
       "std          0.474093\n",
       "min          0.000000\n",
       "25%          1.000000\n",
       "50%          1.000000\n",
       "75%          1.000000\n",
       "max         15.500000\n",
       "Name: t_bathrooms, dtype: float64"
      ]
     },
     "execution_count": 31,
     "metadata": {},
     "output_type": "execute_result"
    }
   ],
   "source": [
    "listings['t_bathrooms'].describe()"
   ]
  },
  {
   "cell_type": "markdown",
   "metadata": {},
   "source": [
    "### Amenities"
   ]
  },
  {
   "cell_type": "code",
   "execution_count": 32,
   "metadata": {},
   "outputs": [
    {
     "data": {
      "text/plain": [
       "36900    [\"Kitchen\", \"Security cameras on property\", \"T...\n",
       "36901    [\"Refrigerator\", \"Essentials\", \"Long term stay...\n",
       "36902    [\"Kitchen\", \"Refrigerator\", \"TV\", \"Hot water\",...\n",
       "36903    [\"Refrigerator\", \"Essentials\", \"Long term stay...\n",
       "36904    [\"Essentials\", \"Dryer\", \"Long term stays allow...\n",
       "Name: amenities, dtype: object"
      ]
     },
     "execution_count": 32,
     "metadata": {},
     "output_type": "execute_result"
    }
   ],
   "source": [
    "listings.amenities.tail()"
   ]
  },
  {
   "cell_type": "code",
   "execution_count": 33,
   "metadata": {},
   "outputs": [],
   "source": [
    "anemities_t=set(listings.amenities)\n",
    "i=0\n",
    "nuevas=[]\n",
    "for item in anemities_t:\n",
    "    nuevas.append(item.split(','))"
   ]
  },
  {
   "cell_type": "code",
   "execution_count": 34,
   "metadata": {},
   "outputs": [
    {
     "data": {
      "text/plain": [
       "['[\"Cable TV\"', ' \"Refrigerator\"', ' \"Shower gel\"', ' \"Essentials\"']"
      ]
     },
     "execution_count": 34,
     "metadata": {},
     "output_type": "execute_result"
    }
   ],
   "source": [
    "nuevas[0][:4]"
   ]
  },
  {
   "cell_type": "code",
   "execution_count": 35,
   "metadata": {},
   "outputs": [
    {
     "data": {
      "text/plain": [
       "31447"
      ]
     },
     "execution_count": 35,
     "metadata": {},
     "output_type": "execute_result"
    }
   ],
   "source": [
    "len(nuevas)"
   ]
  },
  {
   "cell_type": "code",
   "execution_count": 36,
   "metadata": {},
   "outputs": [],
   "source": [
    "f_amenities=[]\n",
    "for sub_lista in nuevas:\n",
    "    for amenity in sub_lista:\n",
    "        if amenity in f_amenities:\n",
    "            continue\n",
    "        else: f_amenities.append(amenity)"
   ]
  },
  {
   "cell_type": "code",
   "execution_count": 37,
   "metadata": {},
   "outputs": [
    {
     "data": {
      "text/plain": [
       "['[\"Cable TV\"', ' \"Refrigerator\"', ' \"Shower gel\"', ' \"Essentials\"']"
      ]
     },
     "execution_count": 37,
     "metadata": {},
     "output_type": "execute_result"
    }
   ],
   "source": [
    "f_amenities[0:4]"
   ]
  },
  {
   "cell_type": "code",
   "execution_count": 38,
   "metadata": {},
   "outputs": [
    {
     "data": {
      "text/plain": [
       "1216"
      ]
     },
     "execution_count": 38,
     "metadata": {},
     "output_type": "execute_result"
    }
   ],
   "source": [
    "len(f_amenities)"
   ]
  },
  {
   "cell_type": "code",
   "execution_count": 39,
   "metadata": {},
   "outputs": [],
   "source": [
    "for element in range(len(f_amenities)):\n",
    "    f_amenities[element]=f_amenities[element].replace('[\"','')\n",
    "    f_amenities[element]=f_amenities[element].replace('\"]','')\n",
    "    f_amenities[element]=f_amenities[element].replace('\"','')\n",
    "    f_amenities[element]=f_amenities[element].lstrip(' ') #remueve el espacio de la izquierda\n",
    "    f_amenities[element]=f_amenities[element].lower()"
   ]
  },
  {
   "cell_type": "code",
   "execution_count": 40,
   "metadata": {},
   "outputs": [
    {
     "data": {
      "text/plain": [
       "['cable tv', 'refrigerator', 'shower gel', 'essentials']"
      ]
     },
     "execution_count": 40,
     "metadata": {},
     "output_type": "execute_result"
    }
   ],
   "source": [
    "f_amenities[0:4]"
   ]
  },
  {
   "cell_type": "code",
   "execution_count": 41,
   "metadata": {},
   "outputs": [
    {
     "name": "stdout",
     "output_type": "stream",
     "text": [
      "928\n"
     ]
    }
   ],
   "source": [
    "amenity_list=list(dict.fromkeys(f_amenities))\n",
    "print(len(amenity_list))"
   ]
  },
  {
   "cell_type": "code",
   "execution_count": 42,
   "metadata": {},
   "outputs": [
    {
     "data": {
      "text/plain": [
       "['cable tv',\n",
       " 'refrigerator',\n",
       " 'shower gel',\n",
       " 'essentials',\n",
       " 'patio or balcony',\n",
       " 'long term stays allowed',\n",
       " 'freezer',\n",
       " 'luggage dropoff allowed',\n",
       " 'laundromat nearby',\n",
       " 'first aid kit']"
      ]
     },
     "execution_count": 42,
     "metadata": {},
     "output_type": "execute_result"
    }
   ],
   "source": [
    "amenity_list[0:10]"
   ]
  },
  {
   "cell_type": "code",
   "execution_count": 43,
   "metadata": {},
   "outputs": [
    {
     "data": {
      "text/plain": [
       "id                                  int64\n",
       "host_is_superhost                 float64\n",
       "host_listings_count               float64\n",
       "host_has_profile_pic              float64\n",
       "host_identity_verified            float64\n",
       "latitude                          float64\n",
       "longitude                         float64\n",
       "property_type                      object\n",
       "room_type                          object\n",
       "accommodates                        int64\n",
       "bathrooms_text                     object\n",
       "bedrooms                          float64\n",
       "beds                              float64\n",
       "amenities                          object\n",
       "price                             float64\n",
       "minimum_nights                      int64\n",
       "maximum_nights                      int64\n",
       "has_availability                    int64\n",
       "availability_365                    int64\n",
       "number_of_reviews                   int64\n",
       "instant_bookable                    int64\n",
       "calculated_host_listings_count      int64\n",
       "bathroom_type                      object\n",
       "t_bathrooms                       float64\n",
       "dtype: object"
      ]
     },
     "execution_count": 43,
     "metadata": {},
     "output_type": "execute_result"
    }
   ],
   "source": [
    "listings.dtypes"
   ]
  },
  {
   "cell_type": "markdown",
   "metadata": {},
   "source": [
    "##### Listings amenities in lower case"
   ]
  },
  {
   "cell_type": "code",
   "execution_count": 44,
   "metadata": {},
   "outputs": [
    {
     "name": "stdout",
     "output_type": "stream",
     "text": [
      "\n",
      "Tiempo de ejecución: 0.0 minutos\n"
     ]
    }
   ],
   "source": [
    "time_start = time.time()\n",
    "listings=listings.apply(lambda x: x.astype(str).str.lower())\n",
    "time_end = time.time()\n",
    "print(f\"\\nTiempo de ejecución: {round((time_end - time_start)/60,1)} minutos\")"
   ]
  },
  {
   "cell_type": "code",
   "execution_count": 45,
   "metadata": {},
   "outputs": [
    {
     "data": {
      "text/plain": [
       "0    [\"refrigerator\", \"essentials\", \"cleaning befor...\n",
       "1    [\"bathtub\", \"smoke alarm\", \"dishes and silverw...\n",
       "2    [\"kitchen\", \"heating\", \"wifi\", \"long term stay...\n",
       "3    [\"kitchen\", \"cable tv\", \"tv\", \"carbon monoxide...\n",
       "4    [\"heating\", \"bed linens\", \"tv\", \"iron\", \"free ...\n",
       "Name: amenities, dtype: object"
      ]
     },
     "execution_count": 45,
     "metadata": {},
     "output_type": "execute_result"
    }
   ],
   "source": [
    "listings.amenities.head()"
   ]
  },
  {
   "cell_type": "code",
   "execution_count": 46,
   "metadata": {},
   "outputs": [
    {
     "data": {
      "text/plain": [
       "{'cable tv': 2,\n",
       " 'refrigerator': 3,\n",
       " 'essentials': 3,\n",
       " 'long term stays allowed': 4,\n",
       " 'luggage dropoff allowed': 3}"
      ]
     },
     "execution_count": 46,
     "metadata": {},
     "output_type": "execute_result"
    }
   ],
   "source": [
    "## Ensayando con el diccionary en una muestra\n",
    "listing=listings.head()\n",
    "lista=amenity_list[0:10]\n",
    "amenities_dic={}\n",
    "\n",
    "amenities_dic={}\n",
    "for elemento in lista:\n",
    "    for row in range(len(listing)):\n",
    "        if listing.amenities.str.contains(elemento)[row]==True:\n",
    "            if elemento in amenities_dic.keys():\n",
    "                value=amenities_dic.get(elemento)\n",
    "                amenities_dic[elemento]=value+1\n",
    "            else: \n",
    "                amenities_dic[elemento]=1\n",
    "        else:\n",
    "            continue\n",
    "amenities_dic"
   ]
  },
  {
   "cell_type": "raw",
   "metadata": {},
   "source": [
    "#Se demoraria 3h :(\n",
    "time_start = time.time()\n",
    "\n",
    "amenities_dic={}\n",
    "for elemento in lista:\n",
    "    for row in range(len(listings)):\n",
    "        if listings.amenities.str.contains(elemento)[row]==True:\n",
    "            if elemento in amenities_dic.keys():\n",
    "                value=amenities_dic.get(elemento)\n",
    "                amenities_dic[elemento]=value+1\n",
    "            else: \n",
    "                amenities_dic[elemento]=1\n",
    "        else:\n",
    "            continue\n",
    "amenities_dic"
   ]
  },
  {
   "cell_type": "raw",
   "metadata": {},
   "source": [
    "time_end = time.time()\n",
    "print(f\"\\nTiempo de ejecución: {round((time_end - time_start)/60,1)} minutos\")"
   ]
  },
  {
   "cell_type": "markdown",
   "metadata": {},
   "source": [
    "The desired amenities were defined based on an article published by [Airbnb](\n",
    "https://www.airbnb.com/resources/hosting-homes/a/the-best-amenities-to-offer-right-now-203#:~:text=Guests%20are%20telling%20us%20that,know%20how%20to%20log%20on) in 2020."
   ]
  },
  {
   "cell_type": "code",
   "execution_count": 47,
   "metadata": {},
   "outputs": [],
   "source": [
    "desired_amenities=['wifi', 'air conditioning', 'kitchen', 'parking',\n",
    "                   'patio', 'barbecue', 'outdoor', 'games',\n",
    "                   'towels', 'gloves', 'sanitizer',\n",
    "                  'soap', 'shampoo']"
   ]
  },
  {
   "cell_type": "code",
   "execution_count": 48,
   "metadata": {},
   "outputs": [],
   "source": [
    "for elemento in desired_amenities:\n",
    "    listings['am_'+elemento]=listings.amenities.str.contains(elemento)"
   ]
  },
  {
   "cell_type": "code",
   "execution_count": 49,
   "metadata": {},
   "outputs": [
    {
     "data": {
      "text/plain": [
       "'[\"refrigerator\", \"essentials\", \"cleaning before checkout\", \"long term stays allowed\", \"luggage dropoff allowed\", \"baking sheet\", \"dishes and silverware\", \"kitchen\", \"keypad\", \"tv\", \"heating\", \"fire extinguisher\", \"paid parking off premises\", \"free street parking\", \"cooking basics\", \"bathtub\", \"stove\", \"ethernet connection\", \"hot water\", \"wifi\", \"hair dryer\", \"dedicated workspace\", \"iron\", \"extra pillows and blankets\", \"coffee maker\", \"carbon monoxide alarm\", \"hangers\", \"smoke alarm\", \"oven\", \"bed linens\", \"air conditioning\"]'"
      ]
     },
     "execution_count": 49,
     "metadata": {},
     "output_type": "execute_result"
    }
   ],
   "source": [
    "listings.amenities[0]"
   ]
  },
  {
   "cell_type": "code",
   "execution_count": 50,
   "metadata": {},
   "outputs": [
    {
     "data": {
      "text/html": [
       "<div>\n",
       "<style scoped>\n",
       "    .dataframe tbody tr th:only-of-type {\n",
       "        vertical-align: middle;\n",
       "    }\n",
       "\n",
       "    .dataframe tbody tr th {\n",
       "        vertical-align: top;\n",
       "    }\n",
       "\n",
       "    .dataframe thead th {\n",
       "        text-align: right;\n",
       "    }\n",
       "</style>\n",
       "<table border=\"1\" class=\"dataframe\">\n",
       "  <thead>\n",
       "    <tr style=\"text-align: right;\">\n",
       "      <th></th>\n",
       "      <th>am_wifi</th>\n",
       "      <th>am_air conditioning</th>\n",
       "      <th>am_kitchen</th>\n",
       "      <th>am_parking</th>\n",
       "      <th>am_patio</th>\n",
       "      <th>am_barbecue</th>\n",
       "      <th>am_outdoor</th>\n",
       "      <th>am_games</th>\n",
       "      <th>am_towels</th>\n",
       "      <th>am_gloves</th>\n",
       "      <th>am_sanitizer</th>\n",
       "      <th>am_soap</th>\n",
       "      <th>am_shampoo</th>\n",
       "    </tr>\n",
       "  </thead>\n",
       "  <tbody>\n",
       "    <tr>\n",
       "      <th>0</th>\n",
       "      <td>True</td>\n",
       "      <td>True</td>\n",
       "      <td>True</td>\n",
       "      <td>True</td>\n",
       "      <td>False</td>\n",
       "      <td>False</td>\n",
       "      <td>False</td>\n",
       "      <td>False</td>\n",
       "      <td>False</td>\n",
       "      <td>False</td>\n",
       "      <td>False</td>\n",
       "      <td>False</td>\n",
       "      <td>False</td>\n",
       "    </tr>\n",
       "  </tbody>\n",
       "</table>\n",
       "</div>"
      ],
      "text/plain": [
       "   am_wifi  am_air conditioning  am_kitchen  am_parking  am_patio  \\\n",
       "0     True                 True        True        True     False   \n",
       "\n",
       "   am_barbecue  am_outdoor  am_games  am_towels  am_gloves  am_sanitizer  \\\n",
       "0        False       False     False      False      False         False   \n",
       "\n",
       "   am_soap  am_shampoo  \n",
       "0    False       False  "
      ]
     },
     "execution_count": 50,
     "metadata": {},
     "output_type": "execute_result"
    }
   ],
   "source": [
    "listings[listings.columns[listings.columns.str.contains('am_')]].head(1)"
   ]
  },
  {
   "cell_type": "code",
   "execution_count": null,
   "metadata": {},
   "outputs": [],
   "source": [
    "listings.shape"
   ]
  },
  {
   "cell_type": "code",
   "execution_count": 51,
   "metadata": {},
   "outputs": [
    {
     "name": "stdout",
     "output_type": "stream",
     "text": [
      "Luego de remover las columnas con un valor único, permanecen 34 columnas\n"
     ]
    }
   ],
   "source": [
    "for col in listings.columns: ##Eliminando las columnas que tienen un solo valor \n",
    "    if len(listings[col].unique()) == 1:\n",
    "        listings.drop(col,inplace=True,axis=1)\n",
    "        \n",
    "print(f'Luego de remover las columnas con un valor único, permanecen {len(listings.columns)} columnas')"
   ]
  },
  {
   "cell_type": "markdown",
   "metadata": {},
   "source": [
    "#### 6. Reemplazando False and True por 0,1"
   ]
  },
  {
   "cell_type": "code",
   "execution_count": 52,
   "metadata": {},
   "outputs": [],
   "source": [
    "listings.replace({False: 0, True: 1}, inplace=True)"
   ]
  },
  {
   "cell_type": "markdown",
   "metadata": {},
   "source": [
    "#### 8. Generando dummies de variables categóricas"
   ]
  },
  {
   "cell_type": "code",
   "execution_count": 53,
   "metadata": {},
   "outputs": [],
   "source": [
    "listings=pd.concat([listings, pd.get_dummies(listings['property_type'])], axis=1) \n",
    "listings=pd.concat([listings, pd.get_dummies(listings['room_type'])], axis=1) \n",
    "listings=pd.concat([listings, pd.get_dummies(listings['bathroom_type'])], axis=1) "
   ]
  },
  {
   "cell_type": "code",
   "execution_count": 54,
   "metadata": {},
   "outputs": [
    {
     "data": {
      "text/html": [
       "<div>\n",
       "<style scoped>\n",
       "    .dataframe tbody tr th:only-of-type {\n",
       "        vertical-align: middle;\n",
       "    }\n",
       "\n",
       "    .dataframe tbody tr th {\n",
       "        vertical-align: top;\n",
       "    }\n",
       "\n",
       "    .dataframe thead th {\n",
       "        text-align: right;\n",
       "    }\n",
       "</style>\n",
       "<table border=\"1\" class=\"dataframe\">\n",
       "  <thead>\n",
       "    <tr style=\"text-align: right;\">\n",
       "      <th></th>\n",
       "      <th>id</th>\n",
       "      <th>host_is_superhost</th>\n",
       "      <th>host_listings_count</th>\n",
       "      <th>host_has_profile_pic</th>\n",
       "      <th>host_identity_verified</th>\n",
       "      <th>latitude</th>\n",
       "      <th>longitude</th>\n",
       "      <th>property_type</th>\n",
       "      <th>room_type</th>\n",
       "      <th>accommodates</th>\n",
       "      <th>bathrooms_text</th>\n",
       "      <th>bedrooms</th>\n",
       "      <th>beds</th>\n",
       "      <th>amenities</th>\n",
       "      <th>price</th>\n",
       "      <th>minimum_nights</th>\n",
       "      <th>maximum_nights</th>\n",
       "      <th>has_availability</th>\n",
       "      <th>availability_365</th>\n",
       "      <th>number_of_reviews</th>\n",
       "      <th>instant_bookable</th>\n",
       "      <th>calculated_host_listings_count</th>\n",
       "      <th>bathroom_type</th>\n",
       "      <th>t_bathrooms</th>\n",
       "      <th>am_wifi</th>\n",
       "      <th>am_air conditioning</th>\n",
       "      <th>am_kitchen</th>\n",
       "      <th>am_parking</th>\n",
       "      <th>am_patio</th>\n",
       "      <th>am_barbecue</th>\n",
       "      <th>am_outdoor</th>\n",
       "      <th>am_games</th>\n",
       "      <th>am_soap</th>\n",
       "      <th>am_shampoo</th>\n",
       "      <th>apartment</th>\n",
       "      <th>house</th>\n",
       "      <th>other</th>\n",
       "      <th>room</th>\n",
       "      <th>entire home/apt</th>\n",
       "      <th>private room</th>\n",
       "      <th>shared room</th>\n",
       "      <th>private</th>\n",
       "      <th>shared</th>\n",
       "    </tr>\n",
       "  </thead>\n",
       "  <tbody>\n",
       "    <tr>\n",
       "      <th>0</th>\n",
       "      <td>2595</td>\n",
       "      <td>0.0</td>\n",
       "      <td>6.0</td>\n",
       "      <td>1.0</td>\n",
       "      <td>1.0</td>\n",
       "      <td>40.75356</td>\n",
       "      <td>-73.98559</td>\n",
       "      <td>apartment</td>\n",
       "      <td>entire home/apt</td>\n",
       "      <td>2</td>\n",
       "      <td>1 bath</td>\n",
       "      <td>1.3181366796063916</td>\n",
       "      <td>1.0</td>\n",
       "      <td>[\"refrigerator\", \"essentials\", \"cleaning befor...</td>\n",
       "      <td>150.0</td>\n",
       "      <td>30</td>\n",
       "      <td>1125</td>\n",
       "      <td>1</td>\n",
       "      <td>365</td>\n",
       "      <td>48</td>\n",
       "      <td>0</td>\n",
       "      <td>3</td>\n",
       "      <td>private</td>\n",
       "      <td>1.0</td>\n",
       "      <td>1</td>\n",
       "      <td>1</td>\n",
       "      <td>1</td>\n",
       "      <td>1</td>\n",
       "      <td>0</td>\n",
       "      <td>0</td>\n",
       "      <td>0</td>\n",
       "      <td>0</td>\n",
       "      <td>0</td>\n",
       "      <td>0</td>\n",
       "      <td>1</td>\n",
       "      <td>0</td>\n",
       "      <td>0</td>\n",
       "      <td>0</td>\n",
       "      <td>1</td>\n",
       "      <td>0</td>\n",
       "      <td>0</td>\n",
       "      <td>1</td>\n",
       "      <td>0</td>\n",
       "    </tr>\n",
       "    <tr>\n",
       "      <th>1</th>\n",
       "      <td>3831</td>\n",
       "      <td>0.0</td>\n",
       "      <td>1.0</td>\n",
       "      <td>1.0</td>\n",
       "      <td>1.0</td>\n",
       "      <td>40.684940000000005</td>\n",
       "      <td>-73.95765</td>\n",
       "      <td>other</td>\n",
       "      <td>entire home/apt</td>\n",
       "      <td>3</td>\n",
       "      <td>1 bath</td>\n",
       "      <td>1.0</td>\n",
       "      <td>3.0</td>\n",
       "      <td>[\"bathtub\", \"smoke alarm\", \"dishes and silverw...</td>\n",
       "      <td>76.0</td>\n",
       "      <td>1</td>\n",
       "      <td>730</td>\n",
       "      <td>1</td>\n",
       "      <td>198</td>\n",
       "      <td>396</td>\n",
       "      <td>0</td>\n",
       "      <td>1</td>\n",
       "      <td>private</td>\n",
       "      <td>1.0</td>\n",
       "      <td>1</td>\n",
       "      <td>1</td>\n",
       "      <td>1</td>\n",
       "      <td>1</td>\n",
       "      <td>0</td>\n",
       "      <td>0</td>\n",
       "      <td>0</td>\n",
       "      <td>0</td>\n",
       "      <td>0</td>\n",
       "      <td>1</td>\n",
       "      <td>0</td>\n",
       "      <td>0</td>\n",
       "      <td>1</td>\n",
       "      <td>0</td>\n",
       "      <td>1</td>\n",
       "      <td>0</td>\n",
       "      <td>0</td>\n",
       "      <td>1</td>\n",
       "      <td>0</td>\n",
       "    </tr>\n",
       "  </tbody>\n",
       "</table>\n",
       "</div>"
      ],
      "text/plain": [
       "     id host_is_superhost host_listings_count host_has_profile_pic  \\\n",
       "0  2595               0.0                 6.0                  1.0   \n",
       "1  3831               0.0                 1.0                  1.0   \n",
       "\n",
       "  host_identity_verified            latitude  longitude property_type  \\\n",
       "0                    1.0            40.75356  -73.98559     apartment   \n",
       "1                    1.0  40.684940000000005  -73.95765         other   \n",
       "\n",
       "         room_type accommodates bathrooms_text            bedrooms beds  \\\n",
       "0  entire home/apt            2         1 bath  1.3181366796063916  1.0   \n",
       "1  entire home/apt            3         1 bath                 1.0  3.0   \n",
       "\n",
       "                                           amenities  price minimum_nights  \\\n",
       "0  [\"refrigerator\", \"essentials\", \"cleaning befor...  150.0             30   \n",
       "1  [\"bathtub\", \"smoke alarm\", \"dishes and silverw...   76.0              1   \n",
       "\n",
       "  maximum_nights has_availability availability_365 number_of_reviews  \\\n",
       "0           1125                1              365                48   \n",
       "1            730                1              198               396   \n",
       "\n",
       "  instant_bookable calculated_host_listings_count bathroom_type t_bathrooms  \\\n",
       "0                0                              3       private         1.0   \n",
       "1                0                              1       private         1.0   \n",
       "\n",
       "   am_wifi  am_air conditioning  am_kitchen  am_parking  am_patio  \\\n",
       "0        1                    1           1           1         0   \n",
       "1        1                    1           1           1         0   \n",
       "\n",
       "   am_barbecue  am_outdoor  am_games  am_soap  am_shampoo  apartment  house  \\\n",
       "0            0           0         0        0           0          1      0   \n",
       "1            0           0         0        0           1          0      0   \n",
       "\n",
       "   other  room  entire home/apt  private room  shared room  private  shared  \n",
       "0      0     0                1             0            0        1       0  \n",
       "1      1     0                1             0            0        1       0  "
      ]
     },
     "execution_count": 54,
     "metadata": {},
     "output_type": "execute_result"
    }
   ],
   "source": [
    "listings.head(2)"
   ]
  },
  {
   "cell_type": "code",
   "execution_count": 55,
   "metadata": {},
   "outputs": [],
   "source": [
    "var_categorical=['property_type', 'room_type','bathroom_type' ,'bathrooms_text','amenities' ]\n",
    "listings=listings.drop(var_categorical, axis=1)"
   ]
  },
  {
   "cell_type": "markdown",
   "metadata": {},
   "source": [
    "#### 9. Removiendo datos faltantes"
   ]
  },
  {
   "cell_type": "code",
   "execution_count": 56,
   "metadata": {},
   "outputs": [
    {
     "name": "stdout",
     "output_type": "stream",
     "text": [
      "Luego del preprocesamiento, permanece un 1.0000 del conjunto inicial\n"
     ]
    }
   ],
   "source": [
    "listings_final=listings.dropna()\n",
    "percentage=listings_final.shape[0]/listings.shape[0]\n",
    "print(f'Luego del preprocesamiento, permanece un {percentage:.4f} del conjunto inicial' , ) "
   ]
  },
  {
   "cell_type": "code",
   "execution_count": 57,
   "metadata": {},
   "outputs": [
    {
     "data": {
      "text/plain": [
       "(36905, 38)"
      ]
     },
     "execution_count": 57,
     "metadata": {},
     "output_type": "execute_result"
    }
   ],
   "source": [
    "listings_final.shape"
   ]
  },
  {
   "cell_type": "code",
   "execution_count": 58,
   "metadata": {},
   "outputs": [
    {
     "data": {
      "text/html": [
       "<div>\n",
       "<style scoped>\n",
       "    .dataframe tbody tr th:only-of-type {\n",
       "        vertical-align: middle;\n",
       "    }\n",
       "\n",
       "    .dataframe tbody tr th {\n",
       "        vertical-align: top;\n",
       "    }\n",
       "\n",
       "    .dataframe thead th {\n",
       "        text-align: right;\n",
       "    }\n",
       "</style>\n",
       "<table border=\"1\" class=\"dataframe\">\n",
       "  <thead>\n",
       "    <tr style=\"text-align: right;\">\n",
       "      <th></th>\n",
       "      <th>id</th>\n",
       "      <th>host_is_superhost</th>\n",
       "      <th>host_listings_count</th>\n",
       "      <th>host_has_profile_pic</th>\n",
       "      <th>host_identity_verified</th>\n",
       "      <th>latitude</th>\n",
       "      <th>longitude</th>\n",
       "      <th>accommodates</th>\n",
       "      <th>bedrooms</th>\n",
       "      <th>beds</th>\n",
       "      <th>price</th>\n",
       "      <th>minimum_nights</th>\n",
       "      <th>maximum_nights</th>\n",
       "      <th>has_availability</th>\n",
       "      <th>availability_365</th>\n",
       "      <th>number_of_reviews</th>\n",
       "      <th>instant_bookable</th>\n",
       "      <th>calculated_host_listings_count</th>\n",
       "      <th>t_bathrooms</th>\n",
       "      <th>am_wifi</th>\n",
       "      <th>am_air conditioning</th>\n",
       "      <th>am_kitchen</th>\n",
       "      <th>am_parking</th>\n",
       "      <th>am_patio</th>\n",
       "      <th>am_barbecue</th>\n",
       "      <th>am_outdoor</th>\n",
       "      <th>am_games</th>\n",
       "      <th>am_soap</th>\n",
       "      <th>am_shampoo</th>\n",
       "      <th>apartment</th>\n",
       "      <th>house</th>\n",
       "      <th>other</th>\n",
       "      <th>room</th>\n",
       "      <th>entire home/apt</th>\n",
       "      <th>private room</th>\n",
       "      <th>shared room</th>\n",
       "      <th>private</th>\n",
       "      <th>shared</th>\n",
       "    </tr>\n",
       "  </thead>\n",
       "  <tbody>\n",
       "    <tr>\n",
       "      <th>36902</th>\n",
       "      <td>49089765</td>\n",
       "      <td>0.0</td>\n",
       "      <td>0.0</td>\n",
       "      <td>1.0</td>\n",
       "      <td>1.0</td>\n",
       "      <td>40.72511</td>\n",
       "      <td>-73.98222</td>\n",
       "      <td>2</td>\n",
       "      <td>1.0</td>\n",
       "      <td>1.0</td>\n",
       "      <td>145.0</td>\n",
       "      <td>30</td>\n",
       "      <td>1125</td>\n",
       "      <td>1</td>\n",
       "      <td>300</td>\n",
       "      <td>0</td>\n",
       "      <td>0</td>\n",
       "      <td>3</td>\n",
       "      <td>1.0</td>\n",
       "      <td>1</td>\n",
       "      <td>1</td>\n",
       "      <td>1</td>\n",
       "      <td>1</td>\n",
       "      <td>0</td>\n",
       "      <td>0</td>\n",
       "      <td>0</td>\n",
       "      <td>0</td>\n",
       "      <td>0</td>\n",
       "      <td>0</td>\n",
       "      <td>1</td>\n",
       "      <td>0</td>\n",
       "      <td>0</td>\n",
       "      <td>0</td>\n",
       "      <td>1</td>\n",
       "      <td>0</td>\n",
       "      <td>0</td>\n",
       "      <td>1</td>\n",
       "      <td>0</td>\n",
       "    </tr>\n",
       "    <tr>\n",
       "      <th>36903</th>\n",
       "      <td>49091581</td>\n",
       "      <td>0.0</td>\n",
       "      <td>1.0</td>\n",
       "      <td>1.0</td>\n",
       "      <td>1.0</td>\n",
       "      <td>40.764559999999996</td>\n",
       "      <td>-73.98573</td>\n",
       "      <td>1</td>\n",
       "      <td>1.0</td>\n",
       "      <td>1.0</td>\n",
       "      <td>123.0</td>\n",
       "      <td>30</td>\n",
       "      <td>180</td>\n",
       "      <td>1</td>\n",
       "      <td>312</td>\n",
       "      <td>0</td>\n",
       "      <td>0</td>\n",
       "      <td>241</td>\n",
       "      <td>1.0</td>\n",
       "      <td>1</td>\n",
       "      <td>1</td>\n",
       "      <td>1</td>\n",
       "      <td>0</td>\n",
       "      <td>0</td>\n",
       "      <td>0</td>\n",
       "      <td>0</td>\n",
       "      <td>0</td>\n",
       "      <td>0</td>\n",
       "      <td>0</td>\n",
       "      <td>1</td>\n",
       "      <td>0</td>\n",
       "      <td>0</td>\n",
       "      <td>0</td>\n",
       "      <td>1</td>\n",
       "      <td>0</td>\n",
       "      <td>0</td>\n",
       "      <td>1</td>\n",
       "      <td>0</td>\n",
       "    </tr>\n",
       "    <tr>\n",
       "      <th>36904</th>\n",
       "      <td>49092532</td>\n",
       "      <td>0.0</td>\n",
       "      <td>18.0</td>\n",
       "      <td>1.0</td>\n",
       "      <td>1.0</td>\n",
       "      <td>40.770340000000004</td>\n",
       "      <td>-73.99305</td>\n",
       "      <td>6</td>\n",
       "      <td>2.0</td>\n",
       "      <td>3.0</td>\n",
       "      <td>299.0</td>\n",
       "      <td>30</td>\n",
       "      <td>85</td>\n",
       "      <td>1</td>\n",
       "      <td>175</td>\n",
       "      <td>0</td>\n",
       "      <td>0</td>\n",
       "      <td>10</td>\n",
       "      <td>2.0</td>\n",
       "      <td>1</td>\n",
       "      <td>1</td>\n",
       "      <td>1</td>\n",
       "      <td>0</td>\n",
       "      <td>0</td>\n",
       "      <td>0</td>\n",
       "      <td>0</td>\n",
       "      <td>0</td>\n",
       "      <td>0</td>\n",
       "      <td>1</td>\n",
       "      <td>1</td>\n",
       "      <td>0</td>\n",
       "      <td>0</td>\n",
       "      <td>0</td>\n",
       "      <td>1</td>\n",
       "      <td>0</td>\n",
       "      <td>0</td>\n",
       "      <td>1</td>\n",
       "      <td>0</td>\n",
       "    </tr>\n",
       "  </tbody>\n",
       "</table>\n",
       "</div>"
      ],
      "text/plain": [
       "             id host_is_superhost host_listings_count host_has_profile_pic  \\\n",
       "36902  49089765               0.0                 0.0                  1.0   \n",
       "36903  49091581               0.0                 1.0                  1.0   \n",
       "36904  49092532               0.0                18.0                  1.0   \n",
       "\n",
       "      host_identity_verified            latitude  longitude accommodates  \\\n",
       "36902                    1.0            40.72511  -73.98222            2   \n",
       "36903                    1.0  40.764559999999996  -73.98573            1   \n",
       "36904                    1.0  40.770340000000004  -73.99305            6   \n",
       "\n",
       "      bedrooms beds  price minimum_nights maximum_nights has_availability  \\\n",
       "36902      1.0  1.0  145.0             30           1125                1   \n",
       "36903      1.0  1.0  123.0             30            180                1   \n",
       "36904      2.0  3.0  299.0             30             85                1   \n",
       "\n",
       "      availability_365 number_of_reviews instant_bookable  \\\n",
       "36902              300                 0                0   \n",
       "36903              312                 0                0   \n",
       "36904              175                 0                0   \n",
       "\n",
       "      calculated_host_listings_count t_bathrooms  am_wifi  \\\n",
       "36902                              3         1.0        1   \n",
       "36903                            241         1.0        1   \n",
       "36904                             10         2.0        1   \n",
       "\n",
       "       am_air conditioning  am_kitchen  am_parking  am_patio  am_barbecue  \\\n",
       "36902                    1           1           1         0            0   \n",
       "36903                    1           1           0         0            0   \n",
       "36904                    1           1           0         0            0   \n",
       "\n",
       "       am_outdoor  am_games  am_soap  am_shampoo  apartment  house  other  \\\n",
       "36902           0         0        0           0          1      0      0   \n",
       "36903           0         0        0           0          1      0      0   \n",
       "36904           0         0        0           1          1      0      0   \n",
       "\n",
       "       room  entire home/apt  private room  shared room  private  shared  \n",
       "36902     0                1             0            0        1       0  \n",
       "36903     0                1             0            0        1       0  \n",
       "36904     0                1             0            0        1       0  "
      ]
     },
     "execution_count": 58,
     "metadata": {},
     "output_type": "execute_result"
    }
   ],
   "source": [
    "listings_final.tail(3)"
   ]
  },
  {
   "cell_type": "code",
   "execution_count": 59,
   "metadata": {},
   "outputs": [
    {
     "data": {
      "text/plain": [
       "id                                object\n",
       "host_is_superhost                 object\n",
       "host_listings_count               object\n",
       "host_has_profile_pic              object\n",
       "host_identity_verified            object\n",
       "latitude                          object\n",
       "longitude                         object\n",
       "accommodates                      object\n",
       "bedrooms                          object\n",
       "beds                              object\n",
       "price                             object\n",
       "minimum_nights                    object\n",
       "maximum_nights                    object\n",
       "has_availability                  object\n",
       "availability_365                  object\n",
       "number_of_reviews                 object\n",
       "instant_bookable                  object\n",
       "calculated_host_listings_count    object\n",
       "t_bathrooms                       object\n",
       "am_wifi                            int64\n",
       "am_air conditioning                int64\n",
       "am_kitchen                         int64\n",
       "am_parking                         int64\n",
       "am_patio                           int64\n",
       "am_barbecue                        int64\n",
       "am_outdoor                         int64\n",
       "am_games                           int64\n",
       "am_soap                            int64\n",
       "am_shampoo                         int64\n",
       "apartment                          uint8\n",
       "house                              uint8\n",
       "other                              uint8\n",
       "room                               uint8\n",
       "entire home/apt                    uint8\n",
       "private room                       uint8\n",
       "shared room                        uint8\n",
       "private                            uint8\n",
       "shared                             uint8\n",
       "dtype: object"
      ]
     },
     "execution_count": 59,
     "metadata": {},
     "output_type": "execute_result"
    }
   ],
   "source": [
    "listings.dtypes"
   ]
  },
  {
   "cell_type": "code",
   "execution_count": 60,
   "metadata": {},
   "outputs": [
    {
     "data": {
      "text/plain": [
       "(36905, 38)"
      ]
     },
     "execution_count": 60,
     "metadata": {},
     "output_type": "execute_result"
    }
   ],
   "source": [
    "listings_final.shape"
   ]
  },
  {
   "cell_type": "markdown",
   "metadata": {},
   "source": [
    "### 3. Dataset final"
   ]
  },
  {
   "cell_type": "code",
   "execution_count": 61,
   "metadata": {},
   "outputs": [],
   "source": [
    "listings_final.to_csv('Listings_clean.csv')"
   ]
  },
  {
   "cell_type": "code",
   "execution_count": null,
   "metadata": {},
   "outputs": [],
   "source": []
  },
  {
   "cell_type": "code",
   "execution_count": null,
   "metadata": {},
   "outputs": [],
   "source": []
  }
 ],
 "metadata": {
  "kernelspec": {
   "display_name": "Python 3",
   "language": "python",
   "name": "python3"
  },
  "language_info": {
   "codemirror_mode": {
    "name": "ipython",
    "version": 3
   },
   "file_extension": ".py",
   "mimetype": "text/x-python",
   "name": "python",
   "nbconvert_exporter": "python",
   "pygments_lexer": "ipython3",
   "version": "3.8.5"
  }
 },
 "nbformat": 4,
 "nbformat_minor": 4
}
